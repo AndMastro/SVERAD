{
 "cells": [
  {
   "attachments": {},
   "cell_type": "markdown",
   "metadata": {
    "collapsed": false,
    "pycharm": {
     "name": "#%% md\n"
    }
   },
   "source": [
    "# Shapley, SVERAD and SHAP values for a model system of low dimensionality."
   ]
  },
  {
   "cell_type": "code",
   "execution_count": 1,
   "metadata": {
    "collapsed": false,
    "pycharm": {
     "name": "#%%\n"
    }
   },
   "outputs": [],
   "source": [
    "from src.sverad_kernel import ExactRBFShapleyComputation, compute_sverad_sv, rbf_kernel\n",
    "from src.utils import set_seeds\n",
    "\n",
    "import matplotlib.pyplot as plt\n",
    "import numpy as np\n",
    "from numpy.random import default_rng\n",
    "import pandas as pd\n",
    "import pickle\n",
    "from scipy.stats import pearsonr\n",
    "from shap import KernelExplainer\n",
    "from tqdm.auto import tqdm\n",
    "import warnings\n",
    "\n",
    "import numpy as np"
   ]
  },
  {
   "cell_type": "code",
   "execution_count": 2,
   "id": "972c82d3",
   "metadata": {},
   "outputs": [],
   "source": [
    "SEED = 42\n",
    "set_seeds(SEED)\n",
    "\n",
    "LOAD_PRECOMPUTED_EXPLANATIONS = True # Set to True to compute random vectors and to False to load precomputed explanations\n",
    "SAVE_EXPLANATIONS = False # Set to True to save explanations to a pickle file\n",
    "\n",
    "GAMMA = 1 #set value of gamma for experiments (can define sigma instead and pass it to the functions that accept gamma as a paramenter)\n",
    "SAMPLE_SIZE = 20 #20 #set sample size for experiments\n",
    "NUM_FEATURES = 15 #set number of features for experiments\n",
    "save_path = \"./data/pickle/explanations_random_vectors_empty_set_value_experiments.p\"\n",
    "EMPTY_SET_VALUE = 0.0"
   ]
  },
  {
   "cell_type": "markdown",
   "metadata": {
    "collapsed": false,
    "pycharm": {
     "name": "#%% md\n"
    }
   },
   "source": [
    "## Generating random vectors."
   ]
  },
  {
   "cell_type": "code",
   "execution_count": 3,
   "id": "125869ed-e951-4ac2-b8cd-927d26a8eac5",
   "metadata": {
    "pycharm": {
     "name": "#%%\n"
    }
   },
   "outputs": [],
   "source": [
    "r_gen = default_rng(SEED)\n",
    "random_vectors = r_gen.integers(0,2,(SAMPLE_SIZE,NUM_FEATURES))"
   ]
  },
  {
   "attachments": {},
   "cell_type": "markdown",
   "id": "8b3f73a0",
   "metadata": {
    "pycharm": {
     "name": "#%% md\n"
    }
   },
   "source": [
    "## Generating SVs, SVERAD values and SHAP values.\n",
    "For all pairs SHAP SVERAD and SVs are calculated and compared."
   ]
  },
  {
   "cell_type": "code",
   "execution_count": 4,
   "id": "29389d18-5390-4e70-a203-66ec6610d03e",
   "metadata": {
    "pycharm": {
     "name": "#%%\n"
    }
   },
   "outputs": [
    {
     "data": {
      "application/vnd.jupyter.widget-view+json": {
       "model_id": "7d8392dd639c4a48832197521c863bf6",
       "version_major": 2,
       "version_minor": 0
      },
      "text/plain": [
       "  0%|          | 0/20 [00:00<?, ?it/s]"
      ]
     },
     "metadata": {},
     "output_type": "display_data"
    },
    {
     "data": {
      "application/vnd.jupyter.widget-view+json": {
       "model_id": "1b5aa4533bf24a87bf6b4368225490ae",
       "version_major": 2,
       "version_minor": 0
      },
      "text/plain": [
       "  0%|          | 0/20 [00:00<?, ?it/s]"
      ]
     },
     "metadata": {},
     "output_type": "display_data"
    },
    {
     "data": {
      "application/vnd.jupyter.widget-view+json": {
       "model_id": "f1342da6c47d478aad18f441e5f4f89a",
       "version_major": 2,
       "version_minor": 0
      },
      "text/plain": [
       "  0%|          | 0/20 [00:00<?, ?it/s]"
      ]
     },
     "metadata": {},
     "output_type": "display_data"
    },
    {
     "data": {
      "application/vnd.jupyter.widget-view+json": {
       "model_id": "a6deffe6729d499f9ae34724dc576f57",
       "version_major": 2,
       "version_minor": 0
      },
      "text/plain": [
       "  0%|          | 0/20 [00:00<?, ?it/s]"
      ]
     },
     "metadata": {},
     "output_type": "display_data"
    },
    {
     "data": {
      "application/vnd.jupyter.widget-view+json": {
       "model_id": "1546670f7bfc4fbdbe6b311354b34b02",
       "version_major": 2,
       "version_minor": 0
      },
      "text/plain": [
       "  0%|          | 0/20 [00:00<?, ?it/s]"
      ]
     },
     "metadata": {},
     "output_type": "display_data"
    },
    {
     "data": {
      "application/vnd.jupyter.widget-view+json": {
       "model_id": "b92d4b299f3743d9806d96dc4337015f",
       "version_major": 2,
       "version_minor": 0
      },
      "text/plain": [
       "  0%|          | 0/20 [00:00<?, ?it/s]"
      ]
     },
     "metadata": {},
     "output_type": "display_data"
    },
    {
     "data": {
      "application/vnd.jupyter.widget-view+json": {
       "model_id": "3e63d943c855429fa4f94be00fce24f9",
       "version_major": 2,
       "version_minor": 0
      },
      "text/plain": [
       "  0%|          | 0/20 [00:00<?, ?it/s]"
      ]
     },
     "metadata": {},
     "output_type": "display_data"
    },
    {
     "data": {
      "application/vnd.jupyter.widget-view+json": {
       "model_id": "629ccbec85bb4e83835a56eff920354e",
       "version_major": 2,
       "version_minor": 0
      },
      "text/plain": [
       "  0%|          | 0/20 [00:00<?, ?it/s]"
      ]
     },
     "metadata": {},
     "output_type": "display_data"
    },
    {
     "data": {
      "application/vnd.jupyter.widget-view+json": {
       "model_id": "3adc81cb9b854c0389a32cffa3b7464a",
       "version_major": 2,
       "version_minor": 0
      },
      "text/plain": [
       "  0%|          | 0/20 [00:00<?, ?it/s]"
      ]
     },
     "metadata": {},
     "output_type": "display_data"
    },
    {
     "data": {
      "application/vnd.jupyter.widget-view+json": {
       "model_id": "604f1b6fb8774ee896e38b9d68c3c5f1",
       "version_major": 2,
       "version_minor": 0
      },
      "text/plain": [
       "  0%|          | 0/20 [00:00<?, ?it/s]"
      ]
     },
     "metadata": {},
     "output_type": "display_data"
    },
    {
     "data": {
      "application/vnd.jupyter.widget-view+json": {
       "model_id": "f521eed5767d4686be64422547b77ef8",
       "version_major": 2,
       "version_minor": 0
      },
      "text/plain": [
       "  0%|          | 0/20 [00:00<?, ?it/s]"
      ]
     },
     "metadata": {},
     "output_type": "display_data"
    },
    {
     "data": {
      "application/vnd.jupyter.widget-view+json": {
       "model_id": "96eb6c694db94ca7b8cb8299400b65dd",
       "version_major": 2,
       "version_minor": 0
      },
      "text/plain": [
       "  0%|          | 0/20 [00:00<?, ?it/s]"
      ]
     },
     "metadata": {},
     "output_type": "display_data"
    },
    {
     "data": {
      "application/vnd.jupyter.widget-view+json": {
       "model_id": "a5dfe722edca45a58095d40f9c59f27f",
       "version_major": 2,
       "version_minor": 0
      },
      "text/plain": [
       "  0%|          | 0/20 [00:00<?, ?it/s]"
      ]
     },
     "metadata": {},
     "output_type": "display_data"
    },
    {
     "data": {
      "application/vnd.jupyter.widget-view+json": {
       "model_id": "fb146a70b42e49188b0cd2e486781d77",
       "version_major": 2,
       "version_minor": 0
      },
      "text/plain": [
       "  0%|          | 0/20 [00:00<?, ?it/s]"
      ]
     },
     "metadata": {},
     "output_type": "display_data"
    },
    {
     "data": {
      "application/vnd.jupyter.widget-view+json": {
       "model_id": "741a30d1fa66492597c48318aeb00075",
       "version_major": 2,
       "version_minor": 0
      },
      "text/plain": [
       "  0%|          | 0/20 [00:00<?, ?it/s]"
      ]
     },
     "metadata": {},
     "output_type": "display_data"
    },
    {
     "data": {
      "application/vnd.jupyter.widget-view+json": {
       "model_id": "6b8f719ed3bd483f847345a7c95418ff",
       "version_major": 2,
       "version_minor": 0
      },
      "text/plain": [
       "  0%|          | 0/20 [00:00<?, ?it/s]"
      ]
     },
     "metadata": {},
     "output_type": "display_data"
    },
    {
     "data": {
      "application/vnd.jupyter.widget-view+json": {
       "model_id": "e197848bb96344d985669694529f6d4a",
       "version_major": 2,
       "version_minor": 0
      },
      "text/plain": [
       "  0%|          | 0/20 [00:00<?, ?it/s]"
      ]
     },
     "metadata": {},
     "output_type": "display_data"
    },
    {
     "data": {
      "application/vnd.jupyter.widget-view+json": {
       "model_id": "f86e68b53aae4a179a18f459534c99d8",
       "version_major": 2,
       "version_minor": 0
      },
      "text/plain": [
       "  0%|          | 0/20 [00:00<?, ?it/s]"
      ]
     },
     "metadata": {},
     "output_type": "display_data"
    },
    {
     "data": {
      "application/vnd.jupyter.widget-view+json": {
       "model_id": "c9840fe9769d4fd0a8deba0f075acdf9",
       "version_major": 2,
       "version_minor": 0
      },
      "text/plain": [
       "  0%|          | 0/20 [00:00<?, ?it/s]"
      ]
     },
     "metadata": {},
     "output_type": "display_data"
    },
    {
     "data": {
      "application/vnd.jupyter.widget-view+json": {
       "model_id": "2ab27e1cdfb4408b94b999fcae7c84d1",
       "version_major": 2,
       "version_minor": 0
      },
      "text/plain": [
       "  0%|          | 0/20 [00:00<?, ?it/s]"
      ]
     },
     "metadata": {},
     "output_type": "display_data"
    },
    {
     "data": {
      "application/vnd.jupyter.widget-view+json": {
       "model_id": "52dc1c95ad0e43909308103133975891",
       "version_major": 2,
       "version_minor": 0
      },
      "text/plain": [
       "  0%|          | 0/20 [00:00<?, ?it/s]"
      ]
     },
     "metadata": {},
     "output_type": "display_data"
    }
   ],
   "source": [
    "\n",
    "if not LOAD_PRECOMPUTED_EXPLANATIONS:\n",
    "    explanation_df = []\n",
    "    # Iterating over all pairs\n",
    "    for i, vector_i in tqdm(enumerate(random_vectors), total=SAMPLE_SIZE):\n",
    "        exact_shapley_gen_i = ExactRBFShapleyComputation(vector_i, gamma=GAMMA, empty_set_value=EMPTY_SET_VALUE)\n",
    "        for j, vector_j in tqdm(enumerate(random_vectors), total=SAMPLE_SIZE):\n",
    "            shapley_ij = exact_shapley_gen_i.shapley_values(vector_j)\n",
    "\n",
    "            # intersection_ij = vector_i * vector_j  # Vector where intersecting features are set to 1\n",
    "            # union_ij = 1 - (1-vector_i) * (1-vector_j)  # Vector where features of the union are set to 1\n",
    "            # diff_ij = union_ij - intersection_ij  # Vector where features from the symmetric difference are set to 1\n",
    "            \n",
    "            # num_intersecting_features = sum(intersection_ij)\n",
    "            # num_difference_features = sum(diff_ij)\n",
    "\n",
    "            # sverad_value_f_plus_ij = sverad_f_plus(num_intersecting_features, num_difference_features)\n",
    "            # sverad_value_f_minus_ij = sverad_f_minus(num_intersecting_features, num_difference_features, gamma=GAMMA)\n",
    "\n",
    "            # sverad_values_ij = intersection_ij * sverad_value_f_plus_ij + diff_ij * sverad_value_f_minus_ij\n",
    "\n",
    "            #usubstituting the code above with the function compute_sverad_sv\n",
    "            sverad_values_ij = compute_sverad_sv(vector_i, vector_j, gamma=GAMMA, empty_set_value=EMPTY_SET_VALUE)\n",
    "\n",
    "            # Mask to get the 18 other vectors which are not i or j as background.\n",
    "            mask_background_sample = np.ones(SAMPLE_SIZE, dtype=bool)\n",
    "            mask_background_sample[i] = False\n",
    "            mask_background_sample[j] = False\n",
    "            with warnings.catch_warnings():\n",
    "                # ignore all caught warnings\n",
    "                warnings.filterwarnings(\"ignore\")\n",
    "                explainer_vec_i = KernelExplainer(exact_shapley_gen_i.rbf_kernel_value, random_vectors[mask_background_sample])\n",
    "                kernel_value = rbf_kernel(vector_i, vector_j, gamma = GAMMA)\n",
    "                shap_ij = explainer_vec_i.shap_values(vector_j)\n",
    "\n",
    "            explanation_df.append({\"instance a\": i,\n",
    "                                   \"instance b\": j,\n",
    "                                    \"RBF kernel value\": kernel_value,\n",
    "                                   \"Shapley\": shapley_ij,\n",
    "                                   \"SVERAD\": sverad_values_ij,\n",
    "                                   \"SHAP\": shap_ij,\n",
    "                                   \"SHAP_expected_value\": explainer_vec_i.expected_value[0],\n",
    "                                   })\n",
    "            \n",
    "        #break # TEST ONLY ONE INSTANCE for testing\n",
    "    explanation_df = pd.DataFrame(explanation_df)\n",
    "\n",
    "    if SAVE_EXPLANATIONS:\n",
    "        with open(save_path, \"wb\") as outfile:\n",
    "            pickle.dump(explanation_df, outfile)\n",
    "else:\n",
    "    print(\"Loading precomputed explanations\")\n",
    "    with open(save_path, \"rb\") as infile:\n",
    "        explanation_df = pickle.load(infile)"
   ]
  },
  {
   "cell_type": "code",
   "execution_count": 5,
   "id": "867074b9",
   "metadata": {},
   "outputs": [
    {
     "data": {
      "text/plain": [
       "-0.0010084379560243773"
      ]
     },
     "execution_count": 5,
     "metadata": {},
     "output_type": "execute_result"
    }
   ],
   "source": [
    "explanation_df.loc[3][\"SHAP\"][0].sum() "
   ]
  },
  {
   "cell_type": "code",
   "execution_count": 6,
   "id": "e09c6b04",
   "metadata": {},
   "outputs": [],
   "source": [
    "# explanation_df.loc[1][\"RBF kernel value\"] - explanation_df.loc[1][\"SHAP_expected_value\"]"
   ]
  },
  {
   "cell_type": "code",
   "execution_count": 7,
   "id": "adf47818",
   "metadata": {},
   "outputs": [
    {
     "data": {
      "text/plain": [
       "-4.999088118034445"
      ]
     },
     "execution_count": 7,
     "metadata": {},
     "output_type": "execute_result"
    }
   ],
   "source": [
    "explanation_df.loc[3][\"SVERAD\"].sum() "
   ]
  },
  {
   "cell_type": "code",
   "execution_count": 8,
   "id": "816007c1",
   "metadata": {},
   "outputs": [
    {
     "data": {
      "text/plain": [
       "-4.999088118034446"
      ]
     },
     "execution_count": 8,
     "metadata": {},
     "output_type": "execute_result"
    }
   ],
   "source": [
    "explanation_df.loc[3][\"RBF kernel value\"] - EMPTY_SET_VALUE"
   ]
  },
  {
   "cell_type": "code",
   "execution_count": 9,
   "id": "0c69c40a",
   "metadata": {},
   "outputs": [
    {
     "data": {
      "text/plain": [
       "0.9999999999999991"
      ]
     },
     "execution_count": 9,
     "metadata": {},
     "output_type": "execute_result"
    }
   ],
   "source": [
    "explanation_df.loc[0][\"SVERAD\"].sum() + EMPTY_SET_VALUE"
   ]
  },
  {
   "cell_type": "code",
   "execution_count": 10,
   "id": "e89a747c",
   "metadata": {},
   "outputs": [
    {
     "data": {
      "text/plain": [
       "-4.999088118034765"
      ]
     },
     "execution_count": 10,
     "metadata": {},
     "output_type": "execute_result"
    }
   ],
   "source": [
    "explanation_df.loc[3][\"Shapley\"].sum() "
   ]
  },
  {
   "cell_type": "code",
   "execution_count": 11,
   "id": "674f3f70",
   "metadata": {},
   "outputs": [
    {
     "data": {
      "text/plain": [
       "5.0"
      ]
     },
     "execution_count": 11,
     "metadata": {},
     "output_type": "execute_result"
    }
   ],
   "source": [
    "EMPTY_SET_VALUE"
   ]
  },
  {
   "cell_type": "code",
   "execution_count": 12,
   "id": "26a92a6e",
   "metadata": {},
   "outputs": [
    {
     "data": {
      "text/html": [
       "<div>\n",
       "<style scoped>\n",
       "    .dataframe tbody tr th:only-of-type {\n",
       "        vertical-align: middle;\n",
       "    }\n",
       "\n",
       "    .dataframe tbody tr th {\n",
       "        vertical-align: top;\n",
       "    }\n",
       "\n",
       "    .dataframe thead th {\n",
       "        text-align: right;\n",
       "    }\n",
       "</style>\n",
       "<table border=\"1\" class=\"dataframe\">\n",
       "  <thead>\n",
       "    <tr style=\"text-align: right;\">\n",
       "      <th></th>\n",
       "      <th>instance a</th>\n",
       "      <th>instance b</th>\n",
       "      <th>RBF kernel value</th>\n",
       "      <th>Shapley</th>\n",
       "      <th>SVERAD</th>\n",
       "      <th>SHAP</th>\n",
       "      <th>SHAP_expected_value</th>\n",
       "    </tr>\n",
       "  </thead>\n",
       "  <tbody>\n",
       "    <tr>\n",
       "      <th>0</th>\n",
       "      <td>0</td>\n",
       "      <td>0</td>\n",
       "      <td>1.000000</td>\n",
       "      <td>[0.0, -0.4444444444444444, -0.4444444444444444...</td>\n",
       "      <td>[0.0, -0.4444444444444444, -0.4444444444444444...</td>\n",
       "      <td>[[0.06124094141191988, 0.060077626126516126, 0...</td>\n",
       "      <td>0.001867</td>\n",
       "    </tr>\n",
       "    <tr>\n",
       "      <th>1</th>\n",
       "      <td>0</td>\n",
       "      <td>1</td>\n",
       "      <td>0.000335</td>\n",
       "      <td>[-0.4326503748638622, -0.30769230769230765, -0...</td>\n",
       "      <td>[-0.43265037486381996, -0.3076923076923077, -0...</td>\n",
       "      <td>[[-0.0008247280530945436, 0.0, -0.000764793428...</td>\n",
       "      <td>0.001952</td>\n",
       "    </tr>\n",
       "    <tr>\n",
       "      <th>2</th>\n",
       "      <td>0</td>\n",
       "      <td>2</td>\n",
       "      <td>0.000045</td>\n",
       "      <td>[0.0, -0.4076877676993753, -0.4076877676993753...</td>\n",
       "      <td>[-0.0, -0.4076877676993315, -0.407687767699331...</td>\n",
       "      <td>[[0.0, -0.00044240154770576007, -0.00042849910...</td>\n",
       "      <td>0.001968</td>\n",
       "    </tr>\n",
       "    <tr>\n",
       "      <th>3</th>\n",
       "      <td>0</td>\n",
       "      <td>3</td>\n",
       "      <td>0.000912</td>\n",
       "      <td>[-0.4760602073382998, -0.4760602073382998, -0....</td>\n",
       "      <td>[-0.47606020733825405, -0.47606020733825405, -...</td>\n",
       "      <td>[[-0.0014297750234850515, -0.00144564621035707...</td>\n",
       "      <td>0.001920</td>\n",
       "    </tr>\n",
       "    <tr>\n",
       "      <th>4</th>\n",
       "      <td>0</td>\n",
       "      <td>4</td>\n",
       "      <td>0.000123</td>\n",
       "      <td>[-0.4444307322440311, -0.33333333333333326, -0...</td>\n",
       "      <td>[-0.4444307322439903, -0.3333333333333333, -0....</td>\n",
       "      <td>[[-0.000600570848481064, 0.0, -0.0005882287096...</td>\n",
       "      <td>0.001964</td>\n",
       "    </tr>\n",
       "    <tr>\n",
       "      <th>...</th>\n",
       "      <td>...</td>\n",
       "      <td>...</td>\n",
       "      <td>...</td>\n",
       "      <td>...</td>\n",
       "      <td>...</td>\n",
       "      <td>...</td>\n",
       "      <td>...</td>\n",
       "    </tr>\n",
       "    <tr>\n",
       "      <th>395</th>\n",
       "      <td>19</td>\n",
       "      <td>15</td>\n",
       "      <td>0.000335</td>\n",
       "      <td>[-0.45829140050488787, -0.45829140050488787, -...</td>\n",
       "      <td>[-0.4582914005048454, -0.4582914005048454, -0....</td>\n",
       "      <td>[[-0.0017686847166257793, -0.00162815696257009...</td>\n",
       "      <td>0.008332</td>\n",
       "    </tr>\n",
       "    <tr>\n",
       "      <th>396</th>\n",
       "      <td>19</td>\n",
       "      <td>16</td>\n",
       "      <td>0.000006</td>\n",
       "      <td>[-0.39102512900800035, -0.39102512900800035, -...</td>\n",
       "      <td>[-0.3910251290079449, -0.3910251290079449, -0....</td>\n",
       "      <td>[[-0.0010068552541412836, -0.00073138674218225...</td>\n",
       "      <td>0.008350</td>\n",
       "    </tr>\n",
       "    <tr>\n",
       "      <th>397</th>\n",
       "      <td>19</td>\n",
       "      <td>17</td>\n",
       "      <td>0.000045</td>\n",
       "      <td>[-0.4076877676993753, -0.4076877676993753, -0....</td>\n",
       "      <td>[-0.4076877676993315, -0.4076877676993315, -0....</td>\n",
       "      <td>[[-0.0010805871144448787, -0.00098255608905977...</td>\n",
       "      <td>0.008348</td>\n",
       "    </tr>\n",
       "    <tr>\n",
       "      <th>398</th>\n",
       "      <td>19</td>\n",
       "      <td>18</td>\n",
       "      <td>0.000912</td>\n",
       "      <td>[-0.5871713184493506, 0.0, -0.5871713184493506...</td>\n",
       "      <td>[-0.5871713184493651, -0.0, -0.587171318449365...</td>\n",
       "      <td>[[-0.002689627450617107, 0.000918906661354723,...</td>\n",
       "      <td>0.008300</td>\n",
       "    </tr>\n",
       "    <tr>\n",
       "      <th>399</th>\n",
       "      <td>19</td>\n",
       "      <td>19</td>\n",
       "      <td>1.000000</td>\n",
       "      <td>[-0.5, 0.0, -0.5, -0.5, 0.0, -0.5, 0.0, -0.5, ...</td>\n",
       "      <td>[-0.5, 0.0, -0.5, -0.5, 0.0, -0.5, 0.0, -0.5, ...</td>\n",
       "      <td>[[0.08586718625927761, 0.07284463291303936, 0....</td>\n",
       "      <td>0.007911</td>\n",
       "    </tr>\n",
       "  </tbody>\n",
       "</table>\n",
       "<p>400 rows × 7 columns</p>\n",
       "</div>"
      ],
      "text/plain": [
       "     instance a  instance b  RBF kernel value  \\\n",
       "0             0           0          1.000000   \n",
       "1             0           1          0.000335   \n",
       "2             0           2          0.000045   \n",
       "3             0           3          0.000912   \n",
       "4             0           4          0.000123   \n",
       "..          ...         ...               ...   \n",
       "395          19          15          0.000335   \n",
       "396          19          16          0.000006   \n",
       "397          19          17          0.000045   \n",
       "398          19          18          0.000912   \n",
       "399          19          19          1.000000   \n",
       "\n",
       "                                               Shapley  \\\n",
       "0    [0.0, -0.4444444444444444, -0.4444444444444444...   \n",
       "1    [-0.4326503748638622, -0.30769230769230765, -0...   \n",
       "2    [0.0, -0.4076877676993753, -0.4076877676993753...   \n",
       "3    [-0.4760602073382998, -0.4760602073382998, -0....   \n",
       "4    [-0.4444307322440311, -0.33333333333333326, -0...   \n",
       "..                                                 ...   \n",
       "395  [-0.45829140050488787, -0.45829140050488787, -...   \n",
       "396  [-0.39102512900800035, -0.39102512900800035, -...   \n",
       "397  [-0.4076877676993753, -0.4076877676993753, -0....   \n",
       "398  [-0.5871713184493506, 0.0, -0.5871713184493506...   \n",
       "399  [-0.5, 0.0, -0.5, -0.5, 0.0, -0.5, 0.0, -0.5, ...   \n",
       "\n",
       "                                                SVERAD  \\\n",
       "0    [0.0, -0.4444444444444444, -0.4444444444444444...   \n",
       "1    [-0.43265037486381996, -0.3076923076923077, -0...   \n",
       "2    [-0.0, -0.4076877676993315, -0.407687767699331...   \n",
       "3    [-0.47606020733825405, -0.47606020733825405, -...   \n",
       "4    [-0.4444307322439903, -0.3333333333333333, -0....   \n",
       "..                                                 ...   \n",
       "395  [-0.4582914005048454, -0.4582914005048454, -0....   \n",
       "396  [-0.3910251290079449, -0.3910251290079449, -0....   \n",
       "397  [-0.4076877676993315, -0.4076877676993315, -0....   \n",
       "398  [-0.5871713184493651, -0.0, -0.587171318449365...   \n",
       "399  [-0.5, 0.0, -0.5, -0.5, 0.0, -0.5, 0.0, -0.5, ...   \n",
       "\n",
       "                                                  SHAP  SHAP_expected_value  \n",
       "0    [[0.06124094141191988, 0.060077626126516126, 0...             0.001867  \n",
       "1    [[-0.0008247280530945436, 0.0, -0.000764793428...             0.001952  \n",
       "2    [[0.0, -0.00044240154770576007, -0.00042849910...             0.001968  \n",
       "3    [[-0.0014297750234850515, -0.00144564621035707...             0.001920  \n",
       "4    [[-0.000600570848481064, 0.0, -0.0005882287096...             0.001964  \n",
       "..                                                 ...                  ...  \n",
       "395  [[-0.0017686847166257793, -0.00162815696257009...             0.008332  \n",
       "396  [[-0.0010068552541412836, -0.00073138674218225...             0.008350  \n",
       "397  [[-0.0010805871144448787, -0.00098255608905977...             0.008348  \n",
       "398  [[-0.002689627450617107, 0.000918906661354723,...             0.008300  \n",
       "399  [[0.08586718625927761, 0.07284463291303936, 0....             0.007911  \n",
       "\n",
       "[400 rows x 7 columns]"
      ]
     },
     "metadata": {},
     "output_type": "display_data"
    }
   ],
   "source": [
    "display(explanation_df)"
   ]
  },
  {
   "attachments": {},
   "cell_type": "markdown",
   "id": "699b42dd",
   "metadata": {},
   "source": [
    "#### Pearson r correlation coefficients"
   ]
  },
  {
   "cell_type": "code",
   "execution_count": 13,
   "id": "404752da",
   "metadata": {},
   "outputs": [
    {
     "name": "stderr",
     "output_type": "stream",
     "text": [
      "divide by zero encountered in arctanh\n"
     ]
    },
    {
     "data": {
      "text/html": [
       "<div>\n",
       "<style scoped>\n",
       "    .dataframe tbody tr th:only-of-type {\n",
       "        vertical-align: middle;\n",
       "    }\n",
       "\n",
       "    .dataframe tbody tr th {\n",
       "        vertical-align: top;\n",
       "    }\n",
       "\n",
       "    .dataframe thead th {\n",
       "        text-align: right;\n",
       "    }\n",
       "</style>\n",
       "<table border=\"1\" class=\"dataframe\">\n",
       "  <thead>\n",
       "    <tr style=\"text-align: right;\">\n",
       "      <th></th>\n",
       "      <th>a</th>\n",
       "      <th>b</th>\n",
       "      <th>Pearson SVERAD - Exact SV</th>\n",
       "      <th>Pearson SVERAD - SHAP</th>\n",
       "      <th>Pearson SHAP - Exact SV</th>\n",
       "      <th>Fisher SVERAD - Exact SV</th>\n",
       "      <th>Fisher SVERAD - SHAP</th>\n",
       "      <th>Fisher SHAP - Exact SV</th>\n",
       "    </tr>\n",
       "  </thead>\n",
       "  <tbody>\n",
       "    <tr>\n",
       "      <th>0</th>\n",
       "      <td>0</td>\n",
       "      <td>1</td>\n",
       "      <td>1.0</td>\n",
       "      <td>0.657173</td>\n",
       "      <td>0.657173</td>\n",
       "      <td>18.714974</td>\n",
       "      <td>0.787822</td>\n",
       "      <td>0.787822</td>\n",
       "    </tr>\n",
       "    <tr>\n",
       "      <th>1</th>\n",
       "      <td>0</td>\n",
       "      <td>2</td>\n",
       "      <td>1.0</td>\n",
       "      <td>0.641805</td>\n",
       "      <td>0.641805</td>\n",
       "      <td>inf</td>\n",
       "      <td>0.761237</td>\n",
       "      <td>0.761237</td>\n",
       "    </tr>\n",
       "    <tr>\n",
       "      <th>2</th>\n",
       "      <td>0</td>\n",
       "      <td>3</td>\n",
       "      <td>1.0</td>\n",
       "      <td>0.727466</td>\n",
       "      <td>0.727466</td>\n",
       "      <td>inf</td>\n",
       "      <td>0.923323</td>\n",
       "      <td>0.923323</td>\n",
       "    </tr>\n",
       "    <tr>\n",
       "      <th>3</th>\n",
       "      <td>0</td>\n",
       "      <td>4</td>\n",
       "      <td>1.0</td>\n",
       "      <td>0.956947</td>\n",
       "      <td>0.956947</td>\n",
       "      <td>inf</td>\n",
       "      <td>1.908352</td>\n",
       "      <td>1.908352</td>\n",
       "    </tr>\n",
       "    <tr>\n",
       "      <th>4</th>\n",
       "      <td>0</td>\n",
       "      <td>5</td>\n",
       "      <td>1.0</td>\n",
       "      <td>0.536036</td>\n",
       "      <td>0.536036</td>\n",
       "      <td>18.368400</td>\n",
       "      <td>0.598577</td>\n",
       "      <td>0.598577</td>\n",
       "    </tr>\n",
       "    <tr>\n",
       "      <th>...</th>\n",
       "      <td>...</td>\n",
       "      <td>...</td>\n",
       "      <td>...</td>\n",
       "      <td>...</td>\n",
       "      <td>...</td>\n",
       "      <td>...</td>\n",
       "      <td>...</td>\n",
       "      <td>...</td>\n",
       "    </tr>\n",
       "    <tr>\n",
       "      <th>375</th>\n",
       "      <td>19</td>\n",
       "      <td>14</td>\n",
       "      <td>1.0</td>\n",
       "      <td>0.776243</td>\n",
       "      <td>0.776243</td>\n",
       "      <td>18.714974</td>\n",
       "      <td>1.035848</td>\n",
       "      <td>1.035848</td>\n",
       "    </tr>\n",
       "    <tr>\n",
       "      <th>376</th>\n",
       "      <td>19</td>\n",
       "      <td>15</td>\n",
       "      <td>1.0</td>\n",
       "      <td>0.425319</td>\n",
       "      <td>0.425319</td>\n",
       "      <td>inf</td>\n",
       "      <td>0.454168</td>\n",
       "      <td>0.454168</td>\n",
       "    </tr>\n",
       "    <tr>\n",
       "      <th>377</th>\n",
       "      <td>19</td>\n",
       "      <td>16</td>\n",
       "      <td>1.0</td>\n",
       "      <td>0.441012</td>\n",
       "      <td>0.441012</td>\n",
       "      <td>inf</td>\n",
       "      <td>0.473486</td>\n",
       "      <td>0.473486</td>\n",
       "    </tr>\n",
       "    <tr>\n",
       "      <th>378</th>\n",
       "      <td>19</td>\n",
       "      <td>17</td>\n",
       "      <td>1.0</td>\n",
       "      <td>0.619899</td>\n",
       "      <td>0.619899</td>\n",
       "      <td>18.714974</td>\n",
       "      <td>0.724841</td>\n",
       "      <td>0.724841</td>\n",
       "    </tr>\n",
       "    <tr>\n",
       "      <th>379</th>\n",
       "      <td>19</td>\n",
       "      <td>18</td>\n",
       "      <td>1.0</td>\n",
       "      <td>0.694789</td>\n",
       "      <td>0.694789</td>\n",
       "      <td>inf</td>\n",
       "      <td>0.857156</td>\n",
       "      <td>0.857156</td>\n",
       "    </tr>\n",
       "  </tbody>\n",
       "</table>\n",
       "<p>380 rows × 8 columns</p>\n",
       "</div>"
      ],
      "text/plain": [
       "      a   b  Pearson SVERAD - Exact SV  Pearson SVERAD - SHAP  \\\n",
       "0     0   1                        1.0               0.657173   \n",
       "1     0   2                        1.0               0.641805   \n",
       "2     0   3                        1.0               0.727466   \n",
       "3     0   4                        1.0               0.956947   \n",
       "4     0   5                        1.0               0.536036   \n",
       "..   ..  ..                        ...                    ...   \n",
       "375  19  14                        1.0               0.776243   \n",
       "376  19  15                        1.0               0.425319   \n",
       "377  19  16                        1.0               0.441012   \n",
       "378  19  17                        1.0               0.619899   \n",
       "379  19  18                        1.0               0.694789   \n",
       "\n",
       "     Pearson SHAP - Exact SV  Fisher SVERAD - Exact SV  Fisher SVERAD - SHAP  \\\n",
       "0                   0.657173                 18.714974              0.787822   \n",
       "1                   0.641805                       inf              0.761237   \n",
       "2                   0.727466                       inf              0.923323   \n",
       "3                   0.956947                       inf              1.908352   \n",
       "4                   0.536036                 18.368400              0.598577   \n",
       "..                       ...                       ...                   ...   \n",
       "375                 0.776243                 18.714974              1.035848   \n",
       "376                 0.425319                       inf              0.454168   \n",
       "377                 0.441012                       inf              0.473486   \n",
       "378                 0.619899                 18.714974              0.724841   \n",
       "379                 0.694789                       inf              0.857156   \n",
       "\n",
       "     Fisher SHAP - Exact SV  \n",
       "0                  0.787822  \n",
       "1                  0.761237  \n",
       "2                  0.923323  \n",
       "3                  1.908352  \n",
       "4                  0.598577  \n",
       "..                      ...  \n",
       "375                1.035848  \n",
       "376                0.454168  \n",
       "377                0.473486  \n",
       "378                0.724841  \n",
       "379                0.857156  \n",
       "\n",
       "[380 rows x 8 columns]"
      ]
     },
     "metadata": {},
     "output_type": "display_data"
    },
    {
     "data": {
      "text/plain": [
       "a                            9.500000\n",
       "b                            9.500000\n",
       "Pearson SVERAD - Exact SV    1.000000\n",
       "Pearson SVERAD - SHAP        0.672402\n",
       "Pearson SHAP - Exact SV      0.672402\n",
       "Fisher SVERAD - Exact SV          inf\n",
       "Fisher SVERAD - SHAP         0.857262\n",
       "Fisher SHAP - Exact SV       0.857262\n",
       "dtype: float64"
      ]
     },
     "metadata": {},
     "output_type": "display_data"
    },
    {
     "data": {
      "text/plain": [
       "a                            5.773884e+00\n",
       "b                            5.773884e+00\n",
       "Pearson SVERAD - Exact SV    1.498012e-16\n",
       "Pearson SVERAD - SHAP        1.317673e-01\n",
       "Pearson SHAP - Exact SV      1.317673e-01\n",
       "Fisher SVERAD - Exact SV              NaN\n",
       "Fisher SVERAD - SHAP         2.597763e-01\n",
       "Fisher SHAP - Exact SV       2.597763e-01\n",
       "dtype: float64"
      ]
     },
     "metadata": {},
     "output_type": "display_data"
    },
    {
     "name": "stdout",
     "output_type": "stream",
     "text": [
      "Mean Pearson r correlation coeff Fisher transformed for SVERAD - Exact SV:  1.0 +/- nan\n",
      "Mean Pearson r correlation coeff Fisher transformed for SVERAD - SHAP:  0.6948442940803314 +/- 0.2540862874037527\n",
      "Mean Pearson r correlation coeff Fisher transformed for SHAP - Exact SV:  0.6948442940803577 +/- 0.2540862874037407\n"
     ]
    }
   ],
   "source": [
    "corr_df = []\n",
    "for i, row in explanation_df.iterrows():\n",
    "    if row[\"instance a\"] == row[\"instance b\"]:\n",
    "        continue\n",
    "    shapley_exact = row[\"Shapley\"]\n",
    "    sverad_value = row[\"SVERAD\"]\n",
    "    assert all(np.isclose(shapley_exact, sverad_value, 0, 1e-10))\n",
    "    shap = row[\"SHAP\"][0]\n",
    "    \n",
    "    corr_sverad_SV, p_sverad_SV = pearsonr(sverad_value, shapley_exact)\n",
    "    corr_sverad_SHAP, p_sverad_SHAP = pearsonr(sverad_value, shap)\n",
    "    corr_SHAP_SV, p_SHAP_SV = pearsonr(shapley_exact, shap)\n",
    "\n",
    "    corr_df.append({\"a\": row[\"instance a\"], \"b\": row[\"instance b\"], \"Pearson SVERAD - Exact SV\": corr_sverad_SV, \"Pearson SVERAD - SHAP\": corr_sverad_SHAP, \"Pearson SHAP - Exact SV\": corr_SHAP_SV})\n",
    "corr_df = pd.DataFrame(corr_df)\n",
    "corr_df[\"Fisher SVERAD - Exact SV\"] = np.arctanh(corr_df[\"Pearson SVERAD - Exact SV\"])\n",
    "corr_df[\"Fisher SVERAD - SHAP\"] = np.arctanh(corr_df[\"Pearson SVERAD - SHAP\"])\n",
    "corr_df[\"Fisher SHAP - Exact SV\"] = np.arctanh(corr_df[\"Pearson SHAP - Exact SV\"])\n",
    "display(corr_df)\n",
    "display(corr_df.mean())\n",
    "display(corr_df.std())\n",
    "\n",
    "print(\"Mean Pearson r correlation coeff Fisher transformed for SVERAD - Exact SV: \", np.tanh(corr_df[\"Fisher SVERAD - Exact SV\"].mean()), \"+/-\", np.tanh(corr_df[\"Fisher SVERAD - Exact SV\"].std()))\n",
    "print(\"Mean Pearson r correlation coeff Fisher transformed for SVERAD - SHAP: \", np.tanh(corr_df[\"Fisher SVERAD - SHAP\"].mean()), \"+/-\", np.tanh(corr_df[\"Fisher SVERAD - SHAP\"].std()))\n",
    "print(\"Mean Pearson r correlation coeff Fisher transformed for SHAP - Exact SV: \", np.tanh(corr_df[\"Fisher SHAP - Exact SV\"].mean()), \"+/-\", np.tanh(corr_df[\"Fisher SHAP - Exact SV\"].std()))"
   ]
  },
  {
   "attachments": {},
   "cell_type": "markdown",
   "id": "2d751c02",
   "metadata": {},
   "source": [
    "#### Old code below"
   ]
  },
  {
   "cell_type": "code",
   "execution_count": 14,
   "id": "42313198-6623-4dad-bc03-41019421e0fa",
   "metadata": {
    "pycharm": {
     "name": "#%%\n"
    }
   },
   "outputs": [],
   "source": [
    "corr_df = []\n",
    "for i, row in explanation_df.iterrows():\n",
    "    if row[\"instance a\"] == row[\"instance b\"]:\n",
    "        continue\n",
    "    shapley_exact = row[\"Shapley\"]\n",
    "    sverad_value = row[\"SVERAD\"]\n",
    "    # Check if all values are closer than 10**-10 to shapley values.\n",
    "    assert all(np.isclose(shapley_exact, sverad_value, 0, 1e-10))\n",
    "    shap = row[\"SHAP\"][0]\n",
    "    \n",
    "    corr, p = pearsonr(shap, shapley_exact)\n",
    "    corr_df.append({\"a\": row[\"instance a\"], \"b\": row[\"instance b\"], \"corrleation\": corr})\n",
    "corr_df = pd.DataFrame(corr_df)\n",
    "corr_df[\"pearsons_r_fisher\"] = np.arctanh(corr_df.corrleation)"
   ]
  },
  {
   "cell_type": "code",
   "execution_count": 15,
   "id": "337f3ea8-53fc-4fdb-9bed-71508c93c441",
   "metadata": {
    "pycharm": {
     "name": "#%%\n"
    }
   },
   "outputs": [],
   "source": [
    "assert corr_df.query(\"corrleation.isna()\").shape[0] == 0"
   ]
  },
  {
   "cell_type": "code",
   "execution_count": 16,
   "id": "9d7cbae3-1922-4ad5-bdb4-6c70f7819af1",
   "metadata": {
    "pycharm": {
     "name": "#%%\n"
    }
   },
   "outputs": [
    {
     "data": {
      "image/png": "[encoded data removed]",
      "text/plain": [
       "<Figure size 576x432 with 1 Axes>"
      ]
     },
     "metadata": {
      "needs_background": "light"
     },
     "output_type": "display_data"
    }
   ],
   "source": [
    "fig, ax = plt.subplots(figsize=(8,6))\n",
    "ax.boxplot(corr_df.pearsons_r_fisher)\n",
    "ax.set_ylabel(\"arctanh(Pearson's r)\")\n",
    "secax = ax.secondary_yaxis('right', functions=(np.tanh, np.arctanh))\n",
    "secax.set_ylabel(\"Pearson's r\")\n",
    "secax.set_yticks([-0.5, 0, 0.5, 0.75, 0.823, 0.9, 0.95, 0.99]);\n",
    "ax.set_xlabel(\"\")\n",
    "plt.tight_layout()"
   ]
  },
  {
   "cell_type": "code",
   "execution_count": 17,
   "id": "7c6d0a32-8a30-4ccb-813c-266a22718239",
   "metadata": {
    "pycharm": {
     "name": "#%%\n"
    }
   },
   "outputs": [
    {
     "data": {
      "text/plain": [
       "0.6948442940803577"
      ]
     },
     "execution_count": 17,
     "metadata": {},
     "output_type": "execute_result"
    }
   ],
   "source": [
    "np.tanh(corr_df[\"pearsons_r_fisher\"].mean())"
   ]
  },
  {
   "cell_type": "code",
   "execution_count": 18,
   "id": "544fe86a",
   "metadata": {
    "collapsed": false,
    "jupyter": {
     "outputs_hidden": false
    },
    "pycharm": {
     "name": "#%%\n"
    }
   },
   "outputs": [
    {
     "data": {
      "text/plain": [
       "0.2540862874037407"
      ]
     },
     "execution_count": 18,
     "metadata": {},
     "output_type": "execute_result"
    }
   ],
   "source": [
    "np.tanh(corr_df[\"pearsons_r_fisher\"].std())"
   ]
  },
  {
   "cell_type": "code",
   "execution_count": null,
   "id": "c64f49f2",
   "metadata": {
    "collapsed": false,
    "jupyter": {
     "outputs_hidden": false
    },
    "pycharm": {
     "name": "#%%\n"
    }
   },
   "outputs": [],
   "source": []
  }
 ],
 "metadata": {
  "kernelspec": {
   "display_name": "Python 3 (ipykernel)",
   "language": "python",
   "name": "python3"
  },
  "language_info": {
   "codemirror_mode": {
    "name": "ipython",
    "version": 3
   },
   "file_extension": ".py",
   "mimetype": "text/x-python",
   "name": "python",
   "nbconvert_exporter": "python",
   "pygments_lexer": "ipython3",
   "version": "3.10.5"
  }
 },
 "nbformat": 4,
 "nbformat_minor": 5
}
