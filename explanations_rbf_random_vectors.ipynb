{
 "cells": [
  {
   "cell_type": "markdown",
   "metadata": {
    "collapsed": false,
    "pycharm": {
     "name": "#%% md\n"
    }
   },
   "source": [
    "# Shapley, SVETA and SHAP values for a model system of low dimensionality."
   ]
  },
  {
   "cell_type": "code",
   "execution_count": 1,
   "metadata": {
    "collapsed": false,
    "pycharm": {
     "name": "#%%\n"
    }
   },
   "outputs": [],
   "source": [
    "from src.sverad import sverad_f_plus, sverad_f_minus, ExactRBFShapleyComputation\n",
    "from src.utils import set_seeds\n",
    "\n",
    "import matplotlib.pyplot as plt\n",
    "import numpy as np\n",
    "from numpy.random import default_rng\n",
    "import pandas as pd\n",
    "import pickle\n",
    "from scipy.stats import pearsonr\n",
    "from shap import KernelExplainer\n",
    "from tqdm.auto import tqdm\n",
    "import warnings\n",
    "\n",
    "import numpy as np"
   ]
  },
  {
   "cell_type": "code",
   "execution_count": 2,
   "id": "972c82d3",
   "metadata": {},
   "outputs": [],
   "source": [
    "SEED = 42\n",
    "set_seeds(SEED)\n",
    "\n",
    "COMPUTE_RANDOM_VECTORS = True\n",
    "SAVE_EXPLANATIONS = True"
   ]
  },
  {
   "cell_type": "markdown",
   "metadata": {
    "collapsed": false,
    "pycharm": {
     "name": "#%% md\n"
    }
   },
   "source": [
    "## Generating random vectors."
   ]
  },
  {
   "cell_type": "code",
   "execution_count": 3,
   "id": "125869ed-e951-4ac2-b8cd-927d26a8eac5",
   "metadata": {
    "pycharm": {
     "name": "#%%\n"
    }
   },
   "outputs": [],
   "source": [
    "# Initializing the random generator\n",
    "r_gen = default_rng(SEED)"
   ]
  },
  {
   "cell_type": "code",
   "execution_count": 4,
   "id": "1836ec6d-4795-4f5c-9cb7-1c68a96f0615",
   "metadata": {
    "pycharm": {
     "name": "#%%\n"
    }
   },
   "outputs": [],
   "source": [
    "random_vectors = r_gen.integers(0,2,(20,15))\n",
    "# random_vectors_sparse = sparse.csr_matrix(random_vectors)\n",
    "# sim_mat = tanimoto_similarity_sparse(random_vectors_sparse, random_vectors_sparse)"
   ]
  },
  {
   "attachments": {},
   "cell_type": "markdown",
   "id": "8b3f73a0",
   "metadata": {
    "pycharm": {
     "name": "#%% md\n"
    }
   },
   "source": [
    "## Generating SVs, SVERAD values and SHAP values.\n",
    "For all pairs SHAP SVETA and SVs are calculated and compared."
   ]
  },
  {
   "cell_type": "code",
   "execution_count": 5,
   "id": "29389d18-5390-4e70-a203-66ec6610d03e",
   "metadata": {
    "pycharm": {
     "name": "#%%\n"
    }
   },
   "outputs": [
    {
     "data": {
      "application/vnd.jupyter.widget-view+json": {
       "model_id": "eab41ee8ff434abdb02d70a72b0be575",
       "version_major": 2,
       "version_minor": 0
      },
      "text/plain": [
       "  0%|          | 0/20 [00:00<?, ?it/s]"
      ]
     },
     "metadata": {},
     "output_type": "display_data"
    },
    {
     "data": {
      "application/vnd.jupyter.widget-view+json": {
       "model_id": "8abf1cf4f8db4da88a7030e54d7e7eaa",
       "version_major": 2,
       "version_minor": 0
      },
      "text/plain": [
       "  0%|          | 0/20 [00:00<?, ?it/s]"
      ]
     },
     "metadata": {},
     "output_type": "display_data"
    },
    {
     "data": {
      "application/vnd.jupyter.widget-view+json": {
       "model_id": "621b91e423a34d4e9a7018a98bf0d5e4",
       "version_major": 2,
       "version_minor": 0
      },
      "text/plain": [
       "  0%|          | 0/20 [00:00<?, ?it/s]"
      ]
     },
     "metadata": {},
     "output_type": "display_data"
    },
    {
     "data": {
      "application/vnd.jupyter.widget-view+json": {
       "model_id": "0a4b8ce660f741a2ba1aa945cce235c9",
       "version_major": 2,
       "version_minor": 0
      },
      "text/plain": [
       "  0%|          | 0/20 [00:00<?, ?it/s]"
      ]
     },
     "metadata": {},
     "output_type": "display_data"
    },
    {
     "data": {
      "application/vnd.jupyter.widget-view+json": {
       "model_id": "7515a2f972cf4dc8b0cf2c55240cb946",
       "version_major": 2,
       "version_minor": 0
      },
      "text/plain": [
       "  0%|          | 0/20 [00:00<?, ?it/s]"
      ]
     },
     "metadata": {},
     "output_type": "display_data"
    },
    {
     "data": {
      "application/vnd.jupyter.widget-view+json": {
       "model_id": "0d70b523fd90402ba7a88b032e42c53d",
       "version_major": 2,
       "version_minor": 0
      },
      "text/plain": [
       "  0%|          | 0/20 [00:00<?, ?it/s]"
      ]
     },
     "metadata": {},
     "output_type": "display_data"
    },
    {
     "data": {
      "application/vnd.jupyter.widget-view+json": {
       "model_id": "86d6b92a5d92403d803dd928eacdd0c8",
       "version_major": 2,
       "version_minor": 0
      },
      "text/plain": [
       "  0%|          | 0/20 [00:00<?, ?it/s]"
      ]
     },
     "metadata": {},
     "output_type": "display_data"
    },
    {
     "data": {
      "application/vnd.jupyter.widget-view+json": {
       "model_id": "651abe33a37d4907b38ad4edb8ebb363",
       "version_major": 2,
       "version_minor": 0
      },
      "text/plain": [
       "  0%|          | 0/20 [00:00<?, ?it/s]"
      ]
     },
     "metadata": {},
     "output_type": "display_data"
    },
    {
     "data": {
      "application/vnd.jupyter.widget-view+json": {
       "model_id": "a8e966b6fbd2421489bd38e7e52b380a",
       "version_major": 2,
       "version_minor": 0
      },
      "text/plain": [
       "  0%|          | 0/20 [00:00<?, ?it/s]"
      ]
     },
     "metadata": {},
     "output_type": "display_data"
    },
    {
     "data": {
      "application/vnd.jupyter.widget-view+json": {
       "model_id": "59170c944c714b8399029408b38de7d2",
       "version_major": 2,
       "version_minor": 0
      },
      "text/plain": [
       "  0%|          | 0/20 [00:00<?, ?it/s]"
      ]
     },
     "metadata": {},
     "output_type": "display_data"
    },
    {
     "data": {
      "application/vnd.jupyter.widget-view+json": {
       "model_id": "6ada2c63796c4bbf85fca0d3641e7f20",
       "version_major": 2,
       "version_minor": 0
      },
      "text/plain": [
       "  0%|          | 0/20 [00:00<?, ?it/s]"
      ]
     },
     "metadata": {},
     "output_type": "display_data"
    },
    {
     "data": {
      "application/vnd.jupyter.widget-view+json": {
       "model_id": "6d68c47acac24feda6e9e9b9ff4a5850",
       "version_major": 2,
       "version_minor": 0
      },
      "text/plain": [
       "  0%|          | 0/20 [00:00<?, ?it/s]"
      ]
     },
     "metadata": {},
     "output_type": "display_data"
    },
    {
     "data": {
      "application/vnd.jupyter.widget-view+json": {
       "model_id": "b2b1915288ce48fda23dcd48780cd79e",
       "version_major": 2,
       "version_minor": 0
      },
      "text/plain": [
       "  0%|          | 0/20 [00:00<?, ?it/s]"
      ]
     },
     "metadata": {},
     "output_type": "display_data"
    },
    {
     "data": {
      "application/vnd.jupyter.widget-view+json": {
       "model_id": "024867a1fc204acfb556feaf0fa0f0ef",
       "version_major": 2,
       "version_minor": 0
      },
      "text/plain": [
       "  0%|          | 0/20 [00:00<?, ?it/s]"
      ]
     },
     "metadata": {},
     "output_type": "display_data"
    },
    {
     "data": {
      "application/vnd.jupyter.widget-view+json": {
       "model_id": "cafc77f29d5b4de2babc82e88fea96f5",
       "version_major": 2,
       "version_minor": 0
      },
      "text/plain": [
       "  0%|          | 0/20 [00:00<?, ?it/s]"
      ]
     },
     "metadata": {},
     "output_type": "display_data"
    },
    {
     "data": {
      "application/vnd.jupyter.widget-view+json": {
       "model_id": "219180a26c1d4617bfc976b699418941",
       "version_major": 2,
       "version_minor": 0
      },
      "text/plain": [
       "  0%|          | 0/20 [00:00<?, ?it/s]"
      ]
     },
     "metadata": {},
     "output_type": "display_data"
    },
    {
     "data": {
      "application/vnd.jupyter.widget-view+json": {
       "model_id": "ad285715fce14083bc2151805b623a90",
       "version_major": 2,
       "version_minor": 0
      },
      "text/plain": [
       "  0%|          | 0/20 [00:00<?, ?it/s]"
      ]
     },
     "metadata": {},
     "output_type": "display_data"
    },
    {
     "data": {
      "application/vnd.jupyter.widget-view+json": {
       "model_id": "1f7f635524c64165a26e910a043ce242",
       "version_major": 2,
       "version_minor": 0
      },
      "text/plain": [
       "  0%|          | 0/20 [00:00<?, ?it/s]"
      ]
     },
     "metadata": {},
     "output_type": "display_data"
    },
    {
     "data": {
      "application/vnd.jupyter.widget-view+json": {
       "model_id": "4f63bd5952974e00bb7783c361eaa24a",
       "version_major": 2,
       "version_minor": 0
      },
      "text/plain": [
       "  0%|          | 0/20 [00:00<?, ?it/s]"
      ]
     },
     "metadata": {},
     "output_type": "display_data"
    },
    {
     "data": {
      "application/vnd.jupyter.widget-view+json": {
       "model_id": "45837159a8b242ba8932ac3dd47b4b80",
       "version_major": 2,
       "version_minor": 0
      },
      "text/plain": [
       "  0%|          | 0/20 [00:00<?, ?it/s]"
      ]
     },
     "metadata": {},
     "output_type": "display_data"
    },
    {
     "data": {
      "application/vnd.jupyter.widget-view+json": {
       "model_id": "3d41c84af9494e068b56ff27330d7ed2",
       "version_major": 2,
       "version_minor": 0
      },
      "text/plain": [
       "  0%|          | 0/20 [00:00<?, ?it/s]"
      ]
     },
     "metadata": {},
     "output_type": "display_data"
    }
   ],
   "source": [
    "save_path = \"./data/pickle/explanations_random_vectors.p\"\n",
    "if COMPUTE_RANDOM_VECTORS:\n",
    "    explanation_df = []\n",
    "    # Iterating over all pairs\n",
    "    for i, vector_i in tqdm(enumerate(random_vectors), total=20):\n",
    "        exact_shapley_gen_i = ExactRBFShapleyComputation(vector_i)\n",
    "        for j, vector_j in tqdm(enumerate(random_vectors), total=20):\n",
    "            shapley_ij = exact_shapley_gen_i.shapley_values(vector_j)\n",
    "\n",
    "            intersection_ij = vector_i * vector_j  # Vector where intersecting features are set to 1\n",
    "            union_ij = 1 - (1-vector_i) * (1-vector_j)  # Vector where features of the union are set to 1\n",
    "            diff_ij = union_ij - intersection_ij  # Vector where features from the symmetric difference are set to 1\n",
    "            \n",
    "            num_intersecting_features = sum(intersection_ij)\n",
    "            num_difference_features = sum(diff_ij)\n",
    "\n",
    "            sverad_value_f_plus_ij = sverad_f_plus(num_intersecting_features, num_difference_features)\n",
    "            sverad_value_f_minus_ij = sverad_f_minus(num_intersecting_features, num_difference_features)\n",
    "\n",
    "            sverad_values_ij = intersection_ij * sverad_value_f_plus_ij + diff_ij * sverad_value_f_minus_ij\n",
    "\n",
    "            # Mask to get the 18 other vectors which are not i or j as background.\n",
    "            mask_background_sample = np.ones(20, dtype=bool)\n",
    "            mask_background_sample[i] = False\n",
    "            mask_background_sample[j] = False\n",
    "            with warnings.catch_warnings():\n",
    "                # ignore all caught warnings\n",
    "                warnings.filterwarnings(\"ignore\")\n",
    "                explainer_vec_i = KernelExplainer(exact_shapley_gen_i.rbf_kernel_value, random_vectors[mask_background_sample])\n",
    "                shap_ij = explainer_vec_i.shap_values(vector_j)\n",
    "\n",
    "            explanation_df.append({\"instance a\": i,\n",
    "                                   \"instance b\": j,\n",
    "                                   \"Shapley\": shapley_ij,\n",
    "                                   \"SVERAD\": sverad_values_ij,\n",
    "                                   \"SHAP\": shap_ij,\n",
    "                                   \"SHAP_expected_value\": explainer_vec_i.expected_value[0],\n",
    "                                   })\n",
    "            \n",
    "        #break # TEST ONLY ONE INSTANCE for testing\n",
    "    explanation_df = pd.DataFrame(explanation_df)\n",
    "\n",
    "    if SAVE_EXPLANATIONS:\n",
    "        with open(save_path, \"wb\") as outfile:\n",
    "            pickle.dump(explanation_df, outfile)\n",
    "else:\n",
    "    print(\"Loading precomputed explanations\")\n",
    "    with open(save_path, \"rb\") as infile:\n",
    "        explanation_df = pickle.load(infile)"
   ]
  },
  {
   "attachments": {},
   "cell_type": "markdown",
   "id": "699b42dd",
   "metadata": {},
   "source": [
    "#### Pearson r correlation coefficients"
   ]
  },
  {
   "cell_type": "code",
   "execution_count": 6,
   "id": "404752da",
   "metadata": {},
   "outputs": [
    {
     "data": {
      "text/html": [
       "<div>\n",
       "<style scoped>\n",
       "    .dataframe tbody tr th:only-of-type {\n",
       "        vertical-align: middle;\n",
       "    }\n",
       "\n",
       "    .dataframe tbody tr th {\n",
       "        vertical-align: top;\n",
       "    }\n",
       "\n",
       "    .dataframe thead th {\n",
       "        text-align: right;\n",
       "    }\n",
       "</style>\n",
       "<table border=\"1\" class=\"dataframe\">\n",
       "  <thead>\n",
       "    <tr style=\"text-align: right;\">\n",
       "      <th></th>\n",
       "      <th>a</th>\n",
       "      <th>b</th>\n",
       "      <th>Correleation SVERAD - Exact SV</th>\n",
       "      <th>Correlation SVERAD - SHAP</th>\n",
       "      <th>correlation SHAP - Exact SV</th>\n",
       "    </tr>\n",
       "  </thead>\n",
       "  <tbody>\n",
       "    <tr>\n",
       "      <th>0</th>\n",
       "      <td>0</td>\n",
       "      <td>1</td>\n",
       "      <td>1.0</td>\n",
       "      <td>0.773915</td>\n",
       "      <td>0.773915</td>\n",
       "    </tr>\n",
       "    <tr>\n",
       "      <th>1</th>\n",
       "      <td>0</td>\n",
       "      <td>2</td>\n",
       "      <td>1.0</td>\n",
       "      <td>0.581958</td>\n",
       "      <td>0.581958</td>\n",
       "    </tr>\n",
       "    <tr>\n",
       "      <th>2</th>\n",
       "      <td>0</td>\n",
       "      <td>3</td>\n",
       "      <td>1.0</td>\n",
       "      <td>0.806941</td>\n",
       "      <td>0.806941</td>\n",
       "    </tr>\n",
       "    <tr>\n",
       "      <th>3</th>\n",
       "      <td>0</td>\n",
       "      <td>4</td>\n",
       "      <td>1.0</td>\n",
       "      <td>0.342768</td>\n",
       "      <td>0.342768</td>\n",
       "    </tr>\n",
       "    <tr>\n",
       "      <th>4</th>\n",
       "      <td>0</td>\n",
       "      <td>5</td>\n",
       "      <td>1.0</td>\n",
       "      <td>0.625114</td>\n",
       "      <td>0.625114</td>\n",
       "    </tr>\n",
       "    <tr>\n",
       "      <th>...</th>\n",
       "      <td>...</td>\n",
       "      <td>...</td>\n",
       "      <td>...</td>\n",
       "      <td>...</td>\n",
       "      <td>...</td>\n",
       "    </tr>\n",
       "    <tr>\n",
       "      <th>375</th>\n",
       "      <td>19</td>\n",
       "      <td>14</td>\n",
       "      <td>1.0</td>\n",
       "      <td>0.393137</td>\n",
       "      <td>0.393137</td>\n",
       "    </tr>\n",
       "    <tr>\n",
       "      <th>376</th>\n",
       "      <td>19</td>\n",
       "      <td>15</td>\n",
       "      <td>1.0</td>\n",
       "      <td>0.796167</td>\n",
       "      <td>0.796167</td>\n",
       "    </tr>\n",
       "    <tr>\n",
       "      <th>377</th>\n",
       "      <td>19</td>\n",
       "      <td>16</td>\n",
       "      <td>1.0</td>\n",
       "      <td>0.910725</td>\n",
       "      <td>0.910725</td>\n",
       "    </tr>\n",
       "    <tr>\n",
       "      <th>378</th>\n",
       "      <td>19</td>\n",
       "      <td>17</td>\n",
       "      <td>1.0</td>\n",
       "      <td>0.669503</td>\n",
       "      <td>0.669503</td>\n",
       "    </tr>\n",
       "    <tr>\n",
       "      <th>379</th>\n",
       "      <td>19</td>\n",
       "      <td>18</td>\n",
       "      <td>1.0</td>\n",
       "      <td>0.698245</td>\n",
       "      <td>0.698245</td>\n",
       "    </tr>\n",
       "  </tbody>\n",
       "</table>\n",
       "<p>380 rows × 5 columns</p>\n",
       "</div>"
      ],
      "text/plain": [
       "      a   b  Correleation SVERAD - Exact SV  Correlation SVERAD - SHAP  \\\n",
       "0     0   1                             1.0                   0.773915   \n",
       "1     0   2                             1.0                   0.581958   \n",
       "2     0   3                             1.0                   0.806941   \n",
       "3     0   4                             1.0                   0.342768   \n",
       "4     0   5                             1.0                   0.625114   \n",
       "..   ..  ..                             ...                        ...   \n",
       "375  19  14                             1.0                   0.393137   \n",
       "376  19  15                             1.0                   0.796167   \n",
       "377  19  16                             1.0                   0.910725   \n",
       "378  19  17                             1.0                   0.669503   \n",
       "379  19  18                             1.0                   0.698245   \n",
       "\n",
       "     correlation SHAP - Exact SV  \n",
       "0                       0.773915  \n",
       "1                       0.581958  \n",
       "2                       0.806941  \n",
       "3                       0.342768  \n",
       "4                       0.625114  \n",
       "..                           ...  \n",
       "375                     0.393137  \n",
       "376                     0.796167  \n",
       "377                     0.910725  \n",
       "378                     0.669503  \n",
       "379                     0.698245  \n",
       "\n",
       "[380 rows x 5 columns]"
      ]
     },
     "metadata": {},
     "output_type": "display_data"
    },
    {
     "data": {
      "text/plain": [
       "a                                 9.500000\n",
       "b                                 9.500000\n",
       "Correleation SVERAD - Exact SV    1.000000\n",
       "Correlation SVERAD - SHAP         0.668974\n",
       "correlation SHAP - Exact SV       0.668974\n",
       "dtype: float64"
      ]
     },
     "metadata": {},
     "output_type": "display_data"
    }
   ],
   "source": [
    "corr_df = []\n",
    "for i, row in explanation_df.iterrows():\n",
    "    if row[\"instance a\"] == row[\"instance b\"]:\n",
    "        continue\n",
    "    shapley_exact = row[\"Shapley\"]\n",
    "    sverad_value = row[\"SVERAD\"]\n",
    "    assert all(np.isclose(shapley_exact, sverad_value, 0, 1e-10))\n",
    "    shap = row[\"SHAP\"][0]\n",
    "    \n",
    "    corr_sverad_SV, p_sverad_SV = pearsonr(sverad_value, shapley_exact)\n",
    "    corr_sverad_SHAP, p_sverad_SHAP = pearsonr(sverad_value, shap)\n",
    "    corr_SHAP_SV, p_SHAP_SV = pearsonr(shapley_exact, shap)\n",
    "\n",
    "    corr_df.append({\"a\": row[\"instance a\"], \"b\": row[\"instance b\"], \"Correleation SVERAD - Exact SV\": corr_sverad_SV, \"Correlation SVERAD - SHAP\": corr_sverad_SHAP, \"correlation SHAP - Exact SV\": corr_SHAP_SV})\n",
    "corr_df = pd.DataFrame(corr_df)\n",
    "display(corr_df)\n",
    "display(corr_df.mean())"
   ]
  },
  {
   "attachments": {},
   "cell_type": "markdown",
   "id": "2d751c02",
   "metadata": {},
   "source": [
    "#### Old code below"
   ]
  },
  {
   "cell_type": "code",
   "execution_count": 7,
   "id": "42313198-6623-4dad-bc03-41019421e0fa",
   "metadata": {
    "pycharm": {
     "name": "#%%\n"
    }
   },
   "outputs": [],
   "source": [
    "corr_df = []\n",
    "for i, row in explanation_df.iterrows():\n",
    "    if row[\"instance a\"] == row[\"instance b\"]:\n",
    "        continue\n",
    "    shapley_exact = row[\"Shapley\"]\n",
    "    sverad_value = row[\"SVERAD\"]\n",
    "    # Check if all values are closer than 10**-10 to shapley values.\n",
    "    assert all(np.isclose(shapley_exact, sverad_value, 0, 1e-10))\n",
    "    shap = row[\"SHAP\"][0]\n",
    "    \n",
    "    corr, p = pearsonr(shap, shapley_exact)\n",
    "    corr_df.append({\"a\": row[\"instance a\"], \"b\": row[\"instance b\"], \"corrleation\": corr})\n",
    "corr_df = pd.DataFrame(corr_df)\n",
    "corr_df[\"pearsons_r_fisher\"] = np.arctanh(corr_df.corrleation)"
   ]
  },
  {
   "cell_type": "code",
   "execution_count": 8,
   "id": "337f3ea8-53fc-4fdb-9bed-71508c93c441",
   "metadata": {
    "pycharm": {
     "name": "#%%\n"
    }
   },
   "outputs": [],
   "source": [
    "assert corr_df.query(\"corrleation.isna()\").shape[0] == 0"
   ]
  },
  {
   "cell_type": "code",
   "execution_count": 9,
   "id": "9d7cbae3-1922-4ad5-bdb4-6c70f7819af1",
   "metadata": {
    "pycharm": {
     "name": "#%%\n"
    }
   },
   "outputs": [
    {
     "data": {
      "image/png": "[encoded data removed]",
      "text/plain": [
       "<Figure size 576x432 with 1 Axes>"
      ]
     },
     "metadata": {
      "needs_background": "light"
     },
     "output_type": "display_data"
    }
   ],
   "source": [
    "fig, ax = plt.subplots(figsize=(8,6))\n",
    "ax.boxplot(corr_df.pearsons_r_fisher)\n",
    "ax.set_ylabel(\"arctanh(Pearson's r)\")\n",
    "secax = ax.secondary_yaxis('right', functions=(np.tanh, np.arctanh))\n",
    "secax.set_ylabel(\"Pearson's r\")\n",
    "secax.set_yticks([-0.5, 0, 0.5, 0.75, 0.823, 0.9, 0.95, 0.99]);\n",
    "ax.set_xlabel(\"\")\n",
    "plt.tight_layout()"
   ]
  },
  {
   "cell_type": "code",
   "execution_count": 10,
   "id": "7c6d0a32-8a30-4ccb-813c-266a22718239",
   "metadata": {
    "pycharm": {
     "name": "#%%\n"
    }
   },
   "outputs": [
    {
     "data": {
      "text/plain": [
       "0.7212012409922623"
      ]
     },
     "execution_count": 10,
     "metadata": {},
     "output_type": "execute_result"
    }
   ],
   "source": [
    "np.tanh(corr_df[\"pearsons_r_fisher\"].mean())"
   ]
  },
  {
   "cell_type": "code",
   "execution_count": 11,
   "id": "544fe86a",
   "metadata": {
    "collapsed": false,
    "jupyter": {
     "outputs_hidden": false
    },
    "pycharm": {
     "name": "#%%\n"
    }
   },
   "outputs": [
    {
     "data": {
      "text/plain": [
       "0.4327817126512539"
      ]
     },
     "execution_count": 11,
     "metadata": {},
     "output_type": "execute_result"
    }
   ],
   "source": [
    "np.tanh(corr_df[\"pearsons_r_fisher\"].std())"
   ]
  },
  {
   "cell_type": "code",
   "execution_count": null,
   "id": "c64f49f2",
   "metadata": {
    "collapsed": false,
    "jupyter": {
     "outputs_hidden": false
    },
    "pycharm": {
     "name": "#%%\n"
    }
   },
   "outputs": [],
   "source": []
  }
 ],
 "metadata": {
  "kernelspec": {
   "display_name": "Python 3 (ipykernel)",
   "language": "python",
   "name": "python3"
  },
  "language_info": {
   "codemirror_mode": {
    "name": "ipython",
    "version": 3
   },
   "file_extension": ".py",
   "mimetype": "text/x-python",
   "name": "python",
   "nbconvert_exporter": "python",
   "pygments_lexer": "ipython3",
   "version": "3.10.5"
  }
 },
 "nbformat": 4,
 "nbformat_minor": 5
}
