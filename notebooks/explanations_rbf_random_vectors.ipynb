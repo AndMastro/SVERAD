{
 "cells": [
  {
   "attachments": {},
   "cell_type": "markdown",
   "metadata": {
    "collapsed": false,
    "pycharm": {
     "name": "#%% md\n"
    }
   },
   "source": [
    "# Shapley, SVERAD and SHAP values for a model system of low dimensionality."
   ]
  },
  {
   "cell_type": "code",
   "execution_count": 1,
   "metadata": {
    "collapsed": false,
    "pycharm": {
     "name": "#%%\n"
    }
   },
   "outputs": [],
   "source": [
    "from sverad.sverad_kernel import ExactRBFShapleyComputation, compute_sverad_sv, rbf_kernel\n",
    "from sverad.utils import set_seeds\n",
    "\n",
    "import matplotlib.pyplot as plt\n",
    "import numpy as np\n",
    "from numpy.random import default_rng\n",
    "import pandas as pd\n",
    "import pickle\n",
    "from scipy.stats import pearsonr\n",
    "from shap import KernelExplainer\n",
    "from tqdm.auto import tqdm\n",
    "import warnings\n",
    "\n",
    "import numpy as np"
   ]
  },
  {
   "cell_type": "code",
   "execution_count": 2,
   "id": "972c82d3",
   "metadata": {},
   "outputs": [],
   "source": [
    "SEED = 42\n",
    "set_seeds(SEED)\n",
    "\n",
    "LOAD_PRECOMPUTED_EXPLANATIONS = False # Set to True to compute random vectors and to False to load precomputed explanations\n",
    "SAVE_EXPLANATIONS = False # Set to True to save explanations to a pickle file\n",
    "\n",
    "GAMMA = 1 #set value of gamma for experiments (can define sigma instead and pass it to the functions that accept gamma as a paramenter)\n",
    "SAMPLE_SIZE = 3 #20 #set sample size for experiments\n",
    "NUM_FEATURES = 15 #set number of features for experiments\n",
    "save_path = \"./data/pickle/explanations_random_vectors_empty_set_value_experiments.p\"\n",
    "EMPTY_SET_VALUE = 0.0"
   ]
  },
  {
   "cell_type": "markdown",
   "metadata": {
    "collapsed": false,
    "pycharm": {
     "name": "#%% md\n"
    }
   },
   "source": [
    "## Generating random vectors."
   ]
  },
  {
   "cell_type": "code",
   "execution_count": 3,
   "id": "125869ed-e951-4ac2-b8cd-927d26a8eac5",
   "metadata": {
    "pycharm": {
     "name": "#%%\n"
    }
   },
   "outputs": [],
   "source": [
    "r_gen = default_rng(SEED)\n",
    "random_vectors = r_gen.integers(0,2,(SAMPLE_SIZE,NUM_FEATURES))"
   ]
  },
  {
   "attachments": {},
   "cell_type": "markdown",
   "id": "8b3f73a0",
   "metadata": {
    "pycharm": {
     "name": "#%% md\n"
    }
   },
   "source": [
    "## Generating SVs, SVERAD values and SHAP values.\n",
    "For all pairs SHAP SVERAD and SVs are calculated and compared."
   ]
  },
  {
   "cell_type": "code",
   "execution_count": 4,
   "id": "29389d18-5390-4e70-a203-66ec6610d03e",
   "metadata": {
    "pycharm": {
     "name": "#%%\n"
    }
   },
   "outputs": [
    {
     "data": {
      "application/vnd.jupyter.widget-view+json": {
       "model_id": "9623ccbc9a6c450883642586fa94e2c9",
       "version_major": 2,
       "version_minor": 0
      },
      "text/plain": [
       "  0%|          | 0/3 [00:00<?, ?it/s]"
      ]
     },
     "metadata": {},
     "output_type": "display_data"
    },
    {
     "data": {
      "application/vnd.jupyter.widget-view+json": {
       "model_id": "ea13dc8cf1944cd893b554ed05a34e0d",
       "version_major": 2,
       "version_minor": 0
      },
      "text/plain": [
       "  0%|          | 0/3 [00:00<?, ?it/s]"
      ]
     },
     "metadata": {},
     "output_type": "display_data"
    },
    {
     "data": {
      "application/vnd.jupyter.widget-view+json": {
       "model_id": "6fc9938a081d49138380d822540ccd13",
       "version_major": 2,
       "version_minor": 0
      },
      "text/plain": [
       "  0%|          | 0/3 [00:00<?, ?it/s]"
      ]
     },
     "metadata": {},
     "output_type": "display_data"
    },
    {
     "data": {
      "application/vnd.jupyter.widget-view+json": {
       "model_id": "28edbffb105f47a5b18d2695ea24af61",
       "version_major": 2,
       "version_minor": 0
      },
      "text/plain": [
       "  0%|          | 0/3 [00:00<?, ?it/s]"
      ]
     },
     "metadata": {},
     "output_type": "display_data"
    }
   ],
   "source": [
    "\n",
    "if not LOAD_PRECOMPUTED_EXPLANATIONS:\n",
    "    explanation_df = []\n",
    "    # Iterating over all pairs\n",
    "    for i, vector_i in tqdm(enumerate(random_vectors), total=SAMPLE_SIZE):\n",
    "        exact_shapley_gen_i = ExactRBFShapleyComputation(vector_i, gamma=GAMMA, empty_set_value=EMPTY_SET_VALUE)\n",
    "        for j, vector_j in tqdm(enumerate(random_vectors), total=SAMPLE_SIZE):\n",
    "            shapley_ij = exact_shapley_gen_i.shapley_values(vector_j)\n",
    "\n",
    "            # intersection_ij = vector_i * vector_j  # Vector where intersecting features are set to 1\n",
    "            # union_ij = 1 - (1-vector_i) * (1-vector_j)  # Vector where features of the union are set to 1\n",
    "            # diff_ij = union_ij - intersection_ij  # Vector where features from the symmetric difference are set to 1\n",
    "            \n",
    "            # num_intersecting_features = sum(intersection_ij)\n",
    "            # num_difference_features = sum(diff_ij)\n",
    "\n",
    "            # sverad_value_f_plus_ij = sverad_f_plus(num_intersecting_features, num_difference_features)\n",
    "            # sverad_value_f_minus_ij = sverad_f_minus(num_intersecting_features, num_difference_features, gamma=GAMMA)\n",
    "\n",
    "            # sverad_values_ij = intersection_ij * sverad_value_f_plus_ij + diff_ij * sverad_value_f_minus_ij\n",
    "\n",
    "            #usubstituting the code above with the function compute_sverad_sv\n",
    "            sverad_values_ij = compute_sverad_sv(vector_i, vector_j, gamma=GAMMA, empty_set_value=EMPTY_SET_VALUE)\n",
    "\n",
    "            # Mask to get the 18 other vectors which are not i or j as background.\n",
    "            mask_background_sample = np.ones(SAMPLE_SIZE, dtype=bool)\n",
    "            mask_background_sample[i] = False\n",
    "            mask_background_sample[j] = False\n",
    "            with warnings.catch_warnings():\n",
    "                # ignore all caught warnings\n",
    "                warnings.filterwarnings(\"ignore\")\n",
    "                explainer_vec_i = KernelExplainer(exact_shapley_gen_i.rbf_kernel_value, random_vectors[mask_background_sample])\n",
    "                kernel_value = rbf_kernel(vector_i, vector_j, gamma = GAMMA)\n",
    "                shap_ij = explainer_vec_i.shap_values(vector_j)\n",
    "\n",
    "            explanation_df.append({\"instance a\": i,\n",
    "                                   \"instance b\": j,\n",
    "                                    \"RBF kernel value\": kernel_value,\n",
    "                                   \"Shapley\": shapley_ij,\n",
    "                                   \"SVERAD\": sverad_values_ij,\n",
    "                                   \"SHAP\": shap_ij,\n",
    "                                   \"SHAP_expected_value\": explainer_vec_i.expected_value[0],\n",
    "                                   })\n",
    "            \n",
    "        #break # TEST ONLY ONE INSTANCE for testing\n",
    "    explanation_df = pd.DataFrame(explanation_df)\n",
    "\n",
    "    if SAVE_EXPLANATIONS:\n",
    "        with open(save_path, \"wb\") as outfile:\n",
    "            pickle.dump(explanation_df, outfile)\n",
    "else:\n",
    "    print(\"Loading precomputed explanations\")\n",
    "    with open(save_path, \"rb\") as infile:\n",
    "        explanation_df = pickle.load(infile)"
   ]
  },
  {
   "cell_type": "code",
   "execution_count": 5,
   "id": "867074b9",
   "metadata": {},
   "outputs": [
    {
     "data": {
      "text/plain": [
       "0.000290062698140027"
      ]
     },
     "execution_count": 5,
     "metadata": {},
     "output_type": "execute_result"
    }
   ],
   "source": [
    "explanation_df.loc[3][\"SHAP\"][0].sum() "
   ]
  },
  {
   "cell_type": "code",
   "execution_count": 6,
   "id": "e09c6b04",
   "metadata": {},
   "outputs": [],
   "source": [
    "# explanation_df.loc[1][\"RBF kernel value\"] - explanation_df.loc[1][\"SHAP_expected_value\"]"
   ]
  },
  {
   "cell_type": "code",
   "execution_count": 7,
   "id": "adf47818",
   "metadata": {},
   "outputs": [
    {
     "data": {
      "text/plain": [
       "-4.999664537372097"
      ]
     },
     "execution_count": 7,
     "metadata": {},
     "output_type": "execute_result"
    }
   ],
   "source": [
    "explanation_df.loc[3][\"SVERAD\"].sum() "
   ]
  },
  {
   "cell_type": "code",
   "execution_count": 8,
   "id": "816007c1",
   "metadata": {},
   "outputs": [
    {
     "data": {
      "text/plain": [
       "-4.999664537372097"
      ]
     },
     "execution_count": 8,
     "metadata": {},
     "output_type": "execute_result"
    }
   ],
   "source": [
    "explanation_df.loc[3][\"RBF kernel value\"] - EMPTY_SET_VALUE"
   ]
  },
  {
   "cell_type": "code",
   "execution_count": 9,
   "id": "0c69c40a",
   "metadata": {},
   "outputs": [
    {
     "data": {
      "text/plain": [
       "0.9999999999999991"
      ]
     },
     "execution_count": 9,
     "metadata": {},
     "output_type": "execute_result"
    }
   ],
   "source": [
    "explanation_df.loc[0][\"SVERAD\"].sum() + EMPTY_SET_VALUE"
   ]
  },
  {
   "cell_type": "code",
   "execution_count": 10,
   "id": "e89a747c",
   "metadata": {},
   "outputs": [
    {
     "data": {
      "text/plain": [
       "-4.999664537372436"
      ]
     },
     "execution_count": 10,
     "metadata": {},
     "output_type": "execute_result"
    }
   ],
   "source": [
    "explanation_df.loc[3][\"Shapley\"].sum() "
   ]
  },
  {
   "cell_type": "code",
   "execution_count": 11,
   "id": "674f3f70",
   "metadata": {},
   "outputs": [
    {
     "data": {
      "text/plain": [
       "5.0"
      ]
     },
     "execution_count": 11,
     "metadata": {},
     "output_type": "execute_result"
    }
   ],
   "source": [
    "EMPTY_SET_VALUE"
   ]
  },
  {
   "cell_type": "code",
   "execution_count": 12,
   "id": "26a92a6e",
   "metadata": {},
   "outputs": [
    {
     "data": {
      "text/html": [
       "<div>\n",
       "<style scoped>\n",
       "    .dataframe tbody tr th:only-of-type {\n",
       "        vertical-align: middle;\n",
       "    }\n",
       "\n",
       "    .dataframe tbody tr th {\n",
       "        vertical-align: top;\n",
       "    }\n",
       "\n",
       "    .dataframe thead th {\n",
       "        text-align: right;\n",
       "    }\n",
       "</style>\n",
       "<table border=\"1\" class=\"dataframe\">\n",
       "  <thead>\n",
       "    <tr style=\"text-align: right;\">\n",
       "      <th></th>\n",
       "      <th>instance a</th>\n",
       "      <th>instance b</th>\n",
       "      <th>RBF kernel value</th>\n",
       "      <th>Shapley</th>\n",
       "      <th>SVERAD</th>\n",
       "      <th>SHAP</th>\n",
       "      <th>SHAP_expected_value</th>\n",
       "    </tr>\n",
       "  </thead>\n",
       "  <tbody>\n",
       "    <tr>\n",
       "      <th>0</th>\n",
       "      <td>0</td>\n",
       "      <td>0</td>\n",
       "      <td>1.000000</td>\n",
       "      <td>[0.0, -0.4444444444444444, -0.4444444444444444...</td>\n",
       "      <td>[0.0, -0.4444444444444444, -0.4444444444444444...</td>\n",
       "      <td>[[0.061457082419101756, 0.04778664343564795, 0...</td>\n",
       "      <td>0.000190</td>\n",
       "    </tr>\n",
       "    <tr>\n",
       "      <th>1</th>\n",
       "      <td>0</td>\n",
       "      <td>1</td>\n",
       "      <td>0.000335</td>\n",
       "      <td>[-0.4326503748638622, -0.30769230769230765, -0...</td>\n",
       "      <td>[-0.43265037486381996, -0.3076923076923077, -0...</td>\n",
       "      <td>[[-0.000362334124074521, 0.000289899865739685,...</td>\n",
       "      <td>0.000045</td>\n",
       "    </tr>\n",
       "    <tr>\n",
       "      <th>2</th>\n",
       "      <td>0</td>\n",
       "      <td>2</td>\n",
       "      <td>0.000045</td>\n",
       "      <td>[0.0, -0.4076877676993753, -0.4076877676993753...</td>\n",
       "      <td>[-0.0, -0.4076877676993315, -0.407687767699331...</td>\n",
       "      <td>[[0.0003623341240745211, -0.000289899865739685...</td>\n",
       "      <td>0.000335</td>\n",
       "    </tr>\n",
       "    <tr>\n",
       "      <th>3</th>\n",
       "      <td>1</td>\n",
       "      <td>0</td>\n",
       "      <td>0.000335</td>\n",
       "      <td>[-0.4326503748638622, -0.30769230769230765, -0...</td>\n",
       "      <td>[-0.43265037486381996, -0.3076923076923077, -0...</td>\n",
       "      <td>[[0.0, 0.0002898998657396854, -0.0003623341240...</td>\n",
       "      <td>0.000045</td>\n",
       "    </tr>\n",
       "    <tr>\n",
       "      <th>4</th>\n",
       "      <td>1</td>\n",
       "      <td>1</td>\n",
       "      <td>1.000000</td>\n",
       "      <td>[-0.4444444444444444, -0.4444444444444444, 0.0...</td>\n",
       "      <td>[-0.4444444444444444, -0.4444444444444444, 0.0...</td>\n",
       "      <td>[[0.12179871953928947, 0.058516946371749055, 0...</td>\n",
       "      <td>0.000190</td>\n",
       "    </tr>\n",
       "    <tr>\n",
       "      <th>5</th>\n",
       "      <td>1</td>\n",
       "      <td>2</td>\n",
       "      <td>0.000045</td>\n",
       "      <td>[-0.4076877676993753, -0.4076877676993753, 0.0...</td>\n",
       "      <td>[-0.4076877676993315, -0.4076877676993315, -0....</td>\n",
       "      <td>[[0.0, -0.0002898998657396855, 0.0003623341240...</td>\n",
       "      <td>0.000335</td>\n",
       "    </tr>\n",
       "    <tr>\n",
       "      <th>6</th>\n",
       "      <td>2</td>\n",
       "      <td>0</td>\n",
       "      <td>0.000045</td>\n",
       "      <td>[0.0, -0.4076877676993753, -0.4076877676993753...</td>\n",
       "      <td>[-0.0, -0.4076877676993315, -0.407687767699331...</td>\n",
       "      <td>[[8.911236841823198e-05, 0.0, -8.9112368418231...</td>\n",
       "      <td>0.000045</td>\n",
       "    </tr>\n",
       "    <tr>\n",
       "      <th>7</th>\n",
       "      <td>2</td>\n",
       "      <td>1</td>\n",
       "      <td>0.000045</td>\n",
       "      <td>[-0.4076877676993753, -0.4076877676993753, 0.0...</td>\n",
       "      <td>[-0.4076877676993315, -0.4076877676993315, -0....</td>\n",
       "      <td>[[-8.911236841823198e-05, 0.0, 8.9112368418231...</td>\n",
       "      <td>0.000045</td>\n",
       "    </tr>\n",
       "    <tr>\n",
       "      <th>8</th>\n",
       "      <td>2</td>\n",
       "      <td>2</td>\n",
       "      <td>1.000000</td>\n",
       "      <td>[0.0, 0.0, 0.0, -0.5714285714285703, -0.571428...</td>\n",
       "      <td>[0.0, 0.0, 0.0, -0.5714285714285714, -0.571428...</td>\n",
       "      <td>[[0.04290578782613707, 0.10345981684230414, 0....</td>\n",
       "      <td>0.000045</td>\n",
       "    </tr>\n",
       "  </tbody>\n",
       "</table>\n",
       "</div>"
      ],
      "text/plain": [
       "   instance a  instance b  RBF kernel value  \\\n",
       "0           0           0          1.000000   \n",
       "1           0           1          0.000335   \n",
       "2           0           2          0.000045   \n",
       "3           1           0          0.000335   \n",
       "4           1           1          1.000000   \n",
       "5           1           2          0.000045   \n",
       "6           2           0          0.000045   \n",
       "7           2           1          0.000045   \n",
       "8           2           2          1.000000   \n",
       "\n",
       "                                             Shapley  \\\n",
       "0  [0.0, -0.4444444444444444, -0.4444444444444444...   \n",
       "1  [-0.4326503748638622, -0.30769230769230765, -0...   \n",
       "2  [0.0, -0.4076877676993753, -0.4076877676993753...   \n",
       "3  [-0.4326503748638622, -0.30769230769230765, -0...   \n",
       "4  [-0.4444444444444444, -0.4444444444444444, 0.0...   \n",
       "5  [-0.4076877676993753, -0.4076877676993753, 0.0...   \n",
       "6  [0.0, -0.4076877676993753, -0.4076877676993753...   \n",
       "7  [-0.4076877676993753, -0.4076877676993753, 0.0...   \n",
       "8  [0.0, 0.0, 0.0, -0.5714285714285703, -0.571428...   \n",
       "\n",
       "                                              SVERAD  \\\n",
       "0  [0.0, -0.4444444444444444, -0.4444444444444444...   \n",
       "1  [-0.43265037486381996, -0.3076923076923077, -0...   \n",
       "2  [-0.0, -0.4076877676993315, -0.407687767699331...   \n",
       "3  [-0.43265037486381996, -0.3076923076923077, -0...   \n",
       "4  [-0.4444444444444444, -0.4444444444444444, 0.0...   \n",
       "5  [-0.4076877676993315, -0.4076877676993315, -0....   \n",
       "6  [-0.0, -0.4076877676993315, -0.407687767699331...   \n",
       "7  [-0.4076877676993315, -0.4076877676993315, -0....   \n",
       "8  [0.0, 0.0, 0.0, -0.5714285714285714, -0.571428...   \n",
       "\n",
       "                                                SHAP  SHAP_expected_value  \n",
       "0  [[0.061457082419101756, 0.04778664343564795, 0...             0.000190  \n",
       "1  [[-0.000362334124074521, 0.000289899865739685,...             0.000045  \n",
       "2  [[0.0003623341240745211, -0.000289899865739685...             0.000335  \n",
       "3  [[0.0, 0.0002898998657396854, -0.0003623341240...             0.000045  \n",
       "4  [[0.12179871953928947, 0.058516946371749055, 0...             0.000190  \n",
       "5  [[0.0, -0.0002898998657396855, 0.0003623341240...             0.000335  \n",
       "6  [[8.911236841823198e-05, 0.0, -8.9112368418231...             0.000045  \n",
       "7  [[-8.911236841823198e-05, 0.0, 8.9112368418231...             0.000045  \n",
       "8  [[0.04290578782613707, 0.10345981684230414, 0....             0.000045  "
      ]
     },
     "metadata": {},
     "output_type": "display_data"
    }
   ],
   "source": [
    "display(explanation_df)"
   ]
  },
  {
   "attachments": {},
   "cell_type": "markdown",
   "id": "699b42dd",
   "metadata": {},
   "source": [
    "#### Pearson r correlation coefficients"
   ]
  },
  {
   "cell_type": "code",
   "execution_count": 13,
   "id": "404752da",
   "metadata": {},
   "outputs": [
    {
     "name": "stderr",
     "output_type": "stream",
     "text": [
      "divide by zero encountered in arctanh\n"
     ]
    },
    {
     "data": {
      "text/html": [
       "<div>\n",
       "<style scoped>\n",
       "    .dataframe tbody tr th:only-of-type {\n",
       "        vertical-align: middle;\n",
       "    }\n",
       "\n",
       "    .dataframe tbody tr th {\n",
       "        vertical-align: top;\n",
       "    }\n",
       "\n",
       "    .dataframe thead th {\n",
       "        text-align: right;\n",
       "    }\n",
       "</style>\n",
       "<table border=\"1\" class=\"dataframe\">\n",
       "  <thead>\n",
       "    <tr style=\"text-align: right;\">\n",
       "      <th></th>\n",
       "      <th>a</th>\n",
       "      <th>b</th>\n",
       "      <th>Pearson SVERAD - Exact SV</th>\n",
       "      <th>Pearson SVERAD - SHAP</th>\n",
       "      <th>Pearson SHAP - Exact SV</th>\n",
       "      <th>Fisher SVERAD - Exact SV</th>\n",
       "      <th>Fisher SVERAD - SHAP</th>\n",
       "      <th>Fisher SHAP - Exact SV</th>\n",
       "    </tr>\n",
       "  </thead>\n",
       "  <tbody>\n",
       "    <tr>\n",
       "      <th>0</th>\n",
       "      <td>0</td>\n",
       "      <td>1</td>\n",
       "      <td>1.0</td>\n",
       "      <td>0.657280</td>\n",
       "      <td>0.657280</td>\n",
       "      <td>18.714974</td>\n",
       "      <td>0.788009</td>\n",
       "      <td>0.788009</td>\n",
       "    </tr>\n",
       "    <tr>\n",
       "      <th>1</th>\n",
       "      <td>0</td>\n",
       "      <td>2</td>\n",
       "      <td>1.0</td>\n",
       "      <td>0.728105</td>\n",
       "      <td>0.728105</td>\n",
       "      <td>inf</td>\n",
       "      <td>0.924682</td>\n",
       "      <td>0.924682</td>\n",
       "    </tr>\n",
       "    <tr>\n",
       "      <th>2</th>\n",
       "      <td>1</td>\n",
       "      <td>0</td>\n",
       "      <td>1.0</td>\n",
       "      <td>0.657280</td>\n",
       "      <td>0.657280</td>\n",
       "      <td>18.714974</td>\n",
       "      <td>0.788009</td>\n",
       "      <td>0.788009</td>\n",
       "    </tr>\n",
       "    <tr>\n",
       "      <th>3</th>\n",
       "      <td>1</td>\n",
       "      <td>2</td>\n",
       "      <td>1.0</td>\n",
       "      <td>0.728105</td>\n",
       "      <td>0.728105</td>\n",
       "      <td>inf</td>\n",
       "      <td>0.924682</td>\n",
       "      <td>0.924682</td>\n",
       "    </tr>\n",
       "    <tr>\n",
       "      <th>4</th>\n",
       "      <td>2</td>\n",
       "      <td>0</td>\n",
       "      <td>1.0</td>\n",
       "      <td>0.679051</td>\n",
       "      <td>0.679051</td>\n",
       "      <td>inf</td>\n",
       "      <td>0.827350</td>\n",
       "      <td>0.827350</td>\n",
       "    </tr>\n",
       "    <tr>\n",
       "      <th>5</th>\n",
       "      <td>2</td>\n",
       "      <td>1</td>\n",
       "      <td>1.0</td>\n",
       "      <td>0.679051</td>\n",
       "      <td>0.679051</td>\n",
       "      <td>inf</td>\n",
       "      <td>0.827350</td>\n",
       "      <td>0.827350</td>\n",
       "    </tr>\n",
       "  </tbody>\n",
       "</table>\n",
       "</div>"
      ],
      "text/plain": [
       "   a  b  Pearson SVERAD - Exact SV  Pearson SVERAD - SHAP  \\\n",
       "0  0  1                        1.0               0.657280   \n",
       "1  0  2                        1.0               0.728105   \n",
       "2  1  0                        1.0               0.657280   \n",
       "3  1  2                        1.0               0.728105   \n",
       "4  2  0                        1.0               0.679051   \n",
       "5  2  1                        1.0               0.679051   \n",
       "\n",
       "   Pearson SHAP - Exact SV  Fisher SVERAD - Exact SV  Fisher SVERAD - SHAP  \\\n",
       "0                 0.657280                 18.714974              0.788009   \n",
       "1                 0.728105                       inf              0.924682   \n",
       "2                 0.657280                 18.714974              0.788009   \n",
       "3                 0.728105                       inf              0.924682   \n",
       "4                 0.679051                       inf              0.827350   \n",
       "5                 0.679051                       inf              0.827350   \n",
       "\n",
       "   Fisher SHAP - Exact SV  \n",
       "0                0.788009  \n",
       "1                0.924682  \n",
       "2                0.788009  \n",
       "3                0.924682  \n",
       "4                0.827350  \n",
       "5                0.827350  "
      ]
     },
     "metadata": {},
     "output_type": "display_data"
    },
    {
     "data": {
      "text/plain": [
       "a                            1.000000\n",
       "b                            1.000000\n",
       "Pearson SVERAD - Exact SV    1.000000\n",
       "Pearson SVERAD - SHAP        0.688145\n",
       "Pearson SHAP - Exact SV      0.688145\n",
       "Fisher SVERAD - Exact SV          inf\n",
       "Fisher SVERAD - SHAP         0.846680\n",
       "Fisher SHAP - Exact SV       0.846680\n",
       "dtype: float64"
      ]
     },
     "metadata": {},
     "output_type": "display_data"
    },
    {
     "data": {
      "text/plain": [
       "a                            8.944272e-01\n",
       "b                            8.944272e-01\n",
       "Pearson SVERAD - Exact SV    7.021667e-17\n",
       "Pearson SVERAD - SHAP        3.244792e-02\n",
       "Pearson SHAP - Exact SV      3.244792e-02\n",
       "Fisher SVERAD - Exact SV              NaN\n",
       "Fisher SVERAD - SHAP         6.292933e-02\n",
       "Fisher SHAP - Exact SV       6.292933e-02\n",
       "dtype: float64"
      ]
     },
     "metadata": {},
     "output_type": "display_data"
    },
    {
     "name": "stdout",
     "output_type": "stream",
     "text": [
      "Mean Pearson r correlation coeff Fisher transformed for SVERAD - Exact SV:  1.0 +/- nan\n",
      "Mean Pearson r correlation coeff Fisher transformed for SVERAD - SHAP:  0.6893311615737042 +/- 0.06284639153554189\n",
      "Mean Pearson r correlation coeff Fisher transformed for SHAP - Exact SV:  0.6893311615737471 +/- 0.06284639153554515\n"
     ]
    }
   ],
   "source": [
    "corr_df = []\n",
    "for i, row in explanation_df.iterrows():\n",
    "    if row[\"instance a\"] == row[\"instance b\"]:\n",
    "        continue\n",
    "    shapley_exact = row[\"Shapley\"]\n",
    "    sverad_value = row[\"SVERAD\"]\n",
    "    assert all(np.isclose(shapley_exact, sverad_value, 0, 1e-10))\n",
    "    shap = row[\"SHAP\"][0]\n",
    "    \n",
    "    corr_sverad_SV, p_sverad_SV = pearsonr(sverad_value, shapley_exact)\n",
    "    corr_sverad_SHAP, p_sverad_SHAP = pearsonr(sverad_value, shap)\n",
    "    corr_SHAP_SV, p_SHAP_SV = pearsonr(shapley_exact, shap)\n",
    "\n",
    "    corr_df.append({\"a\": row[\"instance a\"], \"b\": row[\"instance b\"], \"Pearson SVERAD - Exact SV\": corr_sverad_SV, \"Pearson SVERAD - SHAP\": corr_sverad_SHAP, \"Pearson SHAP - Exact SV\": corr_SHAP_SV})\n",
    "corr_df = pd.DataFrame(corr_df)\n",
    "corr_df[\"Fisher SVERAD - Exact SV\"] = np.arctanh(corr_df[\"Pearson SVERAD - Exact SV\"])\n",
    "corr_df[\"Fisher SVERAD - SHAP\"] = np.arctanh(corr_df[\"Pearson SVERAD - SHAP\"])\n",
    "corr_df[\"Fisher SHAP - Exact SV\"] = np.arctanh(corr_df[\"Pearson SHAP - Exact SV\"])\n",
    "display(corr_df)\n",
    "display(corr_df.mean())\n",
    "display(corr_df.std())\n",
    "\n",
    "print(\"Mean Pearson r correlation coeff Fisher transformed for SVERAD - Exact SV: \", np.tanh(corr_df[\"Fisher SVERAD - Exact SV\"].mean()), \"+/-\", np.tanh(corr_df[\"Fisher SVERAD - Exact SV\"].std()))\n",
    "print(\"Mean Pearson r correlation coeff Fisher transformed for SVERAD - SHAP: \", np.tanh(corr_df[\"Fisher SVERAD - SHAP\"].mean()), \"+/-\", np.tanh(corr_df[\"Fisher SVERAD - SHAP\"].std()))\n",
    "print(\"Mean Pearson r correlation coeff Fisher transformed for SHAP - Exact SV: \", np.tanh(corr_df[\"Fisher SHAP - Exact SV\"].mean()), \"+/-\", np.tanh(corr_df[\"Fisher SHAP - Exact SV\"].std()))"
   ]
  },
  {
   "attachments": {},
   "cell_type": "markdown",
   "id": "2d751c02",
   "metadata": {},
   "source": [
    "#### Old code below"
   ]
  },
  {
   "cell_type": "code",
   "execution_count": 14,
   "id": "42313198-6623-4dad-bc03-41019421e0fa",
   "metadata": {
    "pycharm": {
     "name": "#%%\n"
    }
   },
   "outputs": [],
   "source": [
    "corr_df = []\n",
    "for i, row in explanation_df.iterrows():\n",
    "    if row[\"instance a\"] == row[\"instance b\"]:\n",
    "        continue\n",
    "    shapley_exact = row[\"Shapley\"]\n",
    "    sverad_value = row[\"SVERAD\"]\n",
    "    # Check if all values are closer than 10**-10 to shapley values.\n",
    "    assert all(np.isclose(shapley_exact, sverad_value, 0, 1e-10))\n",
    "    shap = row[\"SHAP\"][0]\n",
    "    \n",
    "    corr, p = pearsonr(shap, shapley_exact)\n",
    "    corr_df.append({\"a\": row[\"instance a\"], \"b\": row[\"instance b\"], \"corrleation\": corr})\n",
    "corr_df = pd.DataFrame(corr_df)\n",
    "corr_df[\"pearsons_r_fisher\"] = np.arctanh(corr_df.corrleation)"
   ]
  },
  {
   "cell_type": "code",
   "execution_count": 15,
   "id": "337f3ea8-53fc-4fdb-9bed-71508c93c441",
   "metadata": {
    "pycharm": {
     "name": "#%%\n"
    }
   },
   "outputs": [],
   "source": [
    "assert corr_df.query(\"corrleation.isna()\").shape[0] == 0"
   ]
  },
  {
   "cell_type": "code",
   "execution_count": 16,
   "id": "9d7cbae3-1922-4ad5-bdb4-6c70f7819af1",
   "metadata": {
    "pycharm": {
     "name": "#%%\n"
    }
   },
   "outputs": [
    {
     "data": {
      "image/png": "[encoded data removed]",
      "text/plain": [
       "<Figure size 576x432 with 1 Axes>"
      ]
     },
     "metadata": {
      "needs_background": "light"
     },
     "output_type": "display_data"
    }
   ],
   "source": [
    "fig, ax = plt.subplots(figsize=(8,6))\n",
    "ax.boxplot(corr_df.pearsons_r_fisher)\n",
    "ax.set_ylabel(\"arctanh(Pearson's r)\")\n",
    "secax = ax.secondary_yaxis('right', functions=(np.tanh, np.arctanh))\n",
    "secax.set_ylabel(\"Pearson's r\")\n",
    "secax.set_yticks([-0.5, 0, 0.5, 0.75, 0.823, 0.9, 0.95, 0.99]);\n",
    "ax.set_xlabel(\"\")\n",
    "plt.tight_layout()"
   ]
  },
  {
   "cell_type": "code",
   "execution_count": 17,
   "id": "7c6d0a32-8a30-4ccb-813c-266a22718239",
   "metadata": {
    "pycharm": {
     "name": "#%%\n"
    }
   },
   "outputs": [
    {
     "data": {
      "text/plain": [
       "0.6893311615737471"
      ]
     },
     "execution_count": 17,
     "metadata": {},
     "output_type": "execute_result"
    }
   ],
   "source": [
    "np.tanh(corr_df[\"pearsons_r_fisher\"].mean())"
   ]
  },
  {
   "cell_type": "code",
   "execution_count": 18,
   "id": "544fe86a",
   "metadata": {
    "collapsed": false,
    "jupyter": {
     "outputs_hidden": false
    },
    "pycharm": {
     "name": "#%%\n"
    }
   },
   "outputs": [
    {
     "data": {
      "text/plain": [
       "0.06284639153554515"
      ]
     },
     "execution_count": 18,
     "metadata": {},
     "output_type": "execute_result"
    }
   ],
   "source": [
    "np.tanh(corr_df[\"pearsons_r_fisher\"].std())"
   ]
  },
  {
   "cell_type": "code",
   "execution_count": null,
   "id": "c64f49f2",
   "metadata": {
    "collapsed": false,
    "jupyter": {
     "outputs_hidden": false
    },
    "pycharm": {
     "name": "#%%\n"
    }
   },
   "outputs": [],
   "source": []
  }
 ],
 "metadata": {
  "kernelspec": {
   "display_name": "Python 3 (ipykernel)",
   "language": "python",
   "name": "python3"
  },
  "language_info": {
   "codemirror_mode": {
    "name": "ipython",
    "version": 3
   },
   "file_extension": ".py",
   "mimetype": "text/x-python",
   "name": "python",
   "nbconvert_exporter": "python",
   "pygments_lexer": "ipython3",
   "version": "3.10.5"
  }
 },
 "nbformat": 4,
 "nbformat_minor": 5
}
