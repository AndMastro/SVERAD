{
 "cells": [
  {
   "attachments": {},
   "cell_type": "markdown",
   "metadata": {
    "collapsed": false,
    "pycharm": {
     "name": "#%% md\n"
    }
   },
   "source": [
    "# Comparison of SVERAD and SHAP on the RBF kernel for 50 random compounds."
   ]
  },
  {
   "cell_type": "code",
   "execution_count": 1,
   "metadata": {
    "collapsed": false,
    "pycharm": {
     "name": "#%%\n"
    }
   },
   "outputs": [],
   "source": [
    "from src.sverad import compute_sverad_sv, rbf_kernel_matrix, ExactRBFShapleyComputation, rbf_kernel\n",
    "from src.utils import set_seeds, DataSet, UnfoldedMorganFingerprint\n",
    "\n",
    "import matplotlib.pyplot as plt\n",
    "import numpy as np\n",
    "import pandas as pd\n",
    "import pickle\n",
    "\n",
    "from scipy.stats import pearsonr\n",
    "from tqdm.auto import tqdm\n",
    "import warnings\n",
    "import os\n",
    "import shap"
   ]
  },
  {
   "cell_type": "code",
   "execution_count": 2,
   "id": "c44d3c8b",
   "metadata": {},
   "outputs": [],
   "source": [
    "SEED = 42\n",
    "set_seeds(SEED)\n",
    "GAMMA = 1.0\n",
    "\n",
    "SAVE_DATASET_PICKLE = False\n",
    "LOAD_PRECOMPUTED_EXPLANATIONS = False\n",
    "SAVE_EXPLANATIONS = True\n",
    "SAMPLE_SIZE = 10"
   ]
  },
  {
   "attachments": {},
   "cell_type": "markdown",
   "id": "8a651953",
   "metadata": {},
   "source": [
    "### Load and generate dataset"
   ]
  },
  {
   "cell_type": "code",
   "execution_count": 3,
   "id": "2c3f3f77-4538-49b1-8277-fada73a415da",
   "metadata": {
    "pycharm": {
     "name": "#%%\n"
    }
   },
   "outputs": [
    {
     "data": {
      "text/html": [
       "<div>\n",
       "<style scoped>\n",
       "    .dataframe tbody tr th:only-of-type {\n",
       "        vertical-align: middle;\n",
       "    }\n",
       "\n",
       "    .dataframe tbody tr th {\n",
       "        vertical-align: top;\n",
       "    }\n",
       "\n",
       "    .dataframe thead th {\n",
       "        text-align: right;\n",
       "    }\n",
       "</style>\n",
       "<table border=\"1\" class=\"dataframe\">\n",
       "  <thead>\n",
       "    <tr style=\"text-align: right;\">\n",
       "      <th>label</th>\n",
       "      <th>active</th>\n",
       "      <th>random</th>\n",
       "    </tr>\n",
       "    <tr>\n",
       "      <th>uniprot_id</th>\n",
       "      <th></th>\n",
       "      <th></th>\n",
       "    </tr>\n",
       "  </thead>\n",
       "  <tbody>\n",
       "    <tr>\n",
       "      <th>P0DMS8</th>\n",
       "      <td>287</td>\n",
       "      <td>287</td>\n",
       "    </tr>\n",
       "  </tbody>\n",
       "</table>\n",
       "</div>"
      ],
      "text/plain": [
       "label       active  random\n",
       "uniprot_id                \n",
       "P0DMS8         287     287"
      ]
     },
     "execution_count": 3,
     "metadata": {},
     "output_type": "execute_result"
    }
   ],
   "source": [
    "dataset_df = pd.read_csv(\"data/dataset.tsv\", sep=\"\\t\")\n",
    "dataset_df.pivot_table(index=\"uniprot_id\", columns=\"label\", values=\"nonstereo_aromatic_smiles\", aggfunc=\"nunique\", fill_value=0)"
   ]
  },
  {
   "cell_type": "code",
   "execution_count": 4,
   "id": "5a0593b4",
   "metadata": {},
   "outputs": [],
   "source": [
    "dataset_dict = dict()\n",
    "fingerprint_gen_dict = dict()\n",
    "for dataset_name, data_grpd_df in dataset_df.groupby(\"uniprot_id\"):\n",
    "    \n",
    "    # label: 1: active, 0: random\n",
    "    labels = np.array([1 if l == 'active' else 0 for l in data_grpd_df.label])\n",
    "    # Creating Fingerprint\n",
    "    morgan_radius2 = UnfoldedMorganFingerprint(radius=2)\n",
    "    morgan_radius2.fit_smiles(data_grpd_df.nonstereo_aromatic_smiles.tolist())\n",
    "    \n",
    "    # Constructing Dataset\n",
    "    fp_matrix = morgan_radius2.transform_smiles(data_grpd_df.nonstereo_aromatic_smiles.tolist())\n",
    "    # Constructing Dataset\n",
    "    dataset = DataSet(labels, fp_matrix)\n",
    "    dataset.add_attribute(\"nonstereo_aromatic_smiles\", data_grpd_df.nonstereo_aromatic_smiles.values)\n",
    "    \n",
    "    dataset_dict[dataset_name] = dataset\n",
    "    fingerprint_gen_dict[dataset_name] = morgan_radius2"
   ]
  },
  {
   "attachments": {},
   "cell_type": "markdown",
   "id": "91cc814b",
   "metadata": {},
   "source": [
    "#### Save dataset and fingerprint for future use"
   ]
  },
  {
   "cell_type": "code",
   "execution_count": 5,
   "id": "53413887",
   "metadata": {},
   "outputs": [],
   "source": [
    "if SAVE_DATASET_PICKLE:\n",
    "    with open(\"./data/pickle/dataset_dict.p\", \"wb\") as outfile:\n",
    "        pickle.dump(dataset_dict, outfile)\n",
    "    with open(\"./data/pickle/fingerprint_gen_dict.p\", \"wb\") as outfile:\n",
    "        pickle.dump(fingerprint_gen_dict, outfile)"
   ]
  },
  {
   "cell_type": "markdown",
   "id": "ba283ba3-a7b0-43eb-bc5a-19d3456da371",
   "metadata": {
    "pycharm": {
     "name": "#%% md\n"
    }
   },
   "source": [
    "# Analysis"
   ]
  },
  {
   "cell_type": "code",
   "execution_count": 6,
   "id": "a9ae758b-d66b-48ef-b31b-e576e65036e4",
   "metadata": {
    "pycharm": {
     "name": "#%%\n"
    }
   },
   "outputs": [],
   "source": [
    "dataset = dataset_dict[\"P0DMS8\"]"
   ]
  },
  {
   "cell_type": "code",
   "execution_count": 7,
   "id": "6e430d72-29f6-4e4b-a715-1444daa90b4b",
   "metadata": {
    "pycharm": {
     "name": "#%%\n"
    }
   },
   "outputs": [
    {
     "name": "stdout",
     "output_type": "stream",
     "text": [
      "Number of CPDs: 574\n",
      "Number of features: 5487\n"
     ]
    }
   ],
   "source": [
    "print(\"Number of CPDs: {}\\nNumber of features: {}\".format(*dataset.feature_matrix.shape))"
   ]
  },
  {
   "cell_type": "code",
   "execution_count": 8,
   "id": "06439aa8-216d-4a6f-bcd5-d07a3365c600",
   "metadata": {
    "pycharm": {
     "name": "#%%\n"
    }
   },
   "outputs": [
    {
     "data": {
      "application/vnd.jupyter.widget-view+json": {
       "model_id": "9e2d777bf12648b58e4f9987808c7891",
       "version_major": 2,
       "version_minor": 0
      },
      "text/plain": [
       "  0%|          | 0/10 [00:00<?, ?it/s]"
      ]
     },
     "metadata": {},
     "output_type": "display_data"
    },
    {
     "name": "stdout",
     "output_type": "stream",
     "text": [
      "[1 1 1 ... 0 0 0]\n"
     ]
    },
    {
     "data": {
      "application/vnd.jupyter.widget-view+json": {
       "model_id": "09087108fc584e7bab30a5c64b2f954c",
       "version_major": 2,
       "version_minor": 0
      },
      "text/plain": [
       "  0%|          | 0/10 [00:00<?, ?it/s]"
      ]
     },
     "metadata": {},
     "output_type": "display_data"
    },
    {
     "name": "stdout",
     "output_type": "stream",
     "text": [
      "Provided model function fails when applied to the provided data set.\n"
     ]
    },
    {
     "ename": "TypeError",
     "evalue": "'numpy.float64' object is not callable",
     "output_type": "error",
     "traceback": [
      "\u001b[0;31m---------------------------------------------------------------------------\u001b[0m",
      "\u001b[0;31mTypeError\u001b[0m                                 Traceback (most recent call last)",
      "\u001b[1;32m/mnt/c/Repositories/SV-RBF/rbf_50_compounds_SVERAD_vs_SHAP.ipynb Cell 12\u001b[0m in \u001b[0;36m<cell line: 2>\u001b[0;34m()\u001b[0m\n\u001b[1;32m     <a href='vscode-notebook-cell://wsl%2Bubuntu/mnt/c/Repositories/SV-RBF/rbf_50_compounds_SVERAD_vs_SHAP.ipynb#X14sdnNjb2RlLXJlbW90ZQ%3D%3D?line=29'>30</a>\u001b[0m \u001b[39mwith\u001b[39;00m warnings\u001b[39m.\u001b[39mcatch_warnings():\n\u001b[1;32m     <a href='vscode-notebook-cell://wsl%2Bubuntu/mnt/c/Repositories/SV-RBF/rbf_50_compounds_SVERAD_vs_SHAP.ipynb#X14sdnNjb2RlLXJlbW90ZQ%3D%3D?line=30'>31</a>\u001b[0m     \u001b[39m# ignore all caught warnings\u001b[39;00m\n\u001b[1;32m     <a href='vscode-notebook-cell://wsl%2Bubuntu/mnt/c/Repositories/SV-RBF/rbf_50_compounds_SVERAD_vs_SHAP.ipynb#X14sdnNjb2RlLXJlbW90ZQ%3D%3D?line=31'>32</a>\u001b[0m     warnings\u001b[39m.\u001b[39mfilterwarnings(\u001b[39m\"\u001b[39m\u001b[39mignore\u001b[39m\u001b[39m\"\u001b[39m)\n\u001b[0;32m---> <a href='vscode-notebook-cell://wsl%2Bubuntu/mnt/c/Repositories/SV-RBF/rbf_50_compounds_SVERAD_vs_SHAP.ipynb#X14sdnNjb2RlLXJlbW90ZQ%3D%3D?line=32'>33</a>\u001b[0m     explainer_vi \u001b[39m=\u001b[39m shap\u001b[39m.\u001b[39;49mKernelExplainer(sim_func(arr_i), available_as_sample)\n\u001b[1;32m     <a href='vscode-notebook-cell://wsl%2Bubuntu/mnt/c/Repositories/SV-RBF/rbf_50_compounds_SVERAD_vs_SHAP.ipynb#X14sdnNjb2RlLXJlbW90ZQ%3D%3D?line=33'>34</a>\u001b[0m     \u001b[39m# explainer_vi = shap.KernelExplainer(exact_shapley_gen_i.rbf_kernel_value, available_as_sample)\u001b[39;00m\n\u001b[1;32m     <a href='vscode-notebook-cell://wsl%2Bubuntu/mnt/c/Repositories/SV-RBF/rbf_50_compounds_SVERAD_vs_SHAP.ipynb#X14sdnNjb2RlLXJlbW90ZQ%3D%3D?line=34'>35</a>\u001b[0m     shap_ij \u001b[39m=\u001b[39m explainer_vi\u001b[39m.\u001b[39mshap_values(arr_j, silent\u001b[39m=\u001b[39m\u001b[39mTrue\u001b[39;00m)\n",
      "File \u001b[0;32m~/anaconda3/envs/sveta/lib/python3.10/site-packages/shap/explainers/_kernel.py:70\u001b[0m, in \u001b[0;36mKernel.__init__\u001b[0;34m(self, model, data, link, **kwargs)\u001b[0m\n\u001b[1;32m     68\u001b[0m \u001b[39mself\u001b[39m\u001b[39m.\u001b[39mkeep_index_ordered \u001b[39m=\u001b[39m kwargs\u001b[39m.\u001b[39mget(\u001b[39m\"\u001b[39m\u001b[39mkeep_index_ordered\u001b[39m\u001b[39m\"\u001b[39m, \u001b[39mFalse\u001b[39;00m)\n\u001b[1;32m     69\u001b[0m \u001b[39mself\u001b[39m\u001b[39m.\u001b[39mdata \u001b[39m=\u001b[39m convert_to_data(data, keep_index\u001b[39m=\u001b[39m\u001b[39mself\u001b[39m\u001b[39m.\u001b[39mkeep_index)\n\u001b[0;32m---> 70\u001b[0m model_null \u001b[39m=\u001b[39m match_model_to_data(\u001b[39mself\u001b[39;49m\u001b[39m.\u001b[39;49mmodel, \u001b[39mself\u001b[39;49m\u001b[39m.\u001b[39;49mdata)\n\u001b[1;32m     72\u001b[0m \u001b[39m# enforce our current input type limitations\u001b[39;00m\n\u001b[1;32m     73\u001b[0m \u001b[39massert\u001b[39;00m \u001b[39misinstance\u001b[39m(\u001b[39mself\u001b[39m\u001b[39m.\u001b[39mdata, DenseData) \u001b[39mor\u001b[39;00m \u001b[39misinstance\u001b[39m(\u001b[39mself\u001b[39m\u001b[39m.\u001b[39mdata, SparseData), \\\n\u001b[1;32m     74\u001b[0m        \u001b[39m\"\u001b[39m\u001b[39mShap explainer only supports the DenseData and SparseData input currently.\u001b[39m\u001b[39m\"\u001b[39m\n",
      "File \u001b[0;32m~/anaconda3/envs/sveta/lib/python3.10/site-packages/shap/utils/_legacy.py:112\u001b[0m, in \u001b[0;36mmatch_model_to_data\u001b[0;34m(model, data)\u001b[0m\n\u001b[1;32m    110\u001b[0m         out_val \u001b[39m=\u001b[39m model\u001b[39m.\u001b[39mf(data\u001b[39m.\u001b[39mconvert_to_df())\n\u001b[1;32m    111\u001b[0m     \u001b[39melse\u001b[39;00m:\n\u001b[0;32m--> 112\u001b[0m         out_val \u001b[39m=\u001b[39m model\u001b[39m.\u001b[39;49mf(data\u001b[39m.\u001b[39;49mdata)\n\u001b[1;32m    113\u001b[0m \u001b[39mexcept\u001b[39;00m:\n\u001b[1;32m    114\u001b[0m     \u001b[39mprint\u001b[39m(\u001b[39m\"\u001b[39m\u001b[39mProvided model function fails when applied to the provided data set.\u001b[39m\u001b[39m\"\u001b[39m)\n",
      "\u001b[0;31mTypeError\u001b[0m: 'numpy.float64' object is not callable"
     ]
    }
   ],
   "source": [
    "save_path = \"./data/pickle/explanations_50_cpd_rbf_SVERAD_SHAP.p\"\n",
    "if not LOAD_PRECOMPUTED_EXPLANATIONS: # This takes about 8h\n",
    "    explanation_df = []\n",
    "    # Selecting a random subset\n",
    "    subset = shap.sample(dataset.feature_matrix, nsamples=SAMPLE_SIZE,  random_state=SEED)\n",
    "\n",
    "    # Iterating over all pairs.\n",
    "    for i, arr_i in tqdm(enumerate(subset), total=subset.shape[0]):\n",
    "        \n",
    "        print(np.array(arr_i.toarray()[0]))\n",
    "        \n",
    "        sim_func = lambda x: rbf_kernel(np.array(x.toarray()[0]), np.array(arr_i.toarray()[0]), gamma = GAMMA)\n",
    "        # exact_shapley_gen_i = ExactRBFShapleyComputation(arr_i, gamma=GAMMA) #used only to compute RBF kernel value\n",
    "        for j, arr_j in tqdm(enumerate(subset), total=subset.shape[0]):\n",
    "            if i == j:\n",
    "                continue\n",
    "            \n",
    "            # intersection_ij = arr_i.toarray()[0] * arr_j.toarray()[0]\n",
    "            # union_ij = 1 - (1-arr_i.toarray()[0]) * (1-arr_j.toarray()[0])\n",
    "            # diff_ij = union_ij - intersection_ij\n",
    "            # sveta_values_ij = intersection_ij * sveta_f_plus(sum(intersection_ij), sum(diff_ij))\n",
    "            # sveta_values_ij += diff_ij * sveta_f_minus(sum(intersection_ij), sum(diff_ij))\n",
    "\n",
    "            sverad_values_ij = compute_sverad_sv(arr_i.toarray()[0], arr_j.toarray()[0], gamma=GAMMA)\n",
    "            # removing CPDs of the pair from the background sample.\n",
    "            mask = np.ones(subset.shape[0], dtype=bool)\n",
    "            mask[i] = False\n",
    "            mask[j] = False\n",
    "            available_as_sample = subset[mask]\n",
    "            with warnings.catch_warnings():\n",
    "                # ignore all caught warnings\n",
    "                warnings.filterwarnings(\"ignore\")\n",
    "                explainer_vi = shap.KernelExplainer(sim_func(arr_i), available_as_sample)\n",
    "                # explainer_vi = shap.KernelExplainer(exact_shapley_gen_i.rbf_kernel_value, available_as_sample)\n",
    "                shap_ij = explainer_vi.shap_values(arr_j, silent=True)\n",
    "            explanation_df.append({\"instance a\": i,\n",
    "                                   \"instance b\": j,\n",
    "                                   \"SVERAD\": sverad_values_ij,\n",
    "                                   \"SHAP\": shap_ij,\n",
    "                                   \"SHAP_expected_value\": explainer_vi.expected_value,\n",
    "                                   })\n",
    "        break\n",
    "    explanation_df = pd.DataFrame(explanation_df)\n",
    "    if SAVE_EXPLANATIONS:\n",
    "        with open(save_path, \"wb\") as outfile:\n",
    "            pickle.dump(explanation_df, outfile)\n",
    "else:\n",
    "    with open(save_path, \"rb\") as infile:\n",
    "        explanation_df = pickle.load(infile)"
   ]
  },
  {
   "cell_type": "code",
   "execution_count": null,
   "id": "7333e82a",
   "metadata": {},
   "outputs": [
    {
     "ename": "KeyError",
     "evalue": "0",
     "output_type": "error",
     "traceback": [
      "\u001b[0;31m---------------------------------------------------------------------------\u001b[0m",
      "\u001b[0;31mKeyError\u001b[0m                                  Traceback (most recent call last)",
      "File \u001b[0;32m~/anaconda3/envs/sveta/lib/python3.10/site-packages/pandas/core/indexes/base.py:3621\u001b[0m, in \u001b[0;36mIndex.get_loc\u001b[0;34m(self, key, method, tolerance)\u001b[0m\n\u001b[1;32m   3620\u001b[0m \u001b[39mtry\u001b[39;00m:\n\u001b[0;32m-> 3621\u001b[0m     \u001b[39mreturn\u001b[39;00m \u001b[39mself\u001b[39;49m\u001b[39m.\u001b[39;49m_engine\u001b[39m.\u001b[39;49mget_loc(casted_key)\n\u001b[1;32m   3622\u001b[0m \u001b[39mexcept\u001b[39;00m \u001b[39mKeyError\u001b[39;00m \u001b[39mas\u001b[39;00m err:\n",
      "File \u001b[0;32m~/anaconda3/envs/sveta/lib/python3.10/site-packages/pandas/_libs/index.pyx:136\u001b[0m, in \u001b[0;36mpandas._libs.index.IndexEngine.get_loc\u001b[0;34m()\u001b[0m\n",
      "File \u001b[0;32m~/anaconda3/envs/sveta/lib/python3.10/site-packages/pandas/_libs/index.pyx:163\u001b[0m, in \u001b[0;36mpandas._libs.index.IndexEngine.get_loc\u001b[0;34m()\u001b[0m\n",
      "File \u001b[0;32mpandas/_libs/hashtable_class_helper.pxi:5198\u001b[0m, in \u001b[0;36mpandas._libs.hashtable.PyObjectHashTable.get_item\u001b[0;34m()\u001b[0m\n",
      "File \u001b[0;32mpandas/_libs/hashtable_class_helper.pxi:5206\u001b[0m, in \u001b[0;36mpandas._libs.hashtable.PyObjectHashTable.get_item\u001b[0;34m()\u001b[0m\n",
      "\u001b[0;31mKeyError\u001b[0m: 0",
      "\nThe above exception was the direct cause of the following exception:\n",
      "\u001b[0;31mKeyError\u001b[0m                                  Traceback (most recent call last)",
      "\u001b[1;32m/mnt/c/Repositories/SV-RBF/rbf_50_compounds_SVERAD_vs_SHAP.ipynb Cell 13\u001b[0m in \u001b[0;36m<cell line: 1>\u001b[0;34m()\u001b[0m\n\u001b[0;32m----> <a href='vscode-notebook-cell://wsl%2Bubuntu/mnt/c/Repositories/SV-RBF/rbf_50_compounds_SVERAD_vs_SHAP.ipynb#X30sdnNjb2RlLXJlbW90ZQ%3D%3D?line=0'>1</a>\u001b[0m explanation_df\u001b[39m.\u001b[39;49mloc[\u001b[39m0\u001b[39;49m][\u001b[39m\"\u001b[39m\u001b[39mSHAP\u001b[39m\u001b[39m\"\u001b[39m]\n",
      "File \u001b[0;32m~/anaconda3/envs/sveta/lib/python3.10/site-packages/pandas/core/indexing.py:967\u001b[0m, in \u001b[0;36m_LocationIndexer.__getitem__\u001b[0;34m(self, key)\u001b[0m\n\u001b[1;32m    964\u001b[0m axis \u001b[39m=\u001b[39m \u001b[39mself\u001b[39m\u001b[39m.\u001b[39maxis \u001b[39mor\u001b[39;00m \u001b[39m0\u001b[39m\n\u001b[1;32m    966\u001b[0m maybe_callable \u001b[39m=\u001b[39m com\u001b[39m.\u001b[39mapply_if_callable(key, \u001b[39mself\u001b[39m\u001b[39m.\u001b[39mobj)\n\u001b[0;32m--> 967\u001b[0m \u001b[39mreturn\u001b[39;00m \u001b[39mself\u001b[39;49m\u001b[39m.\u001b[39;49m_getitem_axis(maybe_callable, axis\u001b[39m=\u001b[39;49maxis)\n",
      "File \u001b[0;32m~/anaconda3/envs/sveta/lib/python3.10/site-packages/pandas/core/indexing.py:1202\u001b[0m, in \u001b[0;36m_LocIndexer._getitem_axis\u001b[0;34m(self, key, axis)\u001b[0m\n\u001b[1;32m   1200\u001b[0m \u001b[39m# fall thru to straight lookup\u001b[39;00m\n\u001b[1;32m   1201\u001b[0m \u001b[39mself\u001b[39m\u001b[39m.\u001b[39m_validate_key(key, axis)\n\u001b[0;32m-> 1202\u001b[0m \u001b[39mreturn\u001b[39;00m \u001b[39mself\u001b[39;49m\u001b[39m.\u001b[39;49m_get_label(key, axis\u001b[39m=\u001b[39;49maxis)\n",
      "File \u001b[0;32m~/anaconda3/envs/sveta/lib/python3.10/site-packages/pandas/core/indexing.py:1153\u001b[0m, in \u001b[0;36m_LocIndexer._get_label\u001b[0;34m(self, label, axis)\u001b[0m\n\u001b[1;32m   1151\u001b[0m \u001b[39mdef\u001b[39;00m \u001b[39m_get_label\u001b[39m(\u001b[39mself\u001b[39m, label, axis: \u001b[39mint\u001b[39m):\n\u001b[1;32m   1152\u001b[0m     \u001b[39m# GH#5667 this will fail if the label is not present in the axis.\u001b[39;00m\n\u001b[0;32m-> 1153\u001b[0m     \u001b[39mreturn\u001b[39;00m \u001b[39mself\u001b[39;49m\u001b[39m.\u001b[39;49mobj\u001b[39m.\u001b[39;49mxs(label, axis\u001b[39m=\u001b[39;49maxis)\n",
      "File \u001b[0;32m~/anaconda3/envs/sveta/lib/python3.10/site-packages/pandas/core/generic.py:3864\u001b[0m, in \u001b[0;36mNDFrame.xs\u001b[0;34m(self, key, axis, level, drop_level)\u001b[0m\n\u001b[1;32m   3862\u001b[0m             new_index \u001b[39m=\u001b[39m index[loc]\n\u001b[1;32m   3863\u001b[0m \u001b[39melse\u001b[39;00m:\n\u001b[0;32m-> 3864\u001b[0m     loc \u001b[39m=\u001b[39m index\u001b[39m.\u001b[39;49mget_loc(key)\n\u001b[1;32m   3866\u001b[0m     \u001b[39mif\u001b[39;00m \u001b[39misinstance\u001b[39m(loc, np\u001b[39m.\u001b[39mndarray):\n\u001b[1;32m   3867\u001b[0m         \u001b[39mif\u001b[39;00m loc\u001b[39m.\u001b[39mdtype \u001b[39m==\u001b[39m np\u001b[39m.\u001b[39mbool_:\n",
      "File \u001b[0;32m~/anaconda3/envs/sveta/lib/python3.10/site-packages/pandas/core/indexes/base.py:3623\u001b[0m, in \u001b[0;36mIndex.get_loc\u001b[0;34m(self, key, method, tolerance)\u001b[0m\n\u001b[1;32m   3621\u001b[0m     \u001b[39mreturn\u001b[39;00m \u001b[39mself\u001b[39m\u001b[39m.\u001b[39m_engine\u001b[39m.\u001b[39mget_loc(casted_key)\n\u001b[1;32m   3622\u001b[0m \u001b[39mexcept\u001b[39;00m \u001b[39mKeyError\u001b[39;00m \u001b[39mas\u001b[39;00m err:\n\u001b[0;32m-> 3623\u001b[0m     \u001b[39mraise\u001b[39;00m \u001b[39mKeyError\u001b[39;00m(key) \u001b[39mfrom\u001b[39;00m \u001b[39merr\u001b[39;00m\n\u001b[1;32m   3624\u001b[0m \u001b[39mexcept\u001b[39;00m \u001b[39mTypeError\u001b[39;00m:\n\u001b[1;32m   3625\u001b[0m     \u001b[39m# If we have a listlike key, _check_indexing_error will raise\u001b[39;00m\n\u001b[1;32m   3626\u001b[0m     \u001b[39m#  InvalidIndexError. Otherwise we fall through and re-raise\u001b[39;00m\n\u001b[1;32m   3627\u001b[0m     \u001b[39m#  the TypeError.\u001b[39;00m\n\u001b[1;32m   3628\u001b[0m     \u001b[39mself\u001b[39m\u001b[39m.\u001b[39m_check_indexing_error(key)\n",
      "\u001b[0;31mKeyError\u001b[0m: 0"
     ]
    }
   ],
   "source": [
    "explanation_df.loc[0][\"SHAP\"]"
   ]
  },
  {
   "attachments": {},
   "cell_type": "markdown",
   "id": "d0e93322",
   "metadata": {},
   "source": [
    "### Correlation"
   ]
  },
  {
   "cell_type": "code",
   "execution_count": null,
   "id": "f3ccc9dc",
   "metadata": {},
   "outputs": [
    {
     "name": "stderr",
     "output_type": "stream",
     "text": [
      "An input array is constant; the correlation coefficient is not defined.\n"
     ]
    },
    {
     "data": {
      "text/html": [
       "<div>\n",
       "<style scoped>\n",
       "    .dataframe tbody tr th:only-of-type {\n",
       "        vertical-align: middle;\n",
       "    }\n",
       "\n",
       "    .dataframe tbody tr th {\n",
       "        vertical-align: top;\n",
       "    }\n",
       "\n",
       "    .dataframe thead th {\n",
       "        text-align: right;\n",
       "    }\n",
       "</style>\n",
       "<table border=\"1\" class=\"dataframe\">\n",
       "  <thead>\n",
       "    <tr style=\"text-align: right;\">\n",
       "      <th></th>\n",
       "      <th>a</th>\n",
       "      <th>b</th>\n",
       "      <th>Correlation SVERAD - SHAP</th>\n",
       "    </tr>\n",
       "  </thead>\n",
       "  <tbody>\n",
       "    <tr>\n",
       "      <th>0</th>\n",
       "      <td>0</td>\n",
       "      <td>1</td>\n",
       "      <td>NaN</td>\n",
       "    </tr>\n",
       "    <tr>\n",
       "      <th>1</th>\n",
       "      <td>0</td>\n",
       "      <td>2</td>\n",
       "      <td>NaN</td>\n",
       "    </tr>\n",
       "    <tr>\n",
       "      <th>2</th>\n",
       "      <td>0</td>\n",
       "      <td>3</td>\n",
       "      <td>NaN</td>\n",
       "    </tr>\n",
       "    <tr>\n",
       "      <th>3</th>\n",
       "      <td>0</td>\n",
       "      <td>4</td>\n",
       "      <td>NaN</td>\n",
       "    </tr>\n",
       "    <tr>\n",
       "      <th>4</th>\n",
       "      <td>0</td>\n",
       "      <td>5</td>\n",
       "      <td>NaN</td>\n",
       "    </tr>\n",
       "    <tr>\n",
       "      <th>5</th>\n",
       "      <td>0</td>\n",
       "      <td>6</td>\n",
       "      <td>NaN</td>\n",
       "    </tr>\n",
       "    <tr>\n",
       "      <th>6</th>\n",
       "      <td>0</td>\n",
       "      <td>7</td>\n",
       "      <td>NaN</td>\n",
       "    </tr>\n",
       "    <tr>\n",
       "      <th>7</th>\n",
       "      <td>0</td>\n",
       "      <td>8</td>\n",
       "      <td>NaN</td>\n",
       "    </tr>\n",
       "    <tr>\n",
       "      <th>8</th>\n",
       "      <td>0</td>\n",
       "      <td>9</td>\n",
       "      <td>NaN</td>\n",
       "    </tr>\n",
       "  </tbody>\n",
       "</table>\n",
       "</div>"
      ],
      "text/plain": [
       "   a  b  Correlation SVERAD - SHAP\n",
       "0  0  1                        NaN\n",
       "1  0  2                        NaN\n",
       "2  0  3                        NaN\n",
       "3  0  4                        NaN\n",
       "4  0  5                        NaN\n",
       "5  0  6                        NaN\n",
       "6  0  7                        NaN\n",
       "7  0  8                        NaN\n",
       "8  0  9                        NaN"
      ]
     },
     "metadata": {},
     "output_type": "display_data"
    },
    {
     "data": {
      "text/plain": [
       "a                            0.0\n",
       "b                            5.0\n",
       "Correlation SVERAD - SHAP    NaN\n",
       "dtype: float64"
      ]
     },
     "metadata": {},
     "output_type": "display_data"
    },
    {
     "data": {
      "text/plain": [
       "a                            0.000000\n",
       "b                            2.738613\n",
       "Correlation SVERAD - SHAP         NaN\n",
       "dtype: float64"
      ]
     },
     "metadata": {},
     "output_type": "display_data"
    }
   ],
   "source": [
    "corr_df = []\n",
    "for i, row in explanation_df.iterrows():\n",
    "    if row[\"instance a\"] == row[\"instance b\"]:\n",
    "        continue\n",
    "    sverad_value = row[\"SVERAD\"]\n",
    "    shap = row[\"SHAP\"][0]\n",
    "    \n",
    "    \n",
    "    corr_sverad_SHAP, p_sverad_SHAP = pearsonr(sverad_value, shap)\n",
    "    \n",
    "\n",
    "    corr_df.append({\"a\": row[\"instance a\"], \"b\": row[\"instance b\"],  \"Correlation SVERAD - SHAP\": corr_sverad_SHAP})\n",
    "corr_df = pd.DataFrame(corr_df)\n",
    "display(corr_df)\n",
    "display(corr_df.mean())\n",
    "display(corr_df.std())"
   ]
  },
  {
   "cell_type": "code",
   "execution_count": null,
   "id": "82b4d8f5-6c52-4b44-b281-4c5febde3d31",
   "metadata": {
    "pycharm": {
     "name": "#%%\n"
    }
   },
   "outputs": [
    {
     "ename": "KeyError",
     "evalue": "'SVETA'",
     "output_type": "error",
     "traceback": [
      "\u001b[0;31m---------------------------------------------------------------------------\u001b[0m",
      "\u001b[0;31mKeyError\u001b[0m                                  Traceback (most recent call last)",
      "File \u001b[0;32m~/anaconda3/envs/sveta/lib/python3.10/site-packages/pandas/core/indexes/base.py:3621\u001b[0m, in \u001b[0;36mIndex.get_loc\u001b[0;34m(self, key, method, tolerance)\u001b[0m\n\u001b[1;32m   3620\u001b[0m \u001b[39mtry\u001b[39;00m:\n\u001b[0;32m-> 3621\u001b[0m     \u001b[39mreturn\u001b[39;00m \u001b[39mself\u001b[39;49m\u001b[39m.\u001b[39;49m_engine\u001b[39m.\u001b[39;49mget_loc(casted_key)\n\u001b[1;32m   3622\u001b[0m \u001b[39mexcept\u001b[39;00m \u001b[39mKeyError\u001b[39;00m \u001b[39mas\u001b[39;00m err:\n",
      "File \u001b[0;32m~/anaconda3/envs/sveta/lib/python3.10/site-packages/pandas/_libs/index.pyx:136\u001b[0m, in \u001b[0;36mpandas._libs.index.IndexEngine.get_loc\u001b[0;34m()\u001b[0m\n",
      "File \u001b[0;32m~/anaconda3/envs/sveta/lib/python3.10/site-packages/pandas/_libs/index.pyx:163\u001b[0m, in \u001b[0;36mpandas._libs.index.IndexEngine.get_loc\u001b[0;34m()\u001b[0m\n",
      "File \u001b[0;32mpandas/_libs/hashtable_class_helper.pxi:5198\u001b[0m, in \u001b[0;36mpandas._libs.hashtable.PyObjectHashTable.get_item\u001b[0;34m()\u001b[0m\n",
      "File \u001b[0;32mpandas/_libs/hashtable_class_helper.pxi:5206\u001b[0m, in \u001b[0;36mpandas._libs.hashtable.PyObjectHashTable.get_item\u001b[0;34m()\u001b[0m\n",
      "\u001b[0;31mKeyError\u001b[0m: 'SVETA'",
      "\nThe above exception was the direct cause of the following exception:\n",
      "\u001b[0;31mKeyError\u001b[0m                                  Traceback (most recent call last)",
      "\u001b[1;32m/mnt/c/Repositories/SV-RBF/rbf_50_compounds_SVERAD_vs_SHAP.ipynb Cell 16\u001b[0m in \u001b[0;36m<cell line: 2>\u001b[0;34m()\u001b[0m\n\u001b[1;32m      <a href='vscode-notebook-cell://wsl%2Bubuntu/mnt/c/Repositories/SV-RBF/rbf_50_compounds_SVERAD_vs_SHAP.ipynb#X20sdnNjb2RlLXJlbW90ZQ%3D%3D?line=2'>3</a>\u001b[0m \u001b[39mif\u001b[39;00m row[\u001b[39m\"\u001b[39m\u001b[39minstance a\u001b[39m\u001b[39m\"\u001b[39m] \u001b[39m==\u001b[39m row[\u001b[39m\"\u001b[39m\u001b[39minstance b\u001b[39m\u001b[39m\"\u001b[39m]:\n\u001b[1;32m      <a href='vscode-notebook-cell://wsl%2Bubuntu/mnt/c/Repositories/SV-RBF/rbf_50_compounds_SVERAD_vs_SHAP.ipynb#X20sdnNjb2RlLXJlbW90ZQ%3D%3D?line=3'>4</a>\u001b[0m     \u001b[39mcontinue\u001b[39;00m\n\u001b[0;32m----> <a href='vscode-notebook-cell://wsl%2Bubuntu/mnt/c/Repositories/SV-RBF/rbf_50_compounds_SVERAD_vs_SHAP.ipynb#X20sdnNjb2RlLXJlbW90ZQ%3D%3D?line=4'>5</a>\u001b[0m sveata_values \u001b[39m=\u001b[39m row[\u001b[39m\"\u001b[39;49m\u001b[39mSVETA\u001b[39;49m\u001b[39m\"\u001b[39;49m]\n\u001b[1;32m      <a href='vscode-notebook-cell://wsl%2Bubuntu/mnt/c/Repositories/SV-RBF/rbf_50_compounds_SVERAD_vs_SHAP.ipynb#X20sdnNjb2RlLXJlbW90ZQ%3D%3D?line=5'>6</a>\u001b[0m kernel_shap \u001b[39m=\u001b[39m row[\u001b[39m\"\u001b[39m\u001b[39mSHAP\u001b[39m\u001b[39m\"\u001b[39m][\u001b[39m0\u001b[39m]\n\u001b[1;32m      <a href='vscode-notebook-cell://wsl%2Bubuntu/mnt/c/Repositories/SV-RBF/rbf_50_compounds_SVERAD_vs_SHAP.ipynb#X20sdnNjb2RlLXJlbW90ZQ%3D%3D?line=7'>8</a>\u001b[0m corr, p \u001b[39m=\u001b[39m pearsonr(sveata_values, kernel_shap)\n",
      "File \u001b[0;32m~/anaconda3/envs/sveta/lib/python3.10/site-packages/pandas/core/series.py:958\u001b[0m, in \u001b[0;36mSeries.__getitem__\u001b[0;34m(self, key)\u001b[0m\n\u001b[1;32m    955\u001b[0m     \u001b[39mreturn\u001b[39;00m \u001b[39mself\u001b[39m\u001b[39m.\u001b[39m_values[key]\n\u001b[1;32m    957\u001b[0m \u001b[39melif\u001b[39;00m key_is_scalar:\n\u001b[0;32m--> 958\u001b[0m     \u001b[39mreturn\u001b[39;00m \u001b[39mself\u001b[39;49m\u001b[39m.\u001b[39;49m_get_value(key)\n\u001b[1;32m    960\u001b[0m \u001b[39mif\u001b[39;00m is_hashable(key):\n\u001b[1;32m    961\u001b[0m     \u001b[39m# Otherwise index.get_value will raise InvalidIndexError\u001b[39;00m\n\u001b[1;32m    962\u001b[0m     \u001b[39mtry\u001b[39;00m:\n\u001b[1;32m    963\u001b[0m         \u001b[39m# For labels that don't resolve as scalars like tuples and frozensets\u001b[39;00m\n",
      "File \u001b[0;32m~/anaconda3/envs/sveta/lib/python3.10/site-packages/pandas/core/series.py:1069\u001b[0m, in \u001b[0;36mSeries._get_value\u001b[0;34m(self, label, takeable)\u001b[0m\n\u001b[1;32m   1066\u001b[0m     \u001b[39mreturn\u001b[39;00m \u001b[39mself\u001b[39m\u001b[39m.\u001b[39m_values[label]\n\u001b[1;32m   1068\u001b[0m \u001b[39m# Similar to Index.get_value, but we do not fall back to positional\u001b[39;00m\n\u001b[0;32m-> 1069\u001b[0m loc \u001b[39m=\u001b[39m \u001b[39mself\u001b[39;49m\u001b[39m.\u001b[39;49mindex\u001b[39m.\u001b[39;49mget_loc(label)\n\u001b[1;32m   1070\u001b[0m \u001b[39mreturn\u001b[39;00m \u001b[39mself\u001b[39m\u001b[39m.\u001b[39mindex\u001b[39m.\u001b[39m_get_values_for_loc(\u001b[39mself\u001b[39m, loc, label)\n",
      "File \u001b[0;32m~/anaconda3/envs/sveta/lib/python3.10/site-packages/pandas/core/indexes/base.py:3623\u001b[0m, in \u001b[0;36mIndex.get_loc\u001b[0;34m(self, key, method, tolerance)\u001b[0m\n\u001b[1;32m   3621\u001b[0m     \u001b[39mreturn\u001b[39;00m \u001b[39mself\u001b[39m\u001b[39m.\u001b[39m_engine\u001b[39m.\u001b[39mget_loc(casted_key)\n\u001b[1;32m   3622\u001b[0m \u001b[39mexcept\u001b[39;00m \u001b[39mKeyError\u001b[39;00m \u001b[39mas\u001b[39;00m err:\n\u001b[0;32m-> 3623\u001b[0m     \u001b[39mraise\u001b[39;00m \u001b[39mKeyError\u001b[39;00m(key) \u001b[39mfrom\u001b[39;00m \u001b[39merr\u001b[39;00m\n\u001b[1;32m   3624\u001b[0m \u001b[39mexcept\u001b[39;00m \u001b[39mTypeError\u001b[39;00m:\n\u001b[1;32m   3625\u001b[0m     \u001b[39m# If we have a listlike key, _check_indexing_error will raise\u001b[39;00m\n\u001b[1;32m   3626\u001b[0m     \u001b[39m#  InvalidIndexError. Otherwise we fall through and re-raise\u001b[39;00m\n\u001b[1;32m   3627\u001b[0m     \u001b[39m#  the TypeError.\u001b[39;00m\n\u001b[1;32m   3628\u001b[0m     \u001b[39mself\u001b[39m\u001b[39m.\u001b[39m_check_indexing_error(key)\n",
      "\u001b[0;31mKeyError\u001b[0m: 'SVETA'"
     ]
    }
   ],
   "source": [
    "corr_df = []\n",
    "for i, row in explanation_df.iterrows():\n",
    "    if row[\"instance a\"] == row[\"instance b\"]:\n",
    "        continue\n",
    "    sveata_values = row[\"SVETA\"]\n",
    "    kernel_shap = row[\"SHAP\"][0]\n",
    "    \n",
    "    corr, p = pearsonr(sveata_values, kernel_shap)\n",
    "    corr_df.append({\"a\": row[\"instance a\"], \"b\": row[\"instance b\"], \"correlation\": corr})\n",
    "corr_df = pd.DataFrame(corr_df)\n",
    "# Fisher transformation\n",
    "corr_df[\"pearsons_r_fisher\"] = np.arctanh(corr_df.correlation)"
   ]
  },
  {
   "cell_type": "code",
   "execution_count": null,
   "id": "88e3239a-e530-4d29-90a2-b599b341fdc8",
   "metadata": {
    "pycharm": {
     "name": "#%%\n"
    }
   },
   "outputs": [
    {
     "data": {
      "image/png": "[encoded data removed]",
      "text/plain": [
       "<Figure size 576x432 with 1 Axes>"
      ]
     },
     "metadata": {
      "needs_background": "light"
     },
     "output_type": "display_data"
    }
   ],
   "source": [
    "fig, ax = plt.subplots(figsize=(8,6))\n",
    "ax.boxplot(corr_df.pearsons_r_fisher)\n",
    "#ax.set_ylim(-0.1,4.05)\n",
    "ax.set_ylabel(\"arctanh(Pearson's r)\")\n",
    "secax = ax.secondary_yaxis('right', functions=(np.tanh, np.arctanh))\n",
    "secax.set_ylabel(\"Pearson's r\")\n",
    "secax.set_yticks([-0.5, 0, 0.5, 0.75, 0.9]);"
   ]
  },
  {
   "cell_type": "code",
   "execution_count": null,
   "metadata": {
    "collapsed": false,
    "pycharm": {
     "name": "#%%\n"
    }
   },
   "outputs": [],
   "source": [
    "# Transforming values back."
   ]
  },
  {
   "cell_type": "code",
   "execution_count": null,
   "id": "e4856428-b105-4431-bac6-a52af3052901",
   "metadata": {
    "pycharm": {
     "name": "#%%\n"
    }
   },
   "outputs": [
    {
     "data": {
      "text/plain": [
       "0.649892998314384"
      ]
     },
     "execution_count": 8,
     "metadata": {},
     "output_type": "execute_result"
    }
   ],
   "source": [
    "np.tanh(corr_df[\"pearsons_r_fisher\"].mean())"
   ]
  },
  {
   "cell_type": "code",
   "execution_count": null,
   "id": "d43da3eb-e072-4f76-97dd-04d4a16f2cf7",
   "metadata": {
    "pycharm": {
     "name": "#%%\n"
    }
   },
   "outputs": [
    {
     "data": {
      "text/plain": [
       "0.2859206243481188"
      ]
     },
     "execution_count": 9,
     "metadata": {},
     "output_type": "execute_result"
    }
   ],
   "source": [
    "np.tanh(corr_df[\"pearsons_r_fisher\"].std())"
   ]
  },
  {
   "cell_type": "code",
   "execution_count": null,
   "id": "4ed10602-2e90-4279-9cd2-1c0ceb8cbc17",
   "metadata": {
    "pycharm": {
     "name": "#%%\n"
    }
   },
   "outputs": [
    {
     "data": {
      "text/plain": [
       "0.02871895496728314"
      ]
     },
     "execution_count": 10,
     "metadata": {},
     "output_type": "execute_result"
    }
   ],
   "source": [
    "np.tanh(corr_df[\"pearsons_r_fisher\"].min())"
   ]
  },
  {
   "cell_type": "code",
   "execution_count": null,
   "id": "5e2d08e4",
   "metadata": {
    "collapsed": false,
    "jupyter": {
     "outputs_hidden": false
    },
    "pycharm": {
     "name": "#%%\n"
    }
   },
   "outputs": [
    {
     "data": {
      "text/plain": [
       "0.9004001823616157"
      ]
     },
     "execution_count": 11,
     "metadata": {},
     "output_type": "execute_result"
    }
   ],
   "source": [
    "np.tanh(corr_df[\"pearsons_r_fisher\"].max())"
   ]
  }
 ],
 "metadata": {
  "kernelspec": {
   "display_name": "Python 3 (ipykernel)",
   "language": "python",
   "name": "python3"
  },
  "language_info": {
   "codemirror_mode": {
    "name": "ipython",
    "version": 3
   },
   "file_extension": ".py",
   "mimetype": "text/x-python",
   "name": "python",
   "nbconvert_exporter": "python",
   "pygments_lexer": "ipython3",
   "version": "3.10.5"
  }
 },
 "nbformat": 4,
 "nbformat_minor": 5
}
