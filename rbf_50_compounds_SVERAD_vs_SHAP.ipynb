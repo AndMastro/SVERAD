{
 "cells": [
  {
   "attachments": {},
   "cell_type": "markdown",
   "metadata": {
    "collapsed": false,
    "pycharm": {
     "name": "#%% md\n"
    }
   },
   "source": [
    "# Comparison of SVERAD and SHAP on the RBF kernel for 50 random compounds."
   ]
  },
  {
   "cell_type": "code",
   "execution_count": 1,
   "metadata": {
    "collapsed": false,
    "pycharm": {
     "name": "#%%\n"
    }
   },
   "outputs": [],
   "source": [
    "from src.sverad_kernel import compute_sverad_sv, rbf_kernel_matrix, rbf_kernel_matrix_sparse\n",
    "from src.utils import set_seeds, DataSet, UnfoldedMorganFingerprint\n",
    "\n",
    "import matplotlib.pyplot as plt\n",
    "import numpy as np\n",
    "import pandas as pd\n",
    "import pickle\n",
    "\n",
    "from scipy.stats import pearsonr\n",
    "from tqdm.auto import tqdm\n",
    "import warnings\n",
    "import shap"
   ]
  },
  {
   "cell_type": "code",
   "execution_count": 2,
   "id": "c44d3c8b",
   "metadata": {},
   "outputs": [],
   "source": [
    "SEED = 42\n",
    "set_seeds(SEED)\n",
    "GAMMA = 0.05 #0.01  #1.0 0.005 \n",
    "\n",
    "SAVE_DATASET_PICKLE = False\n",
    "LOAD_DATASET_PICKLE = True\n",
    "LOAD_PRECOMPUTED_EXPLANATIONS = True\n",
    "SAVE_EXPLANATIONS = False\n",
    "SAMPLE_SIZE = 50\n",
    "\n",
    "save_path = \"./data/pickle/explanations_50_cpd_rbf_SVERAD_SHAP.p\""
   ]
  },
  {
   "attachments": {},
   "cell_type": "markdown",
   "id": "8a651953",
   "metadata": {},
   "source": [
    "### Load and generate dataset"
   ]
  },
  {
   "cell_type": "code",
   "execution_count": 3,
   "id": "2c3f3f77-4538-49b1-8277-fada73a415da",
   "metadata": {
    "pycharm": {
     "name": "#%%\n"
    }
   },
   "outputs": [
    {
     "data": {
      "text/html": [
       "<div>\n",
       "<style scoped>\n",
       "    .dataframe tbody tr th:only-of-type {\n",
       "        vertical-align: middle;\n",
       "    }\n",
       "\n",
       "    .dataframe tbody tr th {\n",
       "        vertical-align: top;\n",
       "    }\n",
       "\n",
       "    .dataframe thead th {\n",
       "        text-align: right;\n",
       "    }\n",
       "</style>\n",
       "<table border=\"1\" class=\"dataframe\">\n",
       "  <thead>\n",
       "    <tr style=\"text-align: right;\">\n",
       "      <th>label</th>\n",
       "      <th>active</th>\n",
       "      <th>random</th>\n",
       "    </tr>\n",
       "    <tr>\n",
       "      <th>uniprot_id</th>\n",
       "      <th></th>\n",
       "      <th></th>\n",
       "    </tr>\n",
       "  </thead>\n",
       "  <tbody>\n",
       "    <tr>\n",
       "      <th>P0DMS8</th>\n",
       "      <td>287</td>\n",
       "      <td>287</td>\n",
       "    </tr>\n",
       "  </tbody>\n",
       "</table>\n",
       "</div>"
      ],
      "text/plain": [
       "label       active  random\n",
       "uniprot_id                \n",
       "P0DMS8         287     287"
      ]
     },
     "execution_count": 3,
     "metadata": {},
     "output_type": "execute_result"
    }
   ],
   "source": [
    "dataset_df = pd.read_csv(\"data/dataset.tsv\", sep=\"\\t\")\n",
    "dataset_df.pivot_table(index=\"uniprot_id\", columns=\"label\", values=\"nonstereo_aromatic_smiles\", aggfunc=\"nunique\", fill_value=0)"
   ]
  },
  {
   "cell_type": "code",
   "execution_count": 4,
   "id": "5a0593b4",
   "metadata": {},
   "outputs": [],
   "source": [
    "dataset_dict = dict()\n",
    "fingerprint_gen_dict = dict()\n",
    "\n",
    "if not LOAD_DATASET_PICKLE:\n",
    "    for dataset_name, data_grpd_df in dataset_df.groupby(\"uniprot_id\"):\n",
    "        \n",
    "        # label: 1: active, 0: random\n",
    "        labels = np.array([1 if l == 'active' else 0 for l in data_grpd_df.label])\n",
    "        # Creating Fingerprint\n",
    "        morgan_radius2 = UnfoldedMorganFingerprint(radius=2)\n",
    "        morgan_radius2.fit_smiles(data_grpd_df.nonstereo_aromatic_smiles.tolist())\n",
    "        \n",
    "        # Constructing Dataset\n",
    "        fp_matrix = morgan_radius2.transform_smiles(data_grpd_df.nonstereo_aromatic_smiles.tolist())\n",
    "        # Constructing Dataset\n",
    "        dataset = DataSet(labels, fp_matrix)\n",
    "        dataset.add_attribute(\"nonstereo_aromatic_smiles\", data_grpd_df.nonstereo_aromatic_smiles.values)\n",
    "        \n",
    "        dataset_dict[dataset_name] = dataset\n",
    "        fingerprint_gen_dict[dataset_name] = morgan_radius2"
   ]
  },
  {
   "attachments": {},
   "cell_type": "markdown",
   "id": "91cc814b",
   "metadata": {},
   "source": [
    "#### Save/load dataset and fingerprint for future use"
   ]
  },
  {
   "cell_type": "code",
   "execution_count": 5,
   "id": "53413887",
   "metadata": {},
   "outputs": [],
   "source": [
    "if SAVE_DATASET_PICKLE:\n",
    "    with open(\"./data/pickle/dataset_dict.p\", \"wb\") as outfile:\n",
    "        pickle.dump(dataset_dict, outfile)\n",
    "    with open(\"./data/pickle/fingerprint_gen_dict.p\", \"wb\") as outfile:\n",
    "        pickle.dump(fingerprint_gen_dict, outfile)\n",
    "if LOAD_DATASET_PICKLE:\n",
    "    with open(\"./data/pickle/dataset_dict.p\", \"rb\") as infile:\n",
    "        dataset_dict = pickle.load(infile)\n",
    "    with open(\"./data/pickle/fingerprint_gen_dict.p\", \"rb\") as infile:\n",
    "        fingerprint_gen_dict = pickle.load(infile)"
   ]
  },
  {
   "cell_type": "markdown",
   "id": "ba283ba3-a7b0-43eb-bc5a-19d3456da371",
   "metadata": {
    "pycharm": {
     "name": "#%% md\n"
    }
   },
   "source": [
    "# Analysis"
   ]
  },
  {
   "cell_type": "code",
   "execution_count": 6,
   "id": "a9ae758b-d66b-48ef-b31b-e576e65036e4",
   "metadata": {
    "pycharm": {
     "name": "#%%\n"
    }
   },
   "outputs": [],
   "source": [
    "dataset = dataset_dict[\"P0DMS8\"]"
   ]
  },
  {
   "cell_type": "code",
   "execution_count": 7,
   "id": "6e430d72-29f6-4e4b-a715-1444daa90b4b",
   "metadata": {
    "pycharm": {
     "name": "#%%\n"
    }
   },
   "outputs": [
    {
     "name": "stdout",
     "output_type": "stream",
     "text": [
      "Number of CPDs: 574\n",
      "Number of features: 5487\n"
     ]
    }
   ],
   "source": [
    "print(\"Number of CPDs: {}\\nNumber of features: {}\".format(*dataset.feature_matrix.shape))"
   ]
  },
  {
   "cell_type": "code",
   "execution_count": 8,
   "id": "06439aa8-216d-4a6f-bcd5-d07a3365c600",
   "metadata": {
    "pycharm": {
     "name": "#%%\n"
    }
   },
   "outputs": [],
   "source": [
    "if not LOAD_PRECOMPUTED_EXPLANATIONS: # This takes about 6-7h\n",
    "    explanation_df = []\n",
    "    # Selecting a random subset\n",
    "    subset = shap.sample(dataset.feature_matrix, nsamples=SAMPLE_SIZE, random_state=SEED)\n",
    "\n",
    "    # Iterating over all pairs.\n",
    "    for i, arr_i in tqdm(enumerate(subset), total=SAMPLE_SIZE):\n",
    "        \n",
    "        \n",
    "        \n",
    "        # kernel_func = lambda x: rbf_kernel_matrix(x.toarray(), arr_i.toarray().reshape((1, -1)), gamma = GAMMA)[:, 0] #with np.array\n",
    "        kernel_func = lambda x: rbf_kernel_matrix_sparse(x, arr_i, gamma = GAMMA)[:, 0] #with sparse matrix\n",
    "        \n",
    "        for j, arr_j in tqdm(enumerate(subset), total=SAMPLE_SIZE):\n",
    "            if i == j:\n",
    "                continue\n",
    "            \n",
    "            # intersection_ij = arr_i.toarray()[0] * arr_j.toarray()[0]\n",
    "            # union_ij = 1 - (1-arr_i.toarray()[0]) * (1-arr_j.toarray()[0])\n",
    "            # diff_ij = union_ij - intersection_ij\n",
    "            # sveta_values_ij = intersection_ij * sveta_f_plus(sum(intersection_ij), sum(diff_ij))\n",
    "            # sveta_values_ij += diff_ij * sveta_f_minus(sum(intersection_ij), sum(diff_ij))\n",
    "\n",
    "            sverad_values_ij = compute_sverad_sv(arr_i.toarray()[0], arr_j.toarray()[0], gamma=GAMMA)\n",
    "            \n",
    "            # removing CPDs of the pair from the background sample.\n",
    "            mask = np.ones(subset.shape[0], dtype=bool)\n",
    "            mask[i] = False\n",
    "            mask[j] = False\n",
    "            available_as_sample = subset[mask]\n",
    "            \n",
    "            with warnings.catch_warnings():\n",
    "                # ignore all caught warnings\n",
    "                warnings.filterwarnings(\"ignore\")\n",
    "                explainer_vi = shap.KernelExplainer(kernel_func, available_as_sample)\n",
    "                \n",
    "                # kernel_value = rbf_kernel_matrix(arr_i.toarray(), arr_j.toarray(), gamma = GAMMA) \n",
    "                kernel_value = rbf_kernel_matrix_sparse(arr_i, arr_j, gamma = GAMMA) \n",
    "                shap_ij = explainer_vi.shap_values(arr_j, silent=True)\n",
    "                \n",
    "            explanation_df.append({\"instance a\": i,\n",
    "                                   \"instance b\": j,\n",
    "                                   \"RBF kernel value\": kernel_value[0][0],\n",
    "                                   \"SVERAD\": sverad_values_ij,\n",
    "                                   \"SHAP\": shap_ij[0],\n",
    "                                   \"SHAP_expected_value\": explainer_vi.expected_value,\n",
    "                                   })\n",
    "        #break\n",
    "    explanation_df = pd.DataFrame(explanation_df)\n",
    "    if SAVE_EXPLANATIONS:\n",
    "        with open(save_path, \"wb\") as outfile:\n",
    "            pickle.dump(explanation_df, outfile)\n",
    "else:\n",
    "    with open(save_path, \"rb\") as infile:\n",
    "        explanation_df = pickle.load(infile)"
   ]
  },
  {
   "cell_type": "code",
   "execution_count": 9,
   "id": "3dcd025f",
   "metadata": {},
   "outputs": [],
   "source": [
    "# rbf_kernel_matrix(arr_i.toarray(), arr_j.toarray(), gamma = GAMMA)[:, 0]"
   ]
  },
  {
   "cell_type": "code",
   "execution_count": 10,
   "id": "46bd837e",
   "metadata": {},
   "outputs": [],
   "source": [
    "# rbf_kernel_optimized(2, gamma=GAMMA)"
   ]
  },
  {
   "cell_type": "code",
   "execution_count": 11,
   "id": "d93b290b",
   "metadata": {},
   "outputs": [],
   "source": [
    "# compute_sverad_sv(arr_i.toarray()[0], arr_j.toarray()[0], gamma=GAMMA).sum()"
   ]
  },
  {
   "cell_type": "code",
   "execution_count": 12,
   "id": "3797b00c",
   "metadata": {},
   "outputs": [],
   "source": [
    "# rbf_kernel_matrix(arr_i.toarray(), arr_j.toarray(), gamma = GAMMA)[:, 0]\n",
    "# x = np.array([1, 0, 1, 0, 1, 0, 1, 0])\n",
    "# y = np.array([1, 1, 1, 1, 1, 1, 1, 1])\n",
    "\n",
    "# rbf_kernel(x, y, gamma = GAMMA)"
   ]
  },
  {
   "cell_type": "code",
   "execution_count": 13,
   "id": "c4525c52",
   "metadata": {},
   "outputs": [],
   "source": [
    "# intersection_xy = x * y  # Vector where intersecting features are set to 1\n",
    "# union_xy = 1 - (1-x) * (1-y)  # Vector where features of the union are set to 1\n",
    "# diff_xy = union_xy - intersection_xy  # Vector where features from the symmetric difference are set to 1\n",
    "\n",
    "# num_intersecting_features = sum(intersection_xy)\n",
    "# num_difference_features = sum(diff_xy)\n",
    "# num_difference_features\n",
    "# rbf_kernel_optimized(num_difference_features, gamma=GAMMA)"
   ]
  },
  {
   "cell_type": "code",
   "execution_count": 14,
   "id": "7333e82a",
   "metadata": {},
   "outputs": [
    {
     "data": {
      "text/plain": [
       "0.0031827807965097953"
      ]
     },
     "execution_count": 14,
     "metadata": {},
     "output_type": "execute_result"
    }
   ],
   "source": [
    "# compute_sverad_sv(x, y, gamma=GAMMA).sum()\n",
    "explanation_df.loc[15][\"SVERAD\"].sum()"
   ]
  },
  {
   "cell_type": "code",
   "execution_count": 15,
   "id": "dfb4b168",
   "metadata": {},
   "outputs": [],
   "source": [
    "# explanation_df.loc[3][\"SHAP\"].sum()"
   ]
  },
  {
   "cell_type": "code",
   "execution_count": null,
   "id": "1cdb0b3a",
   "metadata": {},
   "outputs": [],
   "source": []
  },
  {
   "cell_type": "code",
   "execution_count": 16,
   "id": "80439ea6",
   "metadata": {},
   "outputs": [],
   "source": [
    "# explanation_df.loc[3][\"RBF kernel value\"] - explanation_df.loc[3][\"SHAP_expected_value\"]"
   ]
  },
  {
   "cell_type": "code",
   "execution_count": 17,
   "id": "f123ecb7",
   "metadata": {},
   "outputs": [
    {
     "data": {
      "text/html": [
       "<div>\n",
       "<style scoped>\n",
       "    .dataframe tbody tr th:only-of-type {\n",
       "        vertical-align: middle;\n",
       "    }\n",
       "\n",
       "    .dataframe tbody tr th {\n",
       "        vertical-align: top;\n",
       "    }\n",
       "\n",
       "    .dataframe thead th {\n",
       "        text-align: right;\n",
       "    }\n",
       "</style>\n",
       "<table border=\"1\" class=\"dataframe\">\n",
       "  <thead>\n",
       "    <tr style=\"text-align: right;\">\n",
       "      <th></th>\n",
       "      <th>instance a</th>\n",
       "      <th>instance b</th>\n",
       "      <th>RBF kernel value</th>\n",
       "      <th>SVERAD</th>\n",
       "      <th>SHAP</th>\n",
       "      <th>SHAP_expected_value</th>\n",
       "    </tr>\n",
       "  </thead>\n",
       "  <tbody>\n",
       "    <tr>\n",
       "      <th>0</th>\n",
       "      <td>0</td>\n",
       "      <td>1</td>\n",
       "      <td>0.008652</td>\n",
       "      <td>[0.009345794392523364, 0.009345794392523364, 0...</td>\n",
       "      <td>[0.0, 0.0, 0.00018125685386479774, 0.0, -0.000...</td>\n",
       "      <td>0.026794</td>\n",
       "    </tr>\n",
       "    <tr>\n",
       "      <th>1</th>\n",
       "      <td>0</td>\n",
       "      <td>2</td>\n",
       "      <td>0.002243</td>\n",
       "      <td>[0.007352941176470588, 0.007352941176470588, 0...</td>\n",
       "      <td>[0.0, 0.0, 0.0, 0.0, 0.0, 0.0, -8.470761611518...</td>\n",
       "      <td>0.026928</td>\n",
       "    </tr>\n",
       "    <tr>\n",
       "      <th>2</th>\n",
       "      <td>0</td>\n",
       "      <td>3</td>\n",
       "      <td>0.012907</td>\n",
       "      <td>[0.009615384615384616, 0.009615384615384616, 0...</td>\n",
       "      <td>[0.0, 0.0, 0.0, 0.0002040759550344651, -0.0007...</td>\n",
       "      <td>0.026706</td>\n",
       "    </tr>\n",
       "    <tr>\n",
       "      <th>3</th>\n",
       "      <td>0</td>\n",
       "      <td>4</td>\n",
       "      <td>0.007447</td>\n",
       "      <td>[0.009009009009009009, 0.009009009009009009, 0...</td>\n",
       "      <td>[0.0, 0.0, 0.0, 0.0, 0.0, 0.0, 0.0002295086294...</td>\n",
       "      <td>0.026819</td>\n",
       "    </tr>\n",
       "    <tr>\n",
       "      <th>4</th>\n",
       "      <td>0</td>\n",
       "      <td>5</td>\n",
       "      <td>0.105399</td>\n",
       "      <td>[0.01098901098901099, 0.01098901098901099, 0.0...</td>\n",
       "      <td>[0.0, 0.0, 0.0, 0.00022760309834060286, 0.0, 0...</td>\n",
       "      <td>0.024779</td>\n",
       "    </tr>\n",
       "    <tr>\n",
       "      <th>...</th>\n",
       "      <td>...</td>\n",
       "      <td>...</td>\n",
       "      <td>...</td>\n",
       "      <td>...</td>\n",
       "      <td>...</td>\n",
       "      <td>...</td>\n",
       "    </tr>\n",
       "    <tr>\n",
       "      <th>2445</th>\n",
       "      <td>49</td>\n",
       "      <td>44</td>\n",
       "      <td>0.157237</td>\n",
       "      <td>[0.012195121951219513, 0.012195121951219513, 0...</td>\n",
       "      <td>[0.0, 0.0, 0.0, 0.0, 0.001278187346164745, 0.0...</td>\n",
       "      <td>0.042932</td>\n",
       "    </tr>\n",
       "    <tr>\n",
       "      <th>2446</th>\n",
       "      <td>49</td>\n",
       "      <td>45</td>\n",
       "      <td>0.116484</td>\n",
       "      <td>[0.012658227848101266, 0.012658227848101266, 0...</td>\n",
       "      <td>[0.0, 0.0, 0.0, -0.00230955031641038, 0.000853...</td>\n",
       "      <td>0.043781</td>\n",
       "    </tr>\n",
       "    <tr>\n",
       "      <th>2447</th>\n",
       "      <td>49</td>\n",
       "      <td>46</td>\n",
       "      <td>0.007828</td>\n",
       "      <td>[0.009259259259259259, 0.009259259259259259, -...</td>\n",
       "      <td>[0.0, 0.0, -0.0006582909760202149, -0.00060175...</td>\n",
       "      <td>0.046044</td>\n",
       "    </tr>\n",
       "    <tr>\n",
       "      <th>2448</th>\n",
       "      <td>49</td>\n",
       "      <td>47</td>\n",
       "      <td>0.005799</td>\n",
       "      <td>[0.008928571428571428, 0.008928571428571428, 0...</td>\n",
       "      <td>[0.0, 0.0, 0.0, 0.0, -0.00027792415599205237, ...</td>\n",
       "      <td>0.046087</td>\n",
       "    </tr>\n",
       "    <tr>\n",
       "      <th>2449</th>\n",
       "      <td>49</td>\n",
       "      <td>48</td>\n",
       "      <td>0.007828</td>\n",
       "      <td>[0.009523809523809525, 0.009523809523809525, 0...</td>\n",
       "      <td>[0.0, 0.0, 0.0, 0.0, 0.0, -0.00075253684700521...</td>\n",
       "      <td>0.046044</td>\n",
       "    </tr>\n",
       "  </tbody>\n",
       "</table>\n",
       "<p>2450 rows × 6 columns</p>\n",
       "</div>"
      ],
      "text/plain": [
       "      instance a  instance b  RBF kernel value  \\\n",
       "0              0           1          0.008652   \n",
       "1              0           2          0.002243   \n",
       "2              0           3          0.012907   \n",
       "3              0           4          0.007447   \n",
       "4              0           5          0.105399   \n",
       "...          ...         ...               ...   \n",
       "2445          49          44          0.157237   \n",
       "2446          49          45          0.116484   \n",
       "2447          49          46          0.007828   \n",
       "2448          49          47          0.005799   \n",
       "2449          49          48          0.007828   \n",
       "\n",
       "                                                 SVERAD  \\\n",
       "0     [0.009345794392523364, 0.009345794392523364, 0...   \n",
       "1     [0.007352941176470588, 0.007352941176470588, 0...   \n",
       "2     [0.009615384615384616, 0.009615384615384616, 0...   \n",
       "3     [0.009009009009009009, 0.009009009009009009, 0...   \n",
       "4     [0.01098901098901099, 0.01098901098901099, 0.0...   \n",
       "...                                                 ...   \n",
       "2445  [0.012195121951219513, 0.012195121951219513, 0...   \n",
       "2446  [0.012658227848101266, 0.012658227848101266, 0...   \n",
       "2447  [0.009259259259259259, 0.009259259259259259, -...   \n",
       "2448  [0.008928571428571428, 0.008928571428571428, 0...   \n",
       "2449  [0.009523809523809525, 0.009523809523809525, 0...   \n",
       "\n",
       "                                                   SHAP  SHAP_expected_value  \n",
       "0     [0.0, 0.0, 0.00018125685386479774, 0.0, -0.000...             0.026794  \n",
       "1     [0.0, 0.0, 0.0, 0.0, 0.0, 0.0, -8.470761611518...             0.026928  \n",
       "2     [0.0, 0.0, 0.0, 0.0002040759550344651, -0.0007...             0.026706  \n",
       "3     [0.0, 0.0, 0.0, 0.0, 0.0, 0.0, 0.0002295086294...             0.026819  \n",
       "4     [0.0, 0.0, 0.0, 0.00022760309834060286, 0.0, 0...             0.024779  \n",
       "...                                                 ...                  ...  \n",
       "2445  [0.0, 0.0, 0.0, 0.0, 0.001278187346164745, 0.0...             0.042932  \n",
       "2446  [0.0, 0.0, 0.0, -0.00230955031641038, 0.000853...             0.043781  \n",
       "2447  [0.0, 0.0, -0.0006582909760202149, -0.00060175...             0.046044  \n",
       "2448  [0.0, 0.0, 0.0, 0.0, -0.00027792415599205237, ...             0.046087  \n",
       "2449  [0.0, 0.0, 0.0, 0.0, 0.0, -0.00075253684700521...             0.046044  \n",
       "\n",
       "[2450 rows x 6 columns]"
      ]
     },
     "execution_count": 17,
     "metadata": {},
     "output_type": "execute_result"
    }
   ],
   "source": [
    "explanation_df"
   ]
  },
  {
   "attachments": {},
   "cell_type": "markdown",
   "id": "d0e93322",
   "metadata": {},
   "source": [
    "### Correlation"
   ]
  },
  {
   "cell_type": "code",
   "execution_count": 18,
   "id": "f3ccc9dc",
   "metadata": {},
   "outputs": [
    {
     "data": {
      "text/html": [
       "<div>\n",
       "<style scoped>\n",
       "    .dataframe tbody tr th:only-of-type {\n",
       "        vertical-align: middle;\n",
       "    }\n",
       "\n",
       "    .dataframe tbody tr th {\n",
       "        vertical-align: top;\n",
       "    }\n",
       "\n",
       "    .dataframe thead th {\n",
       "        text-align: right;\n",
       "    }\n",
       "</style>\n",
       "<table border=\"1\" class=\"dataframe\">\n",
       "  <thead>\n",
       "    <tr style=\"text-align: right;\">\n",
       "      <th></th>\n",
       "      <th>a</th>\n",
       "      <th>b</th>\n",
       "      <th>Pearson r SVERAD - SHAP</th>\n",
       "      <th>Fisher SVERAD - SHAP</th>\n",
       "    </tr>\n",
       "  </thead>\n",
       "  <tbody>\n",
       "    <tr>\n",
       "      <th>0</th>\n",
       "      <td>0</td>\n",
       "      <td>1</td>\n",
       "      <td>0.340717</td>\n",
       "      <td>0.354904</td>\n",
       "    </tr>\n",
       "    <tr>\n",
       "      <th>1</th>\n",
       "      <td>0</td>\n",
       "      <td>2</td>\n",
       "      <td>0.243890</td>\n",
       "      <td>0.248906</td>\n",
       "    </tr>\n",
       "    <tr>\n",
       "      <th>2</th>\n",
       "      <td>0</td>\n",
       "      <td>3</td>\n",
       "      <td>0.543253</td>\n",
       "      <td>0.608759</td>\n",
       "    </tr>\n",
       "    <tr>\n",
       "      <th>3</th>\n",
       "      <td>0</td>\n",
       "      <td>4</td>\n",
       "      <td>0.356208</td>\n",
       "      <td>0.372536</td>\n",
       "    </tr>\n",
       "    <tr>\n",
       "      <th>4</th>\n",
       "      <td>0</td>\n",
       "      <td>5</td>\n",
       "      <td>0.653761</td>\n",
       "      <td>0.781839</td>\n",
       "    </tr>\n",
       "    <tr>\n",
       "      <th>...</th>\n",
       "      <td>...</td>\n",
       "      <td>...</td>\n",
       "      <td>...</td>\n",
       "      <td>...</td>\n",
       "    </tr>\n",
       "    <tr>\n",
       "      <th>2445</th>\n",
       "      <td>49</td>\n",
       "      <td>44</td>\n",
       "      <td>0.688470</td>\n",
       "      <td>0.845041</td>\n",
       "    </tr>\n",
       "    <tr>\n",
       "      <th>2446</th>\n",
       "      <td>49</td>\n",
       "      <td>45</td>\n",
       "      <td>0.731687</td>\n",
       "      <td>0.932349</td>\n",
       "    </tr>\n",
       "    <tr>\n",
       "      <th>2447</th>\n",
       "      <td>49</td>\n",
       "      <td>46</td>\n",
       "      <td>0.366909</td>\n",
       "      <td>0.384847</td>\n",
       "    </tr>\n",
       "    <tr>\n",
       "      <th>2448</th>\n",
       "      <td>49</td>\n",
       "      <td>47</td>\n",
       "      <td>0.270062</td>\n",
       "      <td>0.276931</td>\n",
       "    </tr>\n",
       "    <tr>\n",
       "      <th>2449</th>\n",
       "      <td>49</td>\n",
       "      <td>48</td>\n",
       "      <td>0.230418</td>\n",
       "      <td>0.234630</td>\n",
       "    </tr>\n",
       "  </tbody>\n",
       "</table>\n",
       "<p>2450 rows × 4 columns</p>\n",
       "</div>"
      ],
      "text/plain": [
       "       a   b  Pearson r SVERAD - SHAP  Fisher SVERAD - SHAP\n",
       "0      0   1                 0.340717              0.354904\n",
       "1      0   2                 0.243890              0.248906\n",
       "2      0   3                 0.543253              0.608759\n",
       "3      0   4                 0.356208              0.372536\n",
       "4      0   5                 0.653761              0.781839\n",
       "...   ..  ..                      ...                   ...\n",
       "2445  49  44                 0.688470              0.845041\n",
       "2446  49  45                 0.731687              0.932349\n",
       "2447  49  46                 0.366909              0.384847\n",
       "2448  49  47                 0.270062              0.276931\n",
       "2449  49  48                 0.230418              0.234630\n",
       "\n",
       "[2450 rows x 4 columns]"
      ]
     },
     "metadata": {},
     "output_type": "display_data"
    },
    {
     "name": "stdout",
     "output_type": "stream",
     "text": [
      "Mean correlation\n"
     ]
    },
    {
     "data": {
      "text/plain": [
       "a                          24.500000\n",
       "b                          24.500000\n",
       "Pearson r SVERAD - SHAP     0.352736\n",
       "Fisher SVERAD - SHAP        0.381396\n",
       "dtype: float64"
      ]
     },
     "metadata": {},
     "output_type": "display_data"
    },
    {
     "name": "stdout",
     "output_type": "stream",
     "text": [
      "Standard deviation\n"
     ]
    },
    {
     "data": {
      "text/plain": [
       "a                          14.433816\n",
       "b                          14.433816\n",
       "Pearson r SVERAD - SHAP     0.138880\n",
       "Fisher SVERAD - SHAP        0.182643\n",
       "dtype: float64"
      ]
     },
     "metadata": {},
     "output_type": "display_data"
    },
    {
     "name": "stdout",
     "output_type": "stream",
     "text": [
      "Mean Pearson r correlation coeff for SVERAD - SHAP:  0.35273642023240137 +/- 0.13887961656298425\n",
      "Mean Pearson r correlation coeff Fisher transformed for SVERAD - SHAP:  0.36391931794854354 +/- 0.1806388404529835\n"
     ]
    }
   ],
   "source": [
    "corr_df = []\n",
    "for i, row in explanation_df.iterrows():\n",
    "    if row[\"instance a\"] == row[\"instance b\"]:\n",
    "        continue\n",
    "    sverad_value = row[\"SVERAD\"]\n",
    "    shap = row[\"SHAP\"]\n",
    "    \n",
    "    \n",
    "    corr_sverad_SHAP, p_sverad_SHAP = pearsonr(sverad_value, shap)\n",
    "    \n",
    "    \n",
    "    corr_df.append({\"a\": row[\"instance a\"], \"b\": row[\"instance b\"],  \"Pearson r SVERAD - SHAP\": corr_sverad_SHAP})\n",
    "corr_df = pd.DataFrame(corr_df)\n",
    "corr_df[\"Fisher SVERAD - SHAP\"] = np.arctanh(corr_df[\"Pearson r SVERAD - SHAP\"])\n",
    "# corr_df[\"Pearson r Fisher Tranformed\"] = np.tanh(corr_df[\"Fisher SVERAD - SHAP\"])\n",
    "display(corr_df)\n",
    "print(\"Mean correlation\")\n",
    "display(corr_df.mean())\n",
    "print(\"Standard deviation\")\n",
    "display(corr_df.std())\n",
    "\n",
    "print(\"Mean Pearson r correlation coeff for SVERAD - SHAP: \", corr_df[\"Pearson r SVERAD - SHAP\"].mean(), \"+/-\", corr_df[\"Pearson r SVERAD - SHAP\"].std())\n",
    "print(\"Mean Pearson r correlation coeff Fisher transformed for SVERAD - SHAP: \", np.tanh(corr_df[\"Fisher SVERAD - SHAP\"].mean()), \"+/-\", np.tanh(corr_df[\"Fisher SVERAD - SHAP\"].std()))"
   ]
  },
  {
   "attachments": {},
   "cell_type": "markdown",
   "id": "c8a941ad",
   "metadata": {},
   "source": [
    "Old code"
   ]
  },
  {
   "cell_type": "code",
   "execution_count": 19,
   "id": "82b4d8f5-6c52-4b44-b281-4c5febde3d31",
   "metadata": {
    "pycharm": {
     "name": "#%%\n"
    }
   },
   "outputs": [],
   "source": [
    "corr_df = []\n",
    "for i, row in explanation_df.iterrows():\n",
    "    if row[\"instance a\"] == row[\"instance b\"]:\n",
    "        continue\n",
    "    sveata_values = row[\"SVERAD\"]\n",
    "    kernel_shap = row[\"SHAP\"]\n",
    "    \n",
    "    corr, p = pearsonr(sveata_values, kernel_shap)\n",
    "    corr_df.append({\"a\": row[\"instance a\"], \"b\": row[\"instance b\"], \"correlation\": corr})\n",
    "corr_df = pd.DataFrame(corr_df)\n",
    "# Fisher transformation\n",
    "corr_df[\"pearsons_r_fisher\"] = np.arctanh(corr_df.correlation)"
   ]
  },
  {
   "cell_type": "code",
   "execution_count": 20,
   "id": "88e3239a-e530-4d29-90a2-b599b341fdc8",
   "metadata": {
    "pycharm": {
     "name": "#%%\n"
    }
   },
   "outputs": [
    {
     "data": {
      "image/png": "[encoded data removed]",
      "text/plain": [
       "<Figure size 576x432 with 1 Axes>"
      ]
     },
     "metadata": {
      "needs_background": "light"
     },
     "output_type": "display_data"
    }
   ],
   "source": [
    "fig, ax = plt.subplots(figsize=(8,6))\n",
    "ax.boxplot(corr_df.pearsons_r_fisher)\n",
    "#ax.set_ylim(-0.1,4.05)\n",
    "ax.set_ylabel(\"arctanh(Pearson's r)\")\n",
    "secax = ax.secondary_yaxis('right', functions=(np.tanh, np.arctanh))\n",
    "secax.set_ylabel(\"Pearson's r\")\n",
    "secax.set_yticks([-0.5, 0, 0.5, 0.75, 0.9]);"
   ]
  },
  {
   "cell_type": "code",
   "execution_count": 21,
   "metadata": {
    "collapsed": false,
    "pycharm": {
     "name": "#%%\n"
    }
   },
   "outputs": [],
   "source": [
    "# Transforming values back."
   ]
  },
  {
   "cell_type": "code",
   "execution_count": 22,
   "id": "e4856428-b105-4431-bac6-a52af3052901",
   "metadata": {
    "pycharm": {
     "name": "#%%\n"
    }
   },
   "outputs": [
    {
     "data": {
      "text/plain": [
       "0.36391931794854354"
      ]
     },
     "execution_count": 22,
     "metadata": {},
     "output_type": "execute_result"
    }
   ],
   "source": [
    "np.tanh(corr_df[\"pearsons_r_fisher\"].mean())"
   ]
  },
  {
   "cell_type": "code",
   "execution_count": 23,
   "id": "d43da3eb-e072-4f76-97dd-04d4a16f2cf7",
   "metadata": {
    "pycharm": {
     "name": "#%%\n"
    }
   },
   "outputs": [
    {
     "data": {
      "text/plain": [
       "0.1806388404529835"
      ]
     },
     "execution_count": 23,
     "metadata": {},
     "output_type": "execute_result"
    }
   ],
   "source": [
    "np.tanh(corr_df[\"pearsons_r_fisher\"].std())"
   ]
  },
  {
   "cell_type": "code",
   "execution_count": 24,
   "id": "4ed10602-2e90-4279-9cd2-1c0ceb8cbc17",
   "metadata": {
    "pycharm": {
     "name": "#%%\n"
    }
   },
   "outputs": [
    {
     "data": {
      "text/plain": [
       "0.07388989940187711"
      ]
     },
     "execution_count": 24,
     "metadata": {},
     "output_type": "execute_result"
    }
   ],
   "source": [
    "np.tanh(corr_df[\"pearsons_r_fisher\"].min())"
   ]
  },
  {
   "cell_type": "code",
   "execution_count": 25,
   "id": "5e2d08e4",
   "metadata": {
    "collapsed": false,
    "jupyter": {
     "outputs_hidden": false
    },
    "pycharm": {
     "name": "#%%\n"
    }
   },
   "outputs": [
    {
     "data": {
      "text/plain": [
       "0.8183148051850931"
      ]
     },
     "execution_count": 25,
     "metadata": {},
     "output_type": "execute_result"
    }
   ],
   "source": [
    "np.tanh(corr_df[\"pearsons_r_fisher\"].max())"
   ]
  }
 ],
 "metadata": {
  "kernelspec": {
   "display_name": "Python 3 (ipykernel)",
   "language": "python",
   "name": "python3"
  },
  "language_info": {
   "codemirror_mode": {
    "name": "ipython",
    "version": 3
   },
   "file_extension": ".py",
   "mimetype": "text/x-python",
   "name": "python",
   "nbconvert_exporter": "python",
   "pygments_lexer": "ipython3",
   "version": "3.1.0"
  }
 },
 "nbformat": 4,
 "nbformat_minor": 5
}
