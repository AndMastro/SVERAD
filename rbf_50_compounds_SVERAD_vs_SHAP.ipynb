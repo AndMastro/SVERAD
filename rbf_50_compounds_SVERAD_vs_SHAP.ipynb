{
 "cells": [
  {
   "attachments": {},
   "cell_type": "markdown",
   "metadata": {
    "collapsed": false,
    "pycharm": {
     "name": "#%% md\n"
    }
   },
   "source": [
    "# Comparison of SVERAD and SHAP on the RBF kernel for 50 random compounds."
   ]
  },
  {
   "cell_type": "code",
   "execution_count": 1,
   "metadata": {
    "collapsed": false,
    "pycharm": {
     "name": "#%%\n"
    }
   },
   "outputs": [],
   "source": [
    "from src.sverad import compute_sverad_sv, rbf_kernel_matrix\n",
    "from src.utils import set_seeds, DataSet, UnfoldedMorganFingerprint\n",
    "\n",
    "import matplotlib.pyplot as plt\n",
    "import numpy as np\n",
    "import pandas as pd\n",
    "import pickle\n",
    "\n",
    "from scipy.stats import pearsonr\n",
    "from tqdm.auto import tqdm\n",
    "import warnings\n",
    "import shap"
   ]
  },
  {
   "cell_type": "code",
   "execution_count": 2,
   "id": "c44d3c8b",
   "metadata": {},
   "outputs": [],
   "source": [
    "SEED = 42\n",
    "set_seeds(SEED)\n",
    "GAMMA = 0.05 #0.01  #1.0 0.005 \n",
    "\n",
    "SAVE_DATASET_PICKLE = True\n",
    "LOAD_PRECOMPUTED_EXPLANATIONS = False\n",
    "SAVE_EXPLANATIONS = True\n",
    "SAMPLE_SIZE = 25"
   ]
  },
  {
   "attachments": {},
   "cell_type": "markdown",
   "id": "8a651953",
   "metadata": {},
   "source": [
    "### Load and generate dataset"
   ]
  },
  {
   "cell_type": "code",
   "execution_count": 3,
   "id": "2c3f3f77-4538-49b1-8277-fada73a415da",
   "metadata": {
    "pycharm": {
     "name": "#%%\n"
    }
   },
   "outputs": [
    {
     "data": {
      "text/html": [
       "<div>\n",
       "<style scoped>\n",
       "    .dataframe tbody tr th:only-of-type {\n",
       "        vertical-align: middle;\n",
       "    }\n",
       "\n",
       "    .dataframe tbody tr th {\n",
       "        vertical-align: top;\n",
       "    }\n",
       "\n",
       "    .dataframe thead th {\n",
       "        text-align: right;\n",
       "    }\n",
       "</style>\n",
       "<table border=\"1\" class=\"dataframe\">\n",
       "  <thead>\n",
       "    <tr style=\"text-align: right;\">\n",
       "      <th>label</th>\n",
       "      <th>active</th>\n",
       "      <th>random</th>\n",
       "    </tr>\n",
       "    <tr>\n",
       "      <th>uniprot_id</th>\n",
       "      <th></th>\n",
       "      <th></th>\n",
       "    </tr>\n",
       "  </thead>\n",
       "  <tbody>\n",
       "    <tr>\n",
       "      <th>P0DMS8</th>\n",
       "      <td>287</td>\n",
       "      <td>287</td>\n",
       "    </tr>\n",
       "  </tbody>\n",
       "</table>\n",
       "</div>"
      ],
      "text/plain": [
       "label       active  random\n",
       "uniprot_id                \n",
       "P0DMS8         287     287"
      ]
     },
     "execution_count": 3,
     "metadata": {},
     "output_type": "execute_result"
    }
   ],
   "source": [
    "dataset_df = pd.read_csv(\"data/dataset.tsv\", sep=\"\\t\")\n",
    "dataset_df.pivot_table(index=\"uniprot_id\", columns=\"label\", values=\"nonstereo_aromatic_smiles\", aggfunc=\"nunique\", fill_value=0)"
   ]
  },
  {
   "cell_type": "code",
   "execution_count": 4,
   "id": "5a0593b4",
   "metadata": {},
   "outputs": [],
   "source": [
    "dataset_dict = dict()\n",
    "fingerprint_gen_dict = dict()\n",
    "for dataset_name, data_grpd_df in dataset_df.groupby(\"uniprot_id\"):\n",
    "    \n",
    "    # label: 1: active, 0: random\n",
    "    labels = np.array([1 if l == 'active' else 0 for l in data_grpd_df.label])\n",
    "    # Creating Fingerprint\n",
    "    morgan_radius2 = UnfoldedMorganFingerprint(radius=2)\n",
    "    morgan_radius2.fit_smiles(data_grpd_df.nonstereo_aromatic_smiles.tolist())\n",
    "    \n",
    "    # Constructing Dataset\n",
    "    fp_matrix = morgan_radius2.transform_smiles(data_grpd_df.nonstereo_aromatic_smiles.tolist())\n",
    "    # Constructing Dataset\n",
    "    dataset = DataSet(labels, fp_matrix)\n",
    "    dataset.add_attribute(\"nonstereo_aromatic_smiles\", data_grpd_df.nonstereo_aromatic_smiles.values)\n",
    "    \n",
    "    dataset_dict[dataset_name] = dataset\n",
    "    fingerprint_gen_dict[dataset_name] = morgan_radius2"
   ]
  },
  {
   "attachments": {},
   "cell_type": "markdown",
   "id": "91cc814b",
   "metadata": {},
   "source": [
    "#### Save dataset and fingerprint for future use"
   ]
  },
  {
   "cell_type": "code",
   "execution_count": 5,
   "id": "53413887",
   "metadata": {},
   "outputs": [],
   "source": [
    "if SAVE_DATASET_PICKLE:\n",
    "    with open(\"./data/pickle/dataset_dict.p\", \"wb\") as outfile:\n",
    "        pickle.dump(dataset_dict, outfile)\n",
    "    with open(\"./data/pickle/fingerprint_gen_dict.p\", \"wb\") as outfile:\n",
    "        pickle.dump(fingerprint_gen_dict, outfile)"
   ]
  },
  {
   "cell_type": "markdown",
   "id": "ba283ba3-a7b0-43eb-bc5a-19d3456da371",
   "metadata": {
    "pycharm": {
     "name": "#%% md\n"
    }
   },
   "source": [
    "# Analysis"
   ]
  },
  {
   "cell_type": "code",
   "execution_count": 6,
   "id": "a9ae758b-d66b-48ef-b31b-e576e65036e4",
   "metadata": {
    "pycharm": {
     "name": "#%%\n"
    }
   },
   "outputs": [],
   "source": [
    "dataset = dataset_dict[\"P0DMS8\"]"
   ]
  },
  {
   "cell_type": "code",
   "execution_count": 7,
   "id": "6e430d72-29f6-4e4b-a715-1444daa90b4b",
   "metadata": {
    "pycharm": {
     "name": "#%%\n"
    }
   },
   "outputs": [
    {
     "name": "stdout",
     "output_type": "stream",
     "text": [
      "Number of CPDs: 574\n",
      "Number of features: 5487\n"
     ]
    }
   ],
   "source": [
    "print(\"Number of CPDs: {}\\nNumber of features: {}\".format(*dataset.feature_matrix.shape))"
   ]
  },
  {
   "cell_type": "code",
   "execution_count": 8,
   "id": "06439aa8-216d-4a6f-bcd5-d07a3365c600",
   "metadata": {
    "pycharm": {
     "name": "#%%\n"
    }
   },
   "outputs": [
    {
     "data": {
      "application/vnd.jupyter.widget-view+json": {
       "model_id": "b2514dca541d44a1a6ee1f3ba24a6e23",
       "version_major": 2,
       "version_minor": 0
      },
      "text/plain": [
       "  0%|          | 0/25 [00:00<?, ?it/s]"
      ]
     },
     "metadata": {},
     "output_type": "display_data"
    },
    {
     "data": {
      "application/vnd.jupyter.widget-view+json": {
       "model_id": "cf420faa1913455fb077c8edb7c8e74e",
       "version_major": 2,
       "version_minor": 0
      },
      "text/plain": [
       "  0%|          | 0/25 [00:00<?, ?it/s]"
      ]
     },
     "metadata": {},
     "output_type": "display_data"
    },
    {
     "data": {
      "application/vnd.jupyter.widget-view+json": {
       "model_id": "dec0e92d3c9b474895cd89d426af5de1",
       "version_major": 2,
       "version_minor": 0
      },
      "text/plain": [
       "  0%|          | 0/25 [00:00<?, ?it/s]"
      ]
     },
     "metadata": {},
     "output_type": "display_data"
    },
    {
     "data": {
      "application/vnd.jupyter.widget-view+json": {
       "model_id": "35591772aad64e6da2f21d0ed5300285",
       "version_major": 2,
       "version_minor": 0
      },
      "text/plain": [
       "  0%|          | 0/25 [00:00<?, ?it/s]"
      ]
     },
     "metadata": {},
     "output_type": "display_data"
    },
    {
     "data": {
      "application/vnd.jupyter.widget-view+json": {
       "model_id": "c14dc7cdba0348d6ba9440e5b0eb0849",
       "version_major": 2,
       "version_minor": 0
      },
      "text/plain": [
       "  0%|          | 0/25 [00:00<?, ?it/s]"
      ]
     },
     "metadata": {},
     "output_type": "display_data"
    },
    {
     "data": {
      "application/vnd.jupyter.widget-view+json": {
       "model_id": "ab9760fe23924e879bd07b3cc4f028ef",
       "version_major": 2,
       "version_minor": 0
      },
      "text/plain": [
       "  0%|          | 0/25 [00:00<?, ?it/s]"
      ]
     },
     "metadata": {},
     "output_type": "display_data"
    },
    {
     "data": {
      "application/vnd.jupyter.widget-view+json": {
       "model_id": "52a02b04a7ae4a7096bd44ffe079686c",
       "version_major": 2,
       "version_minor": 0
      },
      "text/plain": [
       "  0%|          | 0/25 [00:00<?, ?it/s]"
      ]
     },
     "metadata": {},
     "output_type": "display_data"
    },
    {
     "data": {
      "application/vnd.jupyter.widget-view+json": {
       "model_id": "69ed29186c254b7cb6a78963d7204f57",
       "version_major": 2,
       "version_minor": 0
      },
      "text/plain": [
       "  0%|          | 0/25 [00:00<?, ?it/s]"
      ]
     },
     "metadata": {},
     "output_type": "display_data"
    },
    {
     "data": {
      "application/vnd.jupyter.widget-view+json": {
       "model_id": "22dabaa316674fc68022a9d6afb9a4df",
       "version_major": 2,
       "version_minor": 0
      },
      "text/plain": [
       "  0%|          | 0/25 [00:00<?, ?it/s]"
      ]
     },
     "metadata": {},
     "output_type": "display_data"
    },
    {
     "data": {
      "application/vnd.jupyter.widget-view+json": {
       "model_id": "fee7ca964d32483c8263a461446129cb",
       "version_major": 2,
       "version_minor": 0
      },
      "text/plain": [
       "  0%|          | 0/25 [00:00<?, ?it/s]"
      ]
     },
     "metadata": {},
     "output_type": "display_data"
    },
    {
     "data": {
      "application/vnd.jupyter.widget-view+json": {
       "model_id": "ff7fa15e4232474ab714107d1bfed493",
       "version_major": 2,
       "version_minor": 0
      },
      "text/plain": [
       "  0%|          | 0/25 [00:00<?, ?it/s]"
      ]
     },
     "metadata": {},
     "output_type": "display_data"
    },
    {
     "data": {
      "application/vnd.jupyter.widget-view+json": {
       "model_id": "e76bdfeeea1b4039b3d151b21c534a8a",
       "version_major": 2,
       "version_minor": 0
      },
      "text/plain": [
       "  0%|          | 0/25 [00:00<?, ?it/s]"
      ]
     },
     "metadata": {},
     "output_type": "display_data"
    },
    {
     "data": {
      "application/vnd.jupyter.widget-view+json": {
       "model_id": "7378e1649ccb44f7961db9c4d3da17ad",
       "version_major": 2,
       "version_minor": 0
      },
      "text/plain": [
       "  0%|          | 0/25 [00:00<?, ?it/s]"
      ]
     },
     "metadata": {},
     "output_type": "display_data"
    },
    {
     "data": {
      "application/vnd.jupyter.widget-view+json": {
       "model_id": "1747c83afac44b1ab4923e2e85c0ea87",
       "version_major": 2,
       "version_minor": 0
      },
      "text/plain": [
       "  0%|          | 0/25 [00:00<?, ?it/s]"
      ]
     },
     "metadata": {},
     "output_type": "display_data"
    },
    {
     "data": {
      "application/vnd.jupyter.widget-view+json": {
       "model_id": "3ce9135cc22847158a6ca06939f28ab5",
       "version_major": 2,
       "version_minor": 0
      },
      "text/plain": [
       "  0%|          | 0/25 [00:00<?, ?it/s]"
      ]
     },
     "metadata": {},
     "output_type": "display_data"
    },
    {
     "data": {
      "application/vnd.jupyter.widget-view+json": {
       "model_id": "3bf52f4c043f4796b27baaffa84539a9",
       "version_major": 2,
       "version_minor": 0
      },
      "text/plain": [
       "  0%|          | 0/25 [00:00<?, ?it/s]"
      ]
     },
     "metadata": {},
     "output_type": "display_data"
    },
    {
     "data": {
      "application/vnd.jupyter.widget-view+json": {
       "model_id": "03c59cef30184a129c976a51f3b9a914",
       "version_major": 2,
       "version_minor": 0
      },
      "text/plain": [
       "  0%|          | 0/25 [00:00<?, ?it/s]"
      ]
     },
     "metadata": {},
     "output_type": "display_data"
    },
    {
     "data": {
      "application/vnd.jupyter.widget-view+json": {
       "model_id": "8e970004ca2f4bf1b63b6b49dd43f224",
       "version_major": 2,
       "version_minor": 0
      },
      "text/plain": [
       "  0%|          | 0/25 [00:00<?, ?it/s]"
      ]
     },
     "metadata": {},
     "output_type": "display_data"
    },
    {
     "data": {
      "application/vnd.jupyter.widget-view+json": {
       "model_id": "a9938bc0e5ae4d378a9e0b3a5aed652f",
       "version_major": 2,
       "version_minor": 0
      },
      "text/plain": [
       "  0%|          | 0/25 [00:00<?, ?it/s]"
      ]
     },
     "metadata": {},
     "output_type": "display_data"
    },
    {
     "data": {
      "application/vnd.jupyter.widget-view+json": {
       "model_id": "bfb01ae70e404f40b1cc3989de084d45",
       "version_major": 2,
       "version_minor": 0
      },
      "text/plain": [
       "  0%|          | 0/25 [00:00<?, ?it/s]"
      ]
     },
     "metadata": {},
     "output_type": "display_data"
    },
    {
     "data": {
      "application/vnd.jupyter.widget-view+json": {
       "model_id": "fd7c2a6f8f5243f985748ee219d46b5a",
       "version_major": 2,
       "version_minor": 0
      },
      "text/plain": [
       "  0%|          | 0/25 [00:00<?, ?it/s]"
      ]
     },
     "metadata": {},
     "output_type": "display_data"
    },
    {
     "data": {
      "application/vnd.jupyter.widget-view+json": {
       "model_id": "870b736b485a45cd91bc358421938200",
       "version_major": 2,
       "version_minor": 0
      },
      "text/plain": [
       "  0%|          | 0/25 [00:00<?, ?it/s]"
      ]
     },
     "metadata": {},
     "output_type": "display_data"
    },
    {
     "data": {
      "application/vnd.jupyter.widget-view+json": {
       "model_id": "76d625841f4a452d83ecf4b13e97e407",
       "version_major": 2,
       "version_minor": 0
      },
      "text/plain": [
       "  0%|          | 0/25 [00:00<?, ?it/s]"
      ]
     },
     "metadata": {},
     "output_type": "display_data"
    },
    {
     "data": {
      "application/vnd.jupyter.widget-view+json": {
       "model_id": "922951ab59324cc2825cd3453c693e64",
       "version_major": 2,
       "version_minor": 0
      },
      "text/plain": [
       "  0%|          | 0/25 [00:00<?, ?it/s]"
      ]
     },
     "metadata": {},
     "output_type": "display_data"
    },
    {
     "data": {
      "application/vnd.jupyter.widget-view+json": {
       "model_id": "3e5717a20c2d4baf98e9e42f0ecadbf3",
       "version_major": 2,
       "version_minor": 0
      },
      "text/plain": [
       "  0%|          | 0/25 [00:00<?, ?it/s]"
      ]
     },
     "metadata": {},
     "output_type": "display_data"
    },
    {
     "data": {
      "application/vnd.jupyter.widget-view+json": {
       "model_id": "04b265389e4f44379b5f2638e12d09f4",
       "version_major": 2,
       "version_minor": 0
      },
      "text/plain": [
       "  0%|          | 0/25 [00:00<?, ?it/s]"
      ]
     },
     "metadata": {},
     "output_type": "display_data"
    }
   ],
   "source": [
    "save_path = \"./data/pickle/explanations_50_cpd_rbf_SVERAD_SHAP.p\"\n",
    "if not LOAD_PRECOMPUTED_EXPLANATIONS: # This takes about 8h\n",
    "    explanation_df = []\n",
    "    # Selecting a random subset\n",
    "    subset = shap.sample(dataset.feature_matrix, nsamples=SAMPLE_SIZE, random_state=SEED)\n",
    "\n",
    "    # Iterating over all pairs.\n",
    "    for i, arr_i in tqdm(enumerate(subset), total=SAMPLE_SIZE):\n",
    "        \n",
    "        \n",
    "        \n",
    "        kernel_func = lambda x: rbf_kernel_matrix(x.toarray(), arr_i.toarray().reshape((1, -1)), gamma = GAMMA)[:, 0]\n",
    "        # exact_shapley_gen_i = ExactRBFShapleyComputation(arr_i, gamma=GAMMA) #used only to compute RBF kernel value\n",
    "        for j, arr_j in tqdm(enumerate(subset), total=SAMPLE_SIZE):\n",
    "            if i == j:\n",
    "                continue\n",
    "            \n",
    "            # intersection_ij = arr_i.toarray()[0] * arr_j.toarray()[0]\n",
    "            # union_ij = 1 - (1-arr_i.toarray()[0]) * (1-arr_j.toarray()[0])\n",
    "            # diff_ij = union_ij - intersection_ij\n",
    "            # sveta_values_ij = intersection_ij * sveta_f_plus(sum(intersection_ij), sum(diff_ij))\n",
    "            # sveta_values_ij += diff_ij * sveta_f_minus(sum(intersection_ij), sum(diff_ij))\n",
    "\n",
    "            sverad_values_ij = compute_sverad_sv(arr_i.toarray()[0], arr_j.toarray()[0], gamma=GAMMA)\n",
    "            # removing CPDs of the pair from the background sample.\n",
    "            mask = np.ones(subset.shape[0], dtype=bool)\n",
    "            mask[i] = False\n",
    "            mask[j] = False\n",
    "            available_as_sample = subset[mask]\n",
    "            with warnings.catch_warnings():\n",
    "                # ignore all caught warnings\n",
    "                warnings.filterwarnings(\"ignore\")\n",
    "                explainer_vi = shap.KernelExplainer(kernel_func, available_as_sample)\n",
    "                # explainer_vi = shap.KernelExplainer(exact_shapley_gen_i.rbf_kernel_value, available_as_sample)\n",
    "                kernel_value = rbf_kernel_matrix(arr_i.toarray(), arr_j.toarray(), gamma = GAMMA)\n",
    "                shap_ij = explainer_vi.shap_values(arr_j, silent=True)\n",
    "            explanation_df.append({\"instance a\": i,\n",
    "                                   \"instance b\": j,\n",
    "                                   \"RBF kernel value\": kernel_value[0][0],\n",
    "                                   \"SVERAD\": sverad_values_ij,\n",
    "                                   \"SHAP\": shap_ij[0],\n",
    "                                   \"SHAP_expected_value\": explainer_vi.expected_value,\n",
    "                                   })\n",
    "        #break\n",
    "    explanation_df = pd.DataFrame(explanation_df)\n",
    "    if SAVE_EXPLANATIONS:\n",
    "        with open(save_path, \"wb\") as outfile:\n",
    "            pickle.dump(explanation_df, outfile)\n",
    "else:\n",
    "    with open(save_path, \"rb\") as infile:\n",
    "        explanation_df = pickle.load(infile)"
   ]
  },
  {
   "cell_type": "code",
   "execution_count": 9,
   "id": "3dcd025f",
   "metadata": {},
   "outputs": [],
   "source": [
    "# rbf_kernel_matrix(arr_i.toarray(), arr_j.toarray(), gamma = GAMMA)[:, 0]"
   ]
  },
  {
   "cell_type": "code",
   "execution_count": 10,
   "id": "46bd837e",
   "metadata": {},
   "outputs": [],
   "source": [
    "# rbf_kernel_optimized(2, gamma=GAMMA)"
   ]
  },
  {
   "cell_type": "code",
   "execution_count": 11,
   "id": "d93b290b",
   "metadata": {},
   "outputs": [],
   "source": [
    "# compute_sverad_sv(arr_i.toarray()[0], arr_j.toarray()[0], gamma=GAMMA).sum()"
   ]
  },
  {
   "cell_type": "code",
   "execution_count": 12,
   "id": "3797b00c",
   "metadata": {},
   "outputs": [],
   "source": [
    "# rbf_kernel_matrix(arr_i.toarray(), arr_j.toarray(), gamma = GAMMA)[:, 0]\n",
    "# x = np.array([1, 0, 1, 0, 1, 0, 1, 0])\n",
    "# y = np.array([1, 1, 1, 1, 1, 1, 1, 1])\n",
    "\n",
    "# rbf_kernel(x, y, gamma = GAMMA)"
   ]
  },
  {
   "cell_type": "code",
   "execution_count": 13,
   "id": "c4525c52",
   "metadata": {},
   "outputs": [],
   "source": [
    "# intersection_xy = x * y  # Vector where intersecting features are set to 1\n",
    "# union_xy = 1 - (1-x) * (1-y)  # Vector where features of the union are set to 1\n",
    "# diff_xy = union_xy - intersection_xy  # Vector where features from the symmetric difference are set to 1\n",
    "\n",
    "# num_intersecting_features = sum(intersection_xy)\n",
    "# num_difference_features = sum(diff_xy)\n",
    "# num_difference_features\n",
    "# rbf_kernel_optimized(num_difference_features, gamma=GAMMA)"
   ]
  },
  {
   "cell_type": "code",
   "execution_count": 14,
   "id": "7333e82a",
   "metadata": {},
   "outputs": [
    {
     "data": {
      "text/plain": [
       "0.007446583070924221"
      ]
     },
     "execution_count": 14,
     "metadata": {},
     "output_type": "execute_result"
    }
   ],
   "source": [
    "# compute_sverad_sv(x, y, gamma=GAMMA).sum()\n",
    "explanation_df.loc[3][\"SVERAD\"].sum()"
   ]
  },
  {
   "cell_type": "code",
   "execution_count": 15,
   "id": "dfb4b168",
   "metadata": {},
   "outputs": [],
   "source": [
    "# explanation_df.loc[3][\"SHAP\"].sum()"
   ]
  },
  {
   "cell_type": "code",
   "execution_count": null,
   "id": "1cdb0b3a",
   "metadata": {},
   "outputs": [],
   "source": []
  },
  {
   "cell_type": "code",
   "execution_count": 16,
   "id": "80439ea6",
   "metadata": {},
   "outputs": [],
   "source": [
    "# explanation_df.loc[3][\"RBF kernel value\"] - explanation_df.loc[3][\"SHAP_expected_value\"]"
   ]
  },
  {
   "cell_type": "code",
   "execution_count": 17,
   "id": "f123ecb7",
   "metadata": {},
   "outputs": [
    {
     "data": {
      "text/html": [
       "<div>\n",
       "<style scoped>\n",
       "    .dataframe tbody tr th:only-of-type {\n",
       "        vertical-align: middle;\n",
       "    }\n",
       "\n",
       "    .dataframe tbody tr th {\n",
       "        vertical-align: top;\n",
       "    }\n",
       "\n",
       "    .dataframe thead th {\n",
       "        text-align: right;\n",
       "    }\n",
       "</style>\n",
       "<table border=\"1\" class=\"dataframe\">\n",
       "  <thead>\n",
       "    <tr style=\"text-align: right;\">\n",
       "      <th></th>\n",
       "      <th>instance a</th>\n",
       "      <th>instance b</th>\n",
       "      <th>RBF kernel value</th>\n",
       "      <th>SVERAD</th>\n",
       "      <th>SHAP</th>\n",
       "      <th>SHAP_expected_value</th>\n",
       "    </tr>\n",
       "  </thead>\n",
       "  <tbody>\n",
       "    <tr>\n",
       "      <th>0</th>\n",
       "      <td>0</td>\n",
       "      <td>1</td>\n",
       "      <td>0.008652</td>\n",
       "      <td>[0.009345794392523364, 0.009345794392523364, 0...</td>\n",
       "      <td>[0.0, 0.0, 0.0, 0.0, -0.00047788974041748015, ...</td>\n",
       "      <td>0.026839</td>\n",
       "    </tr>\n",
       "    <tr>\n",
       "      <th>1</th>\n",
       "      <td>0</td>\n",
       "      <td>2</td>\n",
       "      <td>0.002243</td>\n",
       "      <td>[0.007352941176470588, 0.007352941176470588, 0...</td>\n",
       "      <td>[0.0, 0.0, 0.0, 0.0, -1.4350571491792091e-05, ...</td>\n",
       "      <td>0.027118</td>\n",
       "    </tr>\n",
       "    <tr>\n",
       "      <th>2</th>\n",
       "      <td>0</td>\n",
       "      <td>3</td>\n",
       "      <td>0.012907</td>\n",
       "      <td>[0.009615384615384616, 0.009615384615384616, 0...</td>\n",
       "      <td>[0.0, 0.0, 0.0, 0.0, -0.0006815457258154083, 0...</td>\n",
       "      <td>0.026654</td>\n",
       "    </tr>\n",
       "    <tr>\n",
       "      <th>3</th>\n",
       "      <td>0</td>\n",
       "      <td>4</td>\n",
       "      <td>0.007447</td>\n",
       "      <td>[0.009009009009009009, 0.009009009009009009, 0...</td>\n",
       "      <td>[0.0, 0.0, 0.0001757906461538024, 0.0, 0.0, 0....</td>\n",
       "      <td>0.026892</td>\n",
       "    </tr>\n",
       "    <tr>\n",
       "      <th>4</th>\n",
       "      <td>0</td>\n",
       "      <td>5</td>\n",
       "      <td>0.105399</td>\n",
       "      <td>[0.01098901098901099, 0.01098901098901099, 0.0...</td>\n",
       "      <td>[0.0, 0.0, 0.0001442728507457091, 0.0005310414...</td>\n",
       "      <td>0.022633</td>\n",
       "    </tr>\n",
       "    <tr>\n",
       "      <th>...</th>\n",
       "      <td>...</td>\n",
       "      <td>...</td>\n",
       "      <td>...</td>\n",
       "      <td>...</td>\n",
       "      <td>...</td>\n",
       "      <td>...</td>\n",
       "    </tr>\n",
       "    <tr>\n",
       "      <th>595</th>\n",
       "      <td>24</td>\n",
       "      <td>19</td>\n",
       "      <td>0.015764</td>\n",
       "      <td>[0.010526315789473684, 0.010526315789473684, 0...</td>\n",
       "      <td>[0.0, 0.0, 9.774105185220845e-05, 0.0, -0.0003...</td>\n",
       "      <td>0.013552</td>\n",
       "    </tr>\n",
       "    <tr>\n",
       "      <th>596</th>\n",
       "      <td>24</td>\n",
       "      <td>20</td>\n",
       "      <td>0.027324</td>\n",
       "      <td>[0.01098901098901099, 0.01098901098901099, 0.0...</td>\n",
       "      <td>[0.0, 0.0, 0.00016379714221812468, 0.000128731...</td>\n",
       "      <td>0.013049</td>\n",
       "    </tr>\n",
       "    <tr>\n",
       "      <th>597</th>\n",
       "      <td>24</td>\n",
       "      <td>21</td>\n",
       "      <td>0.008652</td>\n",
       "      <td>[0.009433962264150943, 0.009433962264150943, 0...</td>\n",
       "      <td>[0.0, 0.0, 0.0, -0.0003930052537058668, 0.0, 0...</td>\n",
       "      <td>0.013861</td>\n",
       "    </tr>\n",
       "    <tr>\n",
       "      <th>598</th>\n",
       "      <td>24</td>\n",
       "      <td>22</td>\n",
       "      <td>0.009095</td>\n",
       "      <td>[0.009523809523809525, 0.009523809523809525, 0...</td>\n",
       "      <td>[0.0, 0.0, 0.0, 0.0, 0.0, 9.701853537356393e-0...</td>\n",
       "      <td>0.013842</td>\n",
       "    </tr>\n",
       "    <tr>\n",
       "      <th>599</th>\n",
       "      <td>24</td>\n",
       "      <td>23</td>\n",
       "      <td>0.012907</td>\n",
       "      <td>[0.010309278350515464, 0.010309278350515464, 0...</td>\n",
       "      <td>[0.0, 0.0, 0.0, 0.0, 0.0, 0.000178314251350845...</td>\n",
       "      <td>0.013676</td>\n",
       "    </tr>\n",
       "  </tbody>\n",
       "</table>\n",
       "<p>600 rows × 6 columns</p>\n",
       "</div>"
      ],
      "text/plain": [
       "     instance a  instance b  RBF kernel value  \\\n",
       "0             0           1          0.008652   \n",
       "1             0           2          0.002243   \n",
       "2             0           3          0.012907   \n",
       "3             0           4          0.007447   \n",
       "4             0           5          0.105399   \n",
       "..          ...         ...               ...   \n",
       "595          24          19          0.015764   \n",
       "596          24          20          0.027324   \n",
       "597          24          21          0.008652   \n",
       "598          24          22          0.009095   \n",
       "599          24          23          0.012907   \n",
       "\n",
       "                                                SVERAD  \\\n",
       "0    [0.009345794392523364, 0.009345794392523364, 0...   \n",
       "1    [0.007352941176470588, 0.007352941176470588, 0...   \n",
       "2    [0.009615384615384616, 0.009615384615384616, 0...   \n",
       "3    [0.009009009009009009, 0.009009009009009009, 0...   \n",
       "4    [0.01098901098901099, 0.01098901098901099, 0.0...   \n",
       "..                                                 ...   \n",
       "595  [0.010526315789473684, 0.010526315789473684, 0...   \n",
       "596  [0.01098901098901099, 0.01098901098901099, 0.0...   \n",
       "597  [0.009433962264150943, 0.009433962264150943, 0...   \n",
       "598  [0.009523809523809525, 0.009523809523809525, 0...   \n",
       "599  [0.010309278350515464, 0.010309278350515464, 0...   \n",
       "\n",
       "                                                  SHAP  SHAP_expected_value  \n",
       "0    [0.0, 0.0, 0.0, 0.0, -0.00047788974041748015, ...             0.026839  \n",
       "1    [0.0, 0.0, 0.0, 0.0, -1.4350571491792091e-05, ...             0.027118  \n",
       "2    [0.0, 0.0, 0.0, 0.0, -0.0006815457258154083, 0...             0.026654  \n",
       "3    [0.0, 0.0, 0.0001757906461538024, 0.0, 0.0, 0....             0.026892  \n",
       "4    [0.0, 0.0, 0.0001442728507457091, 0.0005310414...             0.022633  \n",
       "..                                                 ...                  ...  \n",
       "595  [0.0, 0.0, 9.774105185220845e-05, 0.0, -0.0003...             0.013552  \n",
       "596  [0.0, 0.0, 0.00016379714221812468, 0.000128731...             0.013049  \n",
       "597  [0.0, 0.0, 0.0, -0.0003930052537058668, 0.0, 0...             0.013861  \n",
       "598  [0.0, 0.0, 0.0, 0.0, 0.0, 9.701853537356393e-0...             0.013842  \n",
       "599  [0.0, 0.0, 0.0, 0.0, 0.0, 0.000178314251350845...             0.013676  \n",
       "\n",
       "[600 rows x 6 columns]"
      ]
     },
     "execution_count": 17,
     "metadata": {},
     "output_type": "execute_result"
    }
   ],
   "source": [
    "explanation_df"
   ]
  },
  {
   "attachments": {},
   "cell_type": "markdown",
   "id": "d0e93322",
   "metadata": {},
   "source": [
    "### Correlation"
   ]
  },
  {
   "cell_type": "code",
   "execution_count": 18,
   "id": "f3ccc9dc",
   "metadata": {},
   "outputs": [
    {
     "data": {
      "text/html": [
       "<div>\n",
       "<style scoped>\n",
       "    .dataframe tbody tr th:only-of-type {\n",
       "        vertical-align: middle;\n",
       "    }\n",
       "\n",
       "    .dataframe tbody tr th {\n",
       "        vertical-align: top;\n",
       "    }\n",
       "\n",
       "    .dataframe thead th {\n",
       "        text-align: right;\n",
       "    }\n",
       "</style>\n",
       "<table border=\"1\" class=\"dataframe\">\n",
       "  <thead>\n",
       "    <tr style=\"text-align: right;\">\n",
       "      <th></th>\n",
       "      <th>a</th>\n",
       "      <th>b</th>\n",
       "      <th>Pearson r SVERAD - SHAP</th>\n",
       "      <th>Fisher SVERAD - SHAP</th>\n",
       "    </tr>\n",
       "  </thead>\n",
       "  <tbody>\n",
       "    <tr>\n",
       "      <th>0</th>\n",
       "      <td>0</td>\n",
       "      <td>1</td>\n",
       "      <td>0.285820</td>\n",
       "      <td>0.294008</td>\n",
       "    </tr>\n",
       "    <tr>\n",
       "      <th>1</th>\n",
       "      <td>0</td>\n",
       "      <td>2</td>\n",
       "      <td>0.288243</td>\n",
       "      <td>0.296649</td>\n",
       "    </tr>\n",
       "    <tr>\n",
       "      <th>2</th>\n",
       "      <td>0</td>\n",
       "      <td>3</td>\n",
       "      <td>0.498266</td>\n",
       "      <td>0.546997</td>\n",
       "    </tr>\n",
       "    <tr>\n",
       "      <th>3</th>\n",
       "      <td>0</td>\n",
       "      <td>4</td>\n",
       "      <td>0.361255</td>\n",
       "      <td>0.378329</td>\n",
       "    </tr>\n",
       "    <tr>\n",
       "      <th>4</th>\n",
       "      <td>0</td>\n",
       "      <td>5</td>\n",
       "      <td>0.662968</td>\n",
       "      <td>0.798091</td>\n",
       "    </tr>\n",
       "    <tr>\n",
       "      <th>...</th>\n",
       "      <td>...</td>\n",
       "      <td>...</td>\n",
       "      <td>...</td>\n",
       "      <td>...</td>\n",
       "    </tr>\n",
       "    <tr>\n",
       "      <th>595</th>\n",
       "      <td>24</td>\n",
       "      <td>19</td>\n",
       "      <td>0.405789</td>\n",
       "      <td>0.430560</td>\n",
       "    </tr>\n",
       "    <tr>\n",
       "      <th>596</th>\n",
       "      <td>24</td>\n",
       "      <td>20</td>\n",
       "      <td>0.529847</td>\n",
       "      <td>0.589933</td>\n",
       "    </tr>\n",
       "    <tr>\n",
       "      <th>597</th>\n",
       "      <td>24</td>\n",
       "      <td>21</td>\n",
       "      <td>0.335527</td>\n",
       "      <td>0.349044</td>\n",
       "    </tr>\n",
       "    <tr>\n",
       "      <th>598</th>\n",
       "      <td>24</td>\n",
       "      <td>22</td>\n",
       "      <td>0.303512</td>\n",
       "      <td>0.313383</td>\n",
       "    </tr>\n",
       "    <tr>\n",
       "      <th>599</th>\n",
       "      <td>24</td>\n",
       "      <td>23</td>\n",
       "      <td>0.252460</td>\n",
       "      <td>0.258038</td>\n",
       "    </tr>\n",
       "  </tbody>\n",
       "</table>\n",
       "<p>600 rows × 4 columns</p>\n",
       "</div>"
      ],
      "text/plain": [
       "      a   b  Pearson r SVERAD - SHAP  Fisher SVERAD - SHAP\n",
       "0     0   1                 0.285820              0.294008\n",
       "1     0   2                 0.288243              0.296649\n",
       "2     0   3                 0.498266              0.546997\n",
       "3     0   4                 0.361255              0.378329\n",
       "4     0   5                 0.662968              0.798091\n",
       "..   ..  ..                      ...                   ...\n",
       "595  24  19                 0.405789              0.430560\n",
       "596  24  20                 0.529847              0.589933\n",
       "597  24  21                 0.335527              0.349044\n",
       "598  24  22                 0.303512              0.313383\n",
       "599  24  23                 0.252460              0.258038\n",
       "\n",
       "[600 rows x 4 columns]"
      ]
     },
     "metadata": {},
     "output_type": "display_data"
    },
    {
     "name": "stdout",
     "output_type": "stream",
     "text": [
      "Mean correlation\n"
     ]
    },
    {
     "data": {
      "text/plain": [
       "a                          12.000000\n",
       "b                          12.000000\n",
       "Pearson r SVERAD - SHAP     0.341403\n",
       "Fisher SVERAD - SHAP        0.365302\n",
       "dtype: float64"
      ]
     },
     "metadata": {},
     "output_type": "display_data"
    },
    {
     "name": "stdout",
     "output_type": "stream",
     "text": [
      "Standard deviation\n"
     ]
    },
    {
     "data": {
      "text/plain": [
       "a                          7.217119\n",
       "b                          7.217119\n",
       "Pearson r SVERAD - SHAP    0.125056\n",
       "Fisher SVERAD - SHAP       0.160613\n",
       "dtype: float64"
      ]
     },
     "metadata": {},
     "output_type": "display_data"
    },
    {
     "name": "stdout",
     "output_type": "stream",
     "text": [
      "Mean Pearson r correlation coeff for SVERAD - SHAP:  0.32872948753094744 +/- 0.12440846815694089\n",
      "Mean Pearson r correlation coeff Fisher transformed for SVERAD - SHAP:  0.3498755408681555 +/- 0.15924638601877816\n"
     ]
    }
   ],
   "source": [
    "corr_df = []\n",
    "for i, row in explanation_df.iterrows():\n",
    "    if row[\"instance a\"] == row[\"instance b\"]:\n",
    "        continue\n",
    "    sverad_value = row[\"SVERAD\"]\n",
    "    shap = row[\"SHAP\"]\n",
    "    \n",
    "    \n",
    "    corr_sverad_SHAP, p_sverad_SHAP = pearsonr(sverad_value, shap)\n",
    "    \n",
    "    \n",
    "    corr_df.append({\"a\": row[\"instance a\"], \"b\": row[\"instance b\"],  \"Pearson r SVERAD - SHAP\": corr_sverad_SHAP})\n",
    "corr_df = pd.DataFrame(corr_df)\n",
    "corr_df[\"Fisher SVERAD - SHAP\"] = np.arctanh(corr_df[\"Pearson r SVERAD - SHAP\"])\n",
    "# corr_df[\"Pearson r Fisher Tranformed\"] = np.tanh(corr_df[\"Fisher SVERAD - SHAP\"])\n",
    "display(corr_df)\n",
    "print(\"Mean correlation\")\n",
    "display(corr_df.mean())\n",
    "print(\"Standard deviation\")\n",
    "display(corr_df.std())\n",
    "\n",
    "print(\"Mean Pearson r correlation coeff for SVERAD - SHAP: \", np.tanh(corr_df[\"Pearson r SVERAD - SHAP\"].mean()), \"+/-\", np.tanh(corr_df[\"Pearson r SVERAD - SHAP\"].std()))\n",
    "print(\"Mean Pearson r correlation coeff Fisher transformed for SVERAD - SHAP: \", np.tanh(corr_df[\"Fisher SVERAD - SHAP\"].mean()), \"+/-\", np.tanh(corr_df[\"Fisher SVERAD - SHAP\"].std()))"
   ]
  },
  {
   "attachments": {},
   "cell_type": "markdown",
   "id": "c8a941ad",
   "metadata": {},
   "source": [
    "Old code"
   ]
  },
  {
   "cell_type": "code",
   "execution_count": 19,
   "id": "82b4d8f5-6c52-4b44-b281-4c5febde3d31",
   "metadata": {
    "pycharm": {
     "name": "#%%\n"
    }
   },
   "outputs": [],
   "source": [
    "corr_df = []\n",
    "for i, row in explanation_df.iterrows():\n",
    "    if row[\"instance a\"] == row[\"instance b\"]:\n",
    "        continue\n",
    "    sveata_values = row[\"SVERAD\"]\n",
    "    kernel_shap = row[\"SHAP\"]\n",
    "    \n",
    "    corr, p = pearsonr(sveata_values, kernel_shap)\n",
    "    corr_df.append({\"a\": row[\"instance a\"], \"b\": row[\"instance b\"], \"correlation\": corr})\n",
    "corr_df = pd.DataFrame(corr_df)\n",
    "# Fisher transformation\n",
    "corr_df[\"pearsons_r_fisher\"] = np.arctanh(corr_df.correlation)"
   ]
  },
  {
   "cell_type": "code",
   "execution_count": 20,
   "id": "88e3239a-e530-4d29-90a2-b599b341fdc8",
   "metadata": {
    "pycharm": {
     "name": "#%%\n"
    }
   },
   "outputs": [
    {
     "data": {
      "image/png": "[encoded data removed]",
      "text/plain": [
       "<Figure size 576x432 with 1 Axes>"
      ]
     },
     "metadata": {
      "needs_background": "light"
     },
     "output_type": "display_data"
    }
   ],
   "source": [
    "fig, ax = plt.subplots(figsize=(8,6))\n",
    "ax.boxplot(corr_df.pearsons_r_fisher)\n",
    "#ax.set_ylim(-0.1,4.05)\n",
    "ax.set_ylabel(\"arctanh(Pearson's r)\")\n",
    "secax = ax.secondary_yaxis('right', functions=(np.tanh, np.arctanh))\n",
    "secax.set_ylabel(\"Pearson's r\")\n",
    "secax.set_yticks([-0.5, 0, 0.5, 0.75, 0.9]);"
   ]
  },
  {
   "cell_type": "code",
   "execution_count": 21,
   "metadata": {
    "collapsed": false,
    "pycharm": {
     "name": "#%%\n"
    }
   },
   "outputs": [],
   "source": [
    "# Transforming values back."
   ]
  },
  {
   "cell_type": "code",
   "execution_count": 22,
   "id": "e4856428-b105-4431-bac6-a52af3052901",
   "metadata": {
    "pycharm": {
     "name": "#%%\n"
    }
   },
   "outputs": [
    {
     "data": {
      "text/plain": [
       "0.3498755408681555"
      ]
     },
     "execution_count": 22,
     "metadata": {},
     "output_type": "execute_result"
    }
   ],
   "source": [
    "np.tanh(corr_df[\"pearsons_r_fisher\"].mean())"
   ]
  },
  {
   "cell_type": "code",
   "execution_count": 23,
   "id": "d43da3eb-e072-4f76-97dd-04d4a16f2cf7",
   "metadata": {
    "pycharm": {
     "name": "#%%\n"
    }
   },
   "outputs": [
    {
     "data": {
      "text/plain": [
       "0.15924638601877816"
      ]
     },
     "execution_count": 23,
     "metadata": {},
     "output_type": "execute_result"
    }
   ],
   "source": [
    "np.tanh(corr_df[\"pearsons_r_fisher\"].std())"
   ]
  },
  {
   "cell_type": "code",
   "execution_count": 24,
   "id": "4ed10602-2e90-4279-9cd2-1c0ceb8cbc17",
   "metadata": {
    "pycharm": {
     "name": "#%%\n"
    }
   },
   "outputs": [
    {
     "data": {
      "text/plain": [
       "0.06953547827097523"
      ]
     },
     "execution_count": 24,
     "metadata": {},
     "output_type": "execute_result"
    }
   ],
   "source": [
    "np.tanh(corr_df[\"pearsons_r_fisher\"].min())"
   ]
  },
  {
   "cell_type": "code",
   "execution_count": 25,
   "id": "5e2d08e4",
   "metadata": {
    "collapsed": false,
    "jupyter": {
     "outputs_hidden": false
    },
    "pycharm": {
     "name": "#%%\n"
    }
   },
   "outputs": [
    {
     "data": {
      "text/plain": [
       "0.8002452731872393"
      ]
     },
     "execution_count": 25,
     "metadata": {},
     "output_type": "execute_result"
    }
   ],
   "source": [
    "np.tanh(corr_df[\"pearsons_r_fisher\"].max())"
   ]
  }
 ],
 "metadata": {
  "kernelspec": {
   "display_name": "Python 3 (ipykernel)",
   "language": "python",
   "name": "python3"
  },
  "language_info": {
   "codemirror_mode": {
    "name": "ipython",
    "version": 3
   },
   "file_extension": ".py",
   "mimetype": "text/x-python",
   "name": "python",
   "nbconvert_exporter": "python",
   "pygments_lexer": "ipython3",
   "version": "3.10.5"
  }
 },
 "nbformat": 4,
 "nbformat_minor": 5
}
