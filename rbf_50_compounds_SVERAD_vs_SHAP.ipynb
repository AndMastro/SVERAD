{
 "cells": [
  {
   "attachments": {},
   "cell_type": "markdown",
   "metadata": {
    "collapsed": false,
    "pycharm": {
     "name": "#%% md\n"
    }
   },
   "source": [
    "# Comparison of SVERAD and SHAP on the RBF kernel for 50 random compounds."
   ]
  },
  {
   "cell_type": "code",
   "execution_count": 1,
   "metadata": {
    "collapsed": false,
    "pycharm": {
     "name": "#%%\n"
    }
   },
   "outputs": [],
   "source": [
    "from src.sverad import compute_sverad_sv, rbf_kernel_matrix\n",
    "from src.utils import set_seeds, DataSet, UnfoldedMorganFingerprint\n",
    "\n",
    "import matplotlib.pyplot as plt\n",
    "import numpy as np\n",
    "import pandas as pd\n",
    "import pickle\n",
    "\n",
    "from scipy.stats import pearsonr\n",
    "from tqdm.auto import tqdm\n",
    "import warnings\n",
    "import shap"
   ]
  },
  {
   "cell_type": "code",
   "execution_count": 2,
   "id": "c44d3c8b",
   "metadata": {},
   "outputs": [],
   "source": [
    "SEED = 42\n",
    "set_seeds(SEED)\n",
    "GAMMA = 0.05 #0.01  #1.0 0.005 \n",
    "\n",
    "SAVE_DATASET_PICKLE = True\n",
    "LOAD_PRECOMPUTED_EXPLANATIONS = False\n",
    "SAVE_EXPLANATIONS = True\n",
    "SAMPLE_SIZE = 25"
   ]
  },
  {
   "attachments": {},
   "cell_type": "markdown",
   "id": "8a651953",
   "metadata": {},
   "source": [
    "### Load and generate dataset"
   ]
  },
  {
   "cell_type": "code",
   "execution_count": 3,
   "id": "2c3f3f77-4538-49b1-8277-fada73a415da",
   "metadata": {
    "pycharm": {
     "name": "#%%\n"
    }
   },
   "outputs": [
    {
     "data": {
      "text/html": [
       "<div>\n",
       "<style scoped>\n",
       "    .dataframe tbody tr th:only-of-type {\n",
       "        vertical-align: middle;\n",
       "    }\n",
       "\n",
       "    .dataframe tbody tr th {\n",
       "        vertical-align: top;\n",
       "    }\n",
       "\n",
       "    .dataframe thead th {\n",
       "        text-align: right;\n",
       "    }\n",
       "</style>\n",
       "<table border=\"1\" class=\"dataframe\">\n",
       "  <thead>\n",
       "    <tr style=\"text-align: right;\">\n",
       "      <th>label</th>\n",
       "      <th>active</th>\n",
       "      <th>random</th>\n",
       "    </tr>\n",
       "    <tr>\n",
       "      <th>uniprot_id</th>\n",
       "      <th></th>\n",
       "      <th></th>\n",
       "    </tr>\n",
       "  </thead>\n",
       "  <tbody>\n",
       "    <tr>\n",
       "      <th>P0DMS8</th>\n",
       "      <td>287</td>\n",
       "      <td>287</td>\n",
       "    </tr>\n",
       "  </tbody>\n",
       "</table>\n",
       "</div>"
      ],
      "text/plain": [
       "label       active  random\n",
       "uniprot_id                \n",
       "P0DMS8         287     287"
      ]
     },
     "execution_count": 3,
     "metadata": {},
     "output_type": "execute_result"
    }
   ],
   "source": [
    "dataset_df = pd.read_csv(\"data/dataset.tsv\", sep=\"\\t\")\n",
    "dataset_df.pivot_table(index=\"uniprot_id\", columns=\"label\", values=\"nonstereo_aromatic_smiles\", aggfunc=\"nunique\", fill_value=0)"
   ]
  },
  {
   "cell_type": "code",
   "execution_count": 4,
   "id": "5a0593b4",
   "metadata": {},
   "outputs": [],
   "source": [
    "dataset_dict = dict()\n",
    "fingerprint_gen_dict = dict()\n",
    "for dataset_name, data_grpd_df in dataset_df.groupby(\"uniprot_id\"):\n",
    "    \n",
    "    # label: 1: active, 0: random\n",
    "    labels = np.array([1 if l == 'active' else 0 for l in data_grpd_df.label])\n",
    "    # Creating Fingerprint\n",
    "    morgan_radius2 = UnfoldedMorganFingerprint(radius=2)\n",
    "    morgan_radius2.fit_smiles(data_grpd_df.nonstereo_aromatic_smiles.tolist())\n",
    "    \n",
    "    # Constructing Dataset\n",
    "    fp_matrix = morgan_radius2.transform_smiles(data_grpd_df.nonstereo_aromatic_smiles.tolist())\n",
    "    # Constructing Dataset\n",
    "    dataset = DataSet(labels, fp_matrix)\n",
    "    dataset.add_attribute(\"nonstereo_aromatic_smiles\", data_grpd_df.nonstereo_aromatic_smiles.values)\n",
    "    \n",
    "    dataset_dict[dataset_name] = dataset\n",
    "    fingerprint_gen_dict[dataset_name] = morgan_radius2"
   ]
  },
  {
   "attachments": {},
   "cell_type": "markdown",
   "id": "91cc814b",
   "metadata": {},
   "source": [
    "#### Save dataset and fingerprint for future use"
   ]
  },
  {
   "cell_type": "code",
   "execution_count": 5,
   "id": "53413887",
   "metadata": {},
   "outputs": [],
   "source": [
    "if SAVE_DATASET_PICKLE:\n",
    "    with open(\"./data/pickle/dataset_dict.p\", \"wb\") as outfile:\n",
    "        pickle.dump(dataset_dict, outfile)\n",
    "    with open(\"./data/pickle/fingerprint_gen_dict.p\", \"wb\") as outfile:\n",
    "        pickle.dump(fingerprint_gen_dict, outfile)"
   ]
  },
  {
   "cell_type": "markdown",
   "id": "ba283ba3-a7b0-43eb-bc5a-19d3456da371",
   "metadata": {
    "pycharm": {
     "name": "#%% md\n"
    }
   },
   "source": [
    "# Analysis"
   ]
  },
  {
   "cell_type": "code",
   "execution_count": 6,
   "id": "a9ae758b-d66b-48ef-b31b-e576e65036e4",
   "metadata": {
    "pycharm": {
     "name": "#%%\n"
    }
   },
   "outputs": [],
   "source": [
    "dataset = dataset_dict[\"P0DMS8\"]"
   ]
  },
  {
   "cell_type": "code",
   "execution_count": 7,
   "id": "6e430d72-29f6-4e4b-a715-1444daa90b4b",
   "metadata": {
    "pycharm": {
     "name": "#%%\n"
    }
   },
   "outputs": [
    {
     "name": "stdout",
     "output_type": "stream",
     "text": [
      "Number of CPDs: 574\n",
      "Number of features: 5487\n"
     ]
    }
   ],
   "source": [
    "print(\"Number of CPDs: {}\\nNumber of features: {}\".format(*dataset.feature_matrix.shape))"
   ]
  },
  {
   "cell_type": "code",
   "execution_count": 8,
   "id": "06439aa8-216d-4a6f-bcd5-d07a3365c600",
   "metadata": {
    "pycharm": {
     "name": "#%%\n"
    }
   },
   "outputs": [
    {
     "data": {
      "application/vnd.jupyter.widget-view+json": {
       "model_id": "c9da5f1ec5b4445dae5de2222afceecc",
       "version_major": 2,
       "version_minor": 0
      },
      "text/plain": [
       "  0%|          | 0/25 [00:00<?, ?it/s]"
      ]
     },
     "metadata": {},
     "output_type": "display_data"
    },
    {
     "data": {
      "application/vnd.jupyter.widget-view+json": {
       "model_id": "ba9dfcb047ac415cab0801ef1fcc6fe7",
       "version_major": 2,
       "version_minor": 0
      },
      "text/plain": [
       "  0%|          | 0/25 [00:00<?, ?it/s]"
      ]
     },
     "metadata": {},
     "output_type": "display_data"
    },
    {
     "ename": "KeyboardInterrupt",
     "evalue": "",
     "output_type": "error",
     "traceback": [
      "\u001b[0;31m---------------------------------------------------------------------------\u001b[0m",
      "\u001b[0;31mKeyboardInterrupt\u001b[0m                         Traceback (most recent call last)",
      "\u001b[1;32m/mnt/c/Repositories/SV-RBF/rbf_50_compounds_SVERAD_vs_SHAP.ipynb Cell 12\u001b[0m in \u001b[0;36m<cell line: 2>\u001b[0;34m()\u001b[0m\n\u001b[1;32m     <a href='vscode-notebook-cell://wsl%2Bubuntu/mnt/c/Repositories/SV-RBF/rbf_50_compounds_SVERAD_vs_SHAP.ipynb#X14sdnNjb2RlLXJlbW90ZQ%3D%3D?line=32'>33</a>\u001b[0m     explainer_vi \u001b[39m=\u001b[39m shap\u001b[39m.\u001b[39mKernelExplainer(kernel_func, available_as_sample)\n\u001b[1;32m     <a href='vscode-notebook-cell://wsl%2Bubuntu/mnt/c/Repositories/SV-RBF/rbf_50_compounds_SVERAD_vs_SHAP.ipynb#X14sdnNjb2RlLXJlbW90ZQ%3D%3D?line=33'>34</a>\u001b[0m     \u001b[39m# explainer_vi = shap.KernelExplainer(exact_shapley_gen_i.rbf_kernel_value, available_as_sample)\u001b[39;00m\n\u001b[0;32m---> <a href='vscode-notebook-cell://wsl%2Bubuntu/mnt/c/Repositories/SV-RBF/rbf_50_compounds_SVERAD_vs_SHAP.ipynb#X14sdnNjb2RlLXJlbW90ZQ%3D%3D?line=34'>35</a>\u001b[0m     kernel_value \u001b[39m=\u001b[39m rbf_kernel_matrix(arr_i\u001b[39m.\u001b[39;49mtoarray(), arr_j\u001b[39m.\u001b[39mtoarray(), gamma \u001b[39m=\u001b[39m GAMMA)\n\u001b[1;32m     <a href='vscode-notebook-cell://wsl%2Bubuntu/mnt/c/Repositories/SV-RBF/rbf_50_compounds_SVERAD_vs_SHAP.ipynb#X14sdnNjb2RlLXJlbW90ZQ%3D%3D?line=35'>36</a>\u001b[0m     shap_ij \u001b[39m=\u001b[39m explainer_vi\u001b[39m.\u001b[39mshap_values(arr_j, silent\u001b[39m=\u001b[39m\u001b[39mTrue\u001b[39;00m)\n\u001b[1;32m     <a href='vscode-notebook-cell://wsl%2Bubuntu/mnt/c/Repositories/SV-RBF/rbf_50_compounds_SVERAD_vs_SHAP.ipynb#X14sdnNjb2RlLXJlbW90ZQ%3D%3D?line=36'>37</a>\u001b[0m explanation_df\u001b[39m.\u001b[39mappend({\u001b[39m\"\u001b[39m\u001b[39minstance a\u001b[39m\u001b[39m\"\u001b[39m: i,\n\u001b[1;32m     <a href='vscode-notebook-cell://wsl%2Bubuntu/mnt/c/Repositories/SV-RBF/rbf_50_compounds_SVERAD_vs_SHAP.ipynb#X14sdnNjb2RlLXJlbW90ZQ%3D%3D?line=37'>38</a>\u001b[0m                        \u001b[39m\"\u001b[39m\u001b[39minstance b\u001b[39m\u001b[39m\"\u001b[39m: j,\n\u001b[1;32m     <a href='vscode-notebook-cell://wsl%2Bubuntu/mnt/c/Repositories/SV-RBF/rbf_50_compounds_SVERAD_vs_SHAP.ipynb#X14sdnNjb2RlLXJlbW90ZQ%3D%3D?line=38'>39</a>\u001b[0m                        \u001b[39m\"\u001b[39m\u001b[39mRBF kernel value\u001b[39m\u001b[39m\"\u001b[39m: kernel_value[\u001b[39m0\u001b[39m][\u001b[39m0\u001b[39m],\n\u001b[0;32m   (...)\u001b[0m\n\u001b[1;32m     <a href='vscode-notebook-cell://wsl%2Bubuntu/mnt/c/Repositories/SV-RBF/rbf_50_compounds_SVERAD_vs_SHAP.ipynb#X14sdnNjb2RlLXJlbW90ZQ%3D%3D?line=41'>42</a>\u001b[0m                        \u001b[39m\"\u001b[39m\u001b[39mSHAP_expected_value\u001b[39m\u001b[39m\"\u001b[39m: explainer_vi\u001b[39m.\u001b[39mexpected_value,\n\u001b[1;32m     <a href='vscode-notebook-cell://wsl%2Bubuntu/mnt/c/Repositories/SV-RBF/rbf_50_compounds_SVERAD_vs_SHAP.ipynb#X14sdnNjb2RlLXJlbW90ZQ%3D%3D?line=42'>43</a>\u001b[0m                        })\n",
      "File \u001b[0;32m~/anaconda3/envs/sveta/lib/python3.10/site-packages/scipy/sparse/_compressed.py:1048\u001b[0m, in \u001b[0;36m_cs_matrix.toarray\u001b[0;34m(self, order, out)\u001b[0m\n\u001b[1;32m   1041\u001b[0m     \u001b[39mreturn\u001b[39;00m \u001b[39mself\u001b[39m\u001b[39m.\u001b[39m_coo_container(\n\u001b[1;32m   1042\u001b[0m         (\u001b[39mself\u001b[39m\u001b[39m.\u001b[39mdata, (row, col)), \u001b[39mself\u001b[39m\u001b[39m.\u001b[39mshape, copy\u001b[39m=\u001b[39mcopy,\n\u001b[1;32m   1043\u001b[0m         dtype\u001b[39m=\u001b[39m\u001b[39mself\u001b[39m\u001b[39m.\u001b[39mdtype\n\u001b[1;32m   1044\u001b[0m     )\n\u001b[1;32m   1046\u001b[0m tocoo\u001b[39m.\u001b[39m\u001b[39m__doc__\u001b[39m \u001b[39m=\u001b[39m spmatrix\u001b[39m.\u001b[39mtocoo\u001b[39m.\u001b[39m\u001b[39m__doc__\u001b[39m\n\u001b[0;32m-> 1048\u001b[0m \u001b[39mdef\u001b[39;00m \u001b[39mtoarray\u001b[39m(\u001b[39mself\u001b[39m, order\u001b[39m=\u001b[39m\u001b[39mNone\u001b[39;00m, out\u001b[39m=\u001b[39m\u001b[39mNone\u001b[39;00m):\n\u001b[1;32m   1049\u001b[0m     \u001b[39mif\u001b[39;00m out \u001b[39mis\u001b[39;00m \u001b[39mNone\u001b[39;00m \u001b[39mand\u001b[39;00m order \u001b[39mis\u001b[39;00m \u001b[39mNone\u001b[39;00m:\n\u001b[1;32m   1050\u001b[0m         order \u001b[39m=\u001b[39m \u001b[39mself\u001b[39m\u001b[39m.\u001b[39m_swap(\u001b[39m'\u001b[39m\u001b[39mcf\u001b[39m\u001b[39m'\u001b[39m)[\u001b[39m0\u001b[39m]\n",
      "\u001b[0;31mKeyboardInterrupt\u001b[0m: "
     ]
    }
   ],
   "source": [
    "save_path = \"./data/pickle/explanations_50_cpd_rbf_SVERAD_SHAP.p\"\n",
    "if not LOAD_PRECOMPUTED_EXPLANATIONS: # This takes about 8h\n",
    "    explanation_df = []\n",
    "    # Selecting a random subset\n",
    "    subset = shap.sample(dataset.feature_matrix, nsamples=SAMPLE_SIZE, random_state=SEED)\n",
    "\n",
    "    # Iterating over all pairs.\n",
    "    for i, arr_i in tqdm(enumerate(subset), total=SAMPLE_SIZE):\n",
    "        \n",
    "        \n",
    "        \n",
    "        kernel_func = lambda x: rbf_kernel_matrix(x.toarray(), arr_i.toarray().reshape((1, -1)), gamma = GAMMA)[:, 0]\n",
    "        # exact_shapley_gen_i = ExactRBFShapleyComputation(arr_i, gamma=GAMMA) #used only to compute RBF kernel value\n",
    "        for j, arr_j in tqdm(enumerate(subset), total=SAMPLE_SIZE):\n",
    "            if i == j:\n",
    "                continue\n",
    "            \n",
    "            # intersection_ij = arr_i.toarray()[0] * arr_j.toarray()[0]\n",
    "            # union_ij = 1 - (1-arr_i.toarray()[0]) * (1-arr_j.toarray()[0])\n",
    "            # diff_ij = union_ij - intersection_ij\n",
    "            # sveta_values_ij = intersection_ij * sveta_f_plus(sum(intersection_ij), sum(diff_ij))\n",
    "            # sveta_values_ij += diff_ij * sveta_f_minus(sum(intersection_ij), sum(diff_ij))\n",
    "\n",
    "            sverad_values_ij = compute_sverad_sv(arr_i.toarray()[0], arr_j.toarray()[0], gamma=GAMMA)\n",
    "            # removing CPDs of the pair from the background sample.\n",
    "            mask = np.ones(subset.shape[0], dtype=bool)\n",
    "            mask[i] = False\n",
    "            mask[j] = False\n",
    "            available_as_sample = subset[mask]\n",
    "            with warnings.catch_warnings():\n",
    "                # ignore all caught warnings\n",
    "                warnings.filterwarnings(\"ignore\")\n",
    "                explainer_vi = shap.KernelExplainer(kernel_func, available_as_sample)\n",
    "                # explainer_vi = shap.KernelExplainer(exact_shapley_gen_i.rbf_kernel_value, available_as_sample)\n",
    "                kernel_value = rbf_kernel_matrix(arr_i.toarray(), arr_j.toarray(), gamma = GAMMA)\n",
    "                shap_ij = explainer_vi.shap_values(arr_j, silent=True)\n",
    "            explanation_df.append({\"instance a\": i,\n",
    "                                   \"instance b\": j,\n",
    "                                   \"RBF kernel value\": kernel_value[0][0],\n",
    "                                   \"SVERAD\": sverad_values_ij,\n",
    "                                   \"SHAP\": shap_ij[0],\n",
    "                                   \"SHAP_expected_value\": explainer_vi.expected_value,\n",
    "                                   })\n",
    "        #break\n",
    "    explanation_df = pd.DataFrame(explanation_df)\n",
    "    if SAVE_EXPLANATIONS:\n",
    "        with open(save_path, \"wb\") as outfile:\n",
    "            pickle.dump(explanation_df, outfile)\n",
    "else:\n",
    "    with open(save_path, \"rb\") as infile:\n",
    "        explanation_df = pickle.load(infile)"
   ]
  },
  {
   "cell_type": "code",
   "execution_count": null,
   "id": "3dcd025f",
   "metadata": {},
   "outputs": [],
   "source": [
    "# rbf_kernel_matrix(arr_i.toarray(), arr_j.toarray(), gamma = GAMMA)[:, 0]"
   ]
  },
  {
   "cell_type": "code",
   "execution_count": null,
   "id": "46bd837e",
   "metadata": {},
   "outputs": [],
   "source": [
    "# rbf_kernel_optimized(2, gamma=GAMMA)"
   ]
  },
  {
   "cell_type": "code",
   "execution_count": null,
   "id": "d93b290b",
   "metadata": {},
   "outputs": [],
   "source": [
    "# compute_sverad_sv(arr_i.toarray()[0], arr_j.toarray()[0], gamma=GAMMA).sum()"
   ]
  },
  {
   "cell_type": "code",
   "execution_count": null,
   "id": "3797b00c",
   "metadata": {},
   "outputs": [],
   "source": [
    "# rbf_kernel_matrix(arr_i.toarray(), arr_j.toarray(), gamma = GAMMA)[:, 0]\n",
    "# x = np.array([1, 0, 1, 0, 1, 0, 1, 0])\n",
    "# y = np.array([1, 1, 1, 1, 1, 1, 1, 1])\n",
    "\n",
    "# rbf_kernel(x, y, gamma = GAMMA)"
   ]
  },
  {
   "cell_type": "code",
   "execution_count": null,
   "id": "c4525c52",
   "metadata": {},
   "outputs": [],
   "source": [
    "# intersection_xy = x * y  # Vector where intersecting features are set to 1\n",
    "# union_xy = 1 - (1-x) * (1-y)  # Vector where features of the union are set to 1\n",
    "# diff_xy = union_xy - intersection_xy  # Vector where features from the symmetric difference are set to 1\n",
    "\n",
    "# num_intersecting_features = sum(intersection_xy)\n",
    "# num_difference_features = sum(diff_xy)\n",
    "# num_difference_features\n",
    "# rbf_kernel_optimized(num_difference_features, gamma=GAMMA)"
   ]
  },
  {
   "cell_type": "code",
   "execution_count": null,
   "id": "7333e82a",
   "metadata": {},
   "outputs": [
    {
     "data": {
      "text/plain": [
       "0.006409333446256234"
      ]
     },
     "execution_count": 26,
     "metadata": {},
     "output_type": "execute_result"
    }
   ],
   "source": [
    "# compute_sverad_sv(x, y, gamma=GAMMA).sum()\n",
    "explanation_df.loc[3][\"SVERAD\"].sum()"
   ]
  },
  {
   "cell_type": "code",
   "execution_count": null,
   "id": "dfb4b168",
   "metadata": {},
   "outputs": [],
   "source": [
    "# explanation_df.loc[3][\"SHAP\"].sum()"
   ]
  },
  {
   "cell_type": "code",
   "execution_count": null,
   "id": "1cdb0b3a",
   "metadata": {},
   "outputs": [],
   "source": []
  },
  {
   "cell_type": "code",
   "execution_count": null,
   "id": "80439ea6",
   "metadata": {},
   "outputs": [],
   "source": [
    "# explanation_df.loc[3][\"RBF kernel value\"] - explanation_df.loc[3][\"SHAP_expected_value\"]"
   ]
  },
  {
   "cell_type": "code",
   "execution_count": null,
   "id": "f123ecb7",
   "metadata": {},
   "outputs": [
    {
     "data": {
      "text/html": [
       "<div>\n",
       "<style scoped>\n",
       "    .dataframe tbody tr th:only-of-type {\n",
       "        vertical-align: middle;\n",
       "    }\n",
       "\n",
       "    .dataframe tbody tr th {\n",
       "        vertical-align: top;\n",
       "    }\n",
       "\n",
       "    .dataframe thead th {\n",
       "        text-align: right;\n",
       "    }\n",
       "</style>\n",
       "<table border=\"1\" class=\"dataframe\">\n",
       "  <thead>\n",
       "    <tr style=\"text-align: right;\">\n",
       "      <th></th>\n",
       "      <th>instance a</th>\n",
       "      <th>instance b</th>\n",
       "      <th>RBF kernel value</th>\n",
       "      <th>SVERAD</th>\n",
       "      <th>SHAP</th>\n",
       "      <th>SHAP_expected_value</th>\n",
       "    </tr>\n",
       "  </thead>\n",
       "  <tbody>\n",
       "    <tr>\n",
       "      <th>0</th>\n",
       "      <td>0</td>\n",
       "      <td>1</td>\n",
       "      <td>0.008652</td>\n",
       "      <td>[0.009345794392523364, 0.009345794392523364, 0...</td>\n",
       "      <td>[0.0, 0.0, 0.0, 0.0, 0.0, 0.0, 0.0001615065080...</td>\n",
       "      <td>0.007532</td>\n",
       "    </tr>\n",
       "    <tr>\n",
       "      <th>1</th>\n",
       "      <td>0</td>\n",
       "      <td>2</td>\n",
       "      <td>0.002243</td>\n",
       "      <td>[0.007352941176470588, 0.007352941176470588, 0...</td>\n",
       "      <td>[0.0, 0.0, 0.0, 0.0, 0.00044279264259835475, 0...</td>\n",
       "      <td>0.009668</td>\n",
       "    </tr>\n",
       "    <tr>\n",
       "      <th>2</th>\n",
       "      <td>0</td>\n",
       "      <td>3</td>\n",
       "      <td>0.012907</td>\n",
       "      <td>[0.009615384615384616, 0.009615384615384616, 0...</td>\n",
       "      <td>[0.0, 0.0, 0.0, 0.0, 0.0, 0.0, 0.0, 0.0, 0.0, ...</td>\n",
       "      <td>0.006114</td>\n",
       "    </tr>\n",
       "    <tr>\n",
       "      <th>3</th>\n",
       "      <td>0</td>\n",
       "      <td>4</td>\n",
       "      <td>0.007447</td>\n",
       "      <td>[0.009009009009009009, 0.009009009009009009, 0...</td>\n",
       "      <td>[0.0, 0.0, 0.0, 0.0, 0.0002542784826301473, 0....</td>\n",
       "      <td>0.007934</td>\n",
       "    </tr>\n",
       "    <tr>\n",
       "      <th>4</th>\n",
       "      <td>1</td>\n",
       "      <td>0</td>\n",
       "      <td>0.008652</td>\n",
       "      <td>[0.009345794392523364, 0.009345794392523364, 0...</td>\n",
       "      <td>[0.0, 0.0, 0.0, 0.0, -0.0003689218926003421, 0...</td>\n",
       "      <td>0.025237</td>\n",
       "    </tr>\n",
       "    <tr>\n",
       "      <th>5</th>\n",
       "      <td>1</td>\n",
       "      <td>2</td>\n",
       "      <td>0.007083</td>\n",
       "      <td>[0.009174311926605505, 0.009174311926605505, 0...</td>\n",
       "      <td>[0.0, 0.0, 0.0, 0.0, -0.0003673609797197497, 0...</td>\n",
       "      <td>0.025760</td>\n",
       "    </tr>\n",
       "    <tr>\n",
       "      <th>6</th>\n",
       "      <td>1</td>\n",
       "      <td>3</td>\n",
       "      <td>0.036883</td>\n",
       "      <td>[0.01282051282051282, 0.01282051282051282, 0.0...</td>\n",
       "      <td>[0.0, 0.0, 0.0, 0.0, 0.00119970937511649, 0.0,...</td>\n",
       "      <td>0.015827</td>\n",
       "    </tr>\n",
       "    <tr>\n",
       "      <th>7</th>\n",
       "      <td>1</td>\n",
       "      <td>4</td>\n",
       "      <td>0.031746</td>\n",
       "      <td>[0.012345679012345678, 0.012345679012345678, 0...</td>\n",
       "      <td>[0.0, 0.0, 0.0, 0.0, -0.000535088823261809, 0....</td>\n",
       "      <td>0.017539</td>\n",
       "    </tr>\n",
       "    <tr>\n",
       "      <th>8</th>\n",
       "      <td>2</td>\n",
       "      <td>0</td>\n",
       "      <td>0.002243</td>\n",
       "      <td>[0.007352941176470588, 0.007352941176470588, 0...</td>\n",
       "      <td>[0.0, 0.0, 0.0, 0.0, 0.0, 0.0, 0.0, 0.0, 0.0, ...</td>\n",
       "      <td>0.006336</td>\n",
       "    </tr>\n",
       "    <tr>\n",
       "      <th>9</th>\n",
       "      <td>2</td>\n",
       "      <td>1</td>\n",
       "      <td>0.007083</td>\n",
       "      <td>[0.009174311926605505, 0.009174311926605505, 0...</td>\n",
       "      <td>[0.0, 0.0, 0.0, 0.0, 0.0, 0.0, 0.0, 0.0, 0.0, ...</td>\n",
       "      <td>0.004723</td>\n",
       "    </tr>\n",
       "    <tr>\n",
       "      <th>10</th>\n",
       "      <td>2</td>\n",
       "      <td>3</td>\n",
       "      <td>0.006409</td>\n",
       "      <td>[0.009009009009009009, 0.009009009009009009, 0...</td>\n",
       "      <td>[0.0, 0.0, 0.0, 0.0, 0.0, 0.0, 0.0, 0.0, 0.0, ...</td>\n",
       "      <td>0.004948</td>\n",
       "    </tr>\n",
       "    <tr>\n",
       "      <th>11</th>\n",
       "      <td>2</td>\n",
       "      <td>4</td>\n",
       "      <td>0.005517</td>\n",
       "      <td>[0.008771929824561403, 0.008771929824561403, 0...</td>\n",
       "      <td>[0.0, 0.0, 0.0, 0.0, 0.00018981548233918866, 0...</td>\n",
       "      <td>0.005245</td>\n",
       "    </tr>\n",
       "    <tr>\n",
       "      <th>12</th>\n",
       "      <td>3</td>\n",
       "      <td>0</td>\n",
       "      <td>0.012907</td>\n",
       "      <td>[0.009615384615384616, 0.009615384615384616, 0...</td>\n",
       "      <td>[0.0, 0.0, 0.0, 0.0, -0.00034511246163176885, ...</td>\n",
       "      <td>0.028715</td>\n",
       "    </tr>\n",
       "    <tr>\n",
       "      <th>13</th>\n",
       "      <td>3</td>\n",
       "      <td>1</td>\n",
       "      <td>0.036883</td>\n",
       "      <td>[0.01282051282051282, 0.01282051282051282, 0.0...</td>\n",
       "      <td>[0.0, 0.0, 0.0, 0.0, 0.0013797621659598267, 0....</td>\n",
       "      <td>0.020723</td>\n",
       "    </tr>\n",
       "    <tr>\n",
       "      <th>14</th>\n",
       "      <td>3</td>\n",
       "      <td>2</td>\n",
       "      <td>0.006409</td>\n",
       "      <td>[0.009009009009009009, 0.009009009009009009, 0...</td>\n",
       "      <td>[0.0, 0.0, 0.0, 0.0, 0.0, 0.0, -0.000669237964...</td>\n",
       "      <td>0.030881</td>\n",
       "    </tr>\n",
       "    <tr>\n",
       "      <th>15</th>\n",
       "      <td>3</td>\n",
       "      <td>4</td>\n",
       "      <td>0.042852</td>\n",
       "      <td>[0.012658227848101266, 0.012658227848101266, 0...</td>\n",
       "      <td>[0.0, 0.0, 0.0, 0.0, -0.0006353074124476343, 0...</td>\n",
       "      <td>0.018733</td>\n",
       "    </tr>\n",
       "    <tr>\n",
       "      <th>16</th>\n",
       "      <td>4</td>\n",
       "      <td>0</td>\n",
       "      <td>0.007447</td>\n",
       "      <td>[0.009009009009009009, 0.009009009009009009, 0...</td>\n",
       "      <td>[0.0, 0.0, 0.0, 0.0, 0.0006792268140633065, 0....</td>\n",
       "      <td>0.026705</td>\n",
       "    </tr>\n",
       "    <tr>\n",
       "      <th>17</th>\n",
       "      <td>4</td>\n",
       "      <td>1</td>\n",
       "      <td>0.031746</td>\n",
       "      <td>[0.012345679012345678, 0.012345679012345678, 0...</td>\n",
       "      <td>[0.0, 0.0, 0.0, 0.0, 0.0, 0.0, 0.0002838999718...</td>\n",
       "      <td>0.018605</td>\n",
       "    </tr>\n",
       "    <tr>\n",
       "      <th>18</th>\n",
       "      <td>4</td>\n",
       "      <td>2</td>\n",
       "      <td>0.005517</td>\n",
       "      <td>[0.008771929824561403, 0.008771929824561403, 0...</td>\n",
       "      <td>[0.0, 0.0, 0.0, 0.0, 0.0006690561905142428, 0....</td>\n",
       "      <td>0.027348</td>\n",
       "    </tr>\n",
       "    <tr>\n",
       "      <th>19</th>\n",
       "      <td>4</td>\n",
       "      <td>3</td>\n",
       "      <td>0.042852</td>\n",
       "      <td>[0.012658227848101266, 0.012658227848101266, 0...</td>\n",
       "      <td>[0.0, 0.0, 0.0, 0.0, -0.0006005838401061774, 0...</td>\n",
       "      <td>0.014903</td>\n",
       "    </tr>\n",
       "  </tbody>\n",
       "</table>\n",
       "</div>"
      ],
      "text/plain": [
       "    instance a  instance b  RBF kernel value  \\\n",
       "0            0           1          0.008652   \n",
       "1            0           2          0.002243   \n",
       "2            0           3          0.012907   \n",
       "3            0           4          0.007447   \n",
       "4            1           0          0.008652   \n",
       "5            1           2          0.007083   \n",
       "6            1           3          0.036883   \n",
       "7            1           4          0.031746   \n",
       "8            2           0          0.002243   \n",
       "9            2           1          0.007083   \n",
       "10           2           3          0.006409   \n",
       "11           2           4          0.005517   \n",
       "12           3           0          0.012907   \n",
       "13           3           1          0.036883   \n",
       "14           3           2          0.006409   \n",
       "15           3           4          0.042852   \n",
       "16           4           0          0.007447   \n",
       "17           4           1          0.031746   \n",
       "18           4           2          0.005517   \n",
       "19           4           3          0.042852   \n",
       "\n",
       "                                               SVERAD  \\\n",
       "0   [0.009345794392523364, 0.009345794392523364, 0...   \n",
       "1   [0.007352941176470588, 0.007352941176470588, 0...   \n",
       "2   [0.009615384615384616, 0.009615384615384616, 0...   \n",
       "3   [0.009009009009009009, 0.009009009009009009, 0...   \n",
       "4   [0.009345794392523364, 0.009345794392523364, 0...   \n",
       "5   [0.009174311926605505, 0.009174311926605505, 0...   \n",
       "6   [0.01282051282051282, 0.01282051282051282, 0.0...   \n",
       "7   [0.012345679012345678, 0.012345679012345678, 0...   \n",
       "8   [0.007352941176470588, 0.007352941176470588, 0...   \n",
       "9   [0.009174311926605505, 0.009174311926605505, 0...   \n",
       "10  [0.009009009009009009, 0.009009009009009009, 0...   \n",
       "11  [0.008771929824561403, 0.008771929824561403, 0...   \n",
       "12  [0.009615384615384616, 0.009615384615384616, 0...   \n",
       "13  [0.01282051282051282, 0.01282051282051282, 0.0...   \n",
       "14  [0.009009009009009009, 0.009009009009009009, 0...   \n",
       "15  [0.012658227848101266, 0.012658227848101266, 0...   \n",
       "16  [0.009009009009009009, 0.009009009009009009, 0...   \n",
       "17  [0.012345679012345678, 0.012345679012345678, 0...   \n",
       "18  [0.008771929824561403, 0.008771929824561403, 0...   \n",
       "19  [0.012658227848101266, 0.012658227848101266, 0...   \n",
       "\n",
       "                                                 SHAP  SHAP_expected_value  \n",
       "0   [0.0, 0.0, 0.0, 0.0, 0.0, 0.0, 0.0001615065080...             0.007532  \n",
       "1   [0.0, 0.0, 0.0, 0.0, 0.00044279264259835475, 0...             0.009668  \n",
       "2   [0.0, 0.0, 0.0, 0.0, 0.0, 0.0, 0.0, 0.0, 0.0, ...             0.006114  \n",
       "3   [0.0, 0.0, 0.0, 0.0, 0.0002542784826301473, 0....             0.007934  \n",
       "4   [0.0, 0.0, 0.0, 0.0, -0.0003689218926003421, 0...             0.025237  \n",
       "5   [0.0, 0.0, 0.0, 0.0, -0.0003673609797197497, 0...             0.025760  \n",
       "6   [0.0, 0.0, 0.0, 0.0, 0.00119970937511649, 0.0,...             0.015827  \n",
       "7   [0.0, 0.0, 0.0, 0.0, -0.000535088823261809, 0....             0.017539  \n",
       "8   [0.0, 0.0, 0.0, 0.0, 0.0, 0.0, 0.0, 0.0, 0.0, ...             0.006336  \n",
       "9   [0.0, 0.0, 0.0, 0.0, 0.0, 0.0, 0.0, 0.0, 0.0, ...             0.004723  \n",
       "10  [0.0, 0.0, 0.0, 0.0, 0.0, 0.0, 0.0, 0.0, 0.0, ...             0.004948  \n",
       "11  [0.0, 0.0, 0.0, 0.0, 0.00018981548233918866, 0...             0.005245  \n",
       "12  [0.0, 0.0, 0.0, 0.0, -0.00034511246163176885, ...             0.028715  \n",
       "13  [0.0, 0.0, 0.0, 0.0, 0.0013797621659598267, 0....             0.020723  \n",
       "14  [0.0, 0.0, 0.0, 0.0, 0.0, 0.0, -0.000669237964...             0.030881  \n",
       "15  [0.0, 0.0, 0.0, 0.0, -0.0006353074124476343, 0...             0.018733  \n",
       "16  [0.0, 0.0, 0.0, 0.0, 0.0006792268140633065, 0....             0.026705  \n",
       "17  [0.0, 0.0, 0.0, 0.0, 0.0, 0.0, 0.0002838999718...             0.018605  \n",
       "18  [0.0, 0.0, 0.0, 0.0, 0.0006690561905142428, 0....             0.027348  \n",
       "19  [0.0, 0.0, 0.0, 0.0, -0.0006005838401061774, 0...             0.014903  "
      ]
     },
     "execution_count": 17,
     "metadata": {},
     "output_type": "execute_result"
    }
   ],
   "source": [
    "explanation_df"
   ]
  },
  {
   "attachments": {},
   "cell_type": "markdown",
   "id": "d0e93322",
   "metadata": {},
   "source": [
    "### Correlation"
   ]
  },
  {
   "cell_type": "code",
   "execution_count": null,
   "id": "f3ccc9dc",
   "metadata": {},
   "outputs": [
    {
     "data": {
      "text/html": [
       "<div>\n",
       "<style scoped>\n",
       "    .dataframe tbody tr th:only-of-type {\n",
       "        vertical-align: middle;\n",
       "    }\n",
       "\n",
       "    .dataframe tbody tr th {\n",
       "        vertical-align: top;\n",
       "    }\n",
       "\n",
       "    .dataframe thead th {\n",
       "        text-align: right;\n",
       "    }\n",
       "</style>\n",
       "<table border=\"1\" class=\"dataframe\">\n",
       "  <thead>\n",
       "    <tr style=\"text-align: right;\">\n",
       "      <th></th>\n",
       "      <th>a</th>\n",
       "      <th>b</th>\n",
       "      <th>Pearson r SVERAD - SHAP</th>\n",
       "      <th>Fisher SVERAD - SHAP</th>\n",
       "    </tr>\n",
       "  </thead>\n",
       "  <tbody>\n",
       "    <tr>\n",
       "      <th>0</th>\n",
       "      <td>0</td>\n",
       "      <td>1</td>\n",
       "      <td>0.217056</td>\n",
       "      <td>0.220564</td>\n",
       "    </tr>\n",
       "    <tr>\n",
       "      <th>1</th>\n",
       "      <td>0</td>\n",
       "      <td>2</td>\n",
       "      <td>0.353632</td>\n",
       "      <td>0.369589</td>\n",
       "    </tr>\n",
       "    <tr>\n",
       "      <th>2</th>\n",
       "      <td>0</td>\n",
       "      <td>3</td>\n",
       "      <td>0.397947</td>\n",
       "      <td>0.421208</td>\n",
       "    </tr>\n",
       "    <tr>\n",
       "      <th>3</th>\n",
       "      <td>0</td>\n",
       "      <td>4</td>\n",
       "      <td>0.199526</td>\n",
       "      <td>0.202239</td>\n",
       "    </tr>\n",
       "    <tr>\n",
       "      <th>4</th>\n",
       "      <td>1</td>\n",
       "      <td>0</td>\n",
       "      <td>0.267413</td>\n",
       "      <td>0.274075</td>\n",
       "    </tr>\n",
       "    <tr>\n",
       "      <th>5</th>\n",
       "      <td>1</td>\n",
       "      <td>2</td>\n",
       "      <td>0.320614</td>\n",
       "      <td>0.332332</td>\n",
       "    </tr>\n",
       "    <tr>\n",
       "      <th>6</th>\n",
       "      <td>1</td>\n",
       "      <td>3</td>\n",
       "      <td>0.249895</td>\n",
       "      <td>0.255300</td>\n",
       "    </tr>\n",
       "    <tr>\n",
       "      <th>7</th>\n",
       "      <td>1</td>\n",
       "      <td>4</td>\n",
       "      <td>0.265173</td>\n",
       "      <td>0.271665</td>\n",
       "    </tr>\n",
       "    <tr>\n",
       "      <th>8</th>\n",
       "      <td>2</td>\n",
       "      <td>0</td>\n",
       "      <td>0.175608</td>\n",
       "      <td>0.177447</td>\n",
       "    </tr>\n",
       "    <tr>\n",
       "      <th>9</th>\n",
       "      <td>2</td>\n",
       "      <td>1</td>\n",
       "      <td>0.224565</td>\n",
       "      <td>0.228459</td>\n",
       "    </tr>\n",
       "    <tr>\n",
       "      <th>10</th>\n",
       "      <td>2</td>\n",
       "      <td>3</td>\n",
       "      <td>0.191073</td>\n",
       "      <td>0.193451</td>\n",
       "    </tr>\n",
       "    <tr>\n",
       "      <th>11</th>\n",
       "      <td>2</td>\n",
       "      <td>4</td>\n",
       "      <td>0.315094</td>\n",
       "      <td>0.326191</td>\n",
       "    </tr>\n",
       "    <tr>\n",
       "      <th>12</th>\n",
       "      <td>3</td>\n",
       "      <td>0</td>\n",
       "      <td>0.429335</td>\n",
       "      <td>0.459081</td>\n",
       "    </tr>\n",
       "    <tr>\n",
       "      <th>13</th>\n",
       "      <td>3</td>\n",
       "      <td>1</td>\n",
       "      <td>0.248099</td>\n",
       "      <td>0.253386</td>\n",
       "    </tr>\n",
       "    <tr>\n",
       "      <th>14</th>\n",
       "      <td>3</td>\n",
       "      <td>2</td>\n",
       "      <td>0.326065</td>\n",
       "      <td>0.338419</td>\n",
       "    </tr>\n",
       "    <tr>\n",
       "      <th>15</th>\n",
       "      <td>3</td>\n",
       "      <td>4</td>\n",
       "      <td>0.415131</td>\n",
       "      <td>0.441794</td>\n",
       "    </tr>\n",
       "    <tr>\n",
       "      <th>16</th>\n",
       "      <td>4</td>\n",
       "      <td>0</td>\n",
       "      <td>0.303059</td>\n",
       "      <td>0.312884</td>\n",
       "    </tr>\n",
       "    <tr>\n",
       "      <th>17</th>\n",
       "      <td>4</td>\n",
       "      <td>1</td>\n",
       "      <td>0.260331</td>\n",
       "      <td>0.266464</td>\n",
       "    </tr>\n",
       "    <tr>\n",
       "      <th>18</th>\n",
       "      <td>4</td>\n",
       "      <td>2</td>\n",
       "      <td>0.361813</td>\n",
       "      <td>0.378970</td>\n",
       "    </tr>\n",
       "    <tr>\n",
       "      <th>19</th>\n",
       "      <td>4</td>\n",
       "      <td>3</td>\n",
       "      <td>0.383169</td>\n",
       "      <td>0.403769</td>\n",
       "    </tr>\n",
       "  </tbody>\n",
       "</table>\n",
       "</div>"
      ],
      "text/plain": [
       "    a  b  Pearson r SVERAD - SHAP  Fisher SVERAD - SHAP\n",
       "0   0  1                 0.217056              0.220564\n",
       "1   0  2                 0.353632              0.369589\n",
       "2   0  3                 0.397947              0.421208\n",
       "3   0  4                 0.199526              0.202239\n",
       "4   1  0                 0.267413              0.274075\n",
       "5   1  2                 0.320614              0.332332\n",
       "6   1  3                 0.249895              0.255300\n",
       "7   1  4                 0.265173              0.271665\n",
       "8   2  0                 0.175608              0.177447\n",
       "9   2  1                 0.224565              0.228459\n",
       "10  2  3                 0.191073              0.193451\n",
       "11  2  4                 0.315094              0.326191\n",
       "12  3  0                 0.429335              0.459081\n",
       "13  3  1                 0.248099              0.253386\n",
       "14  3  2                 0.326065              0.338419\n",
       "15  3  4                 0.415131              0.441794\n",
       "16  4  0                 0.303059              0.312884\n",
       "17  4  1                 0.260331              0.266464\n",
       "18  4  2                 0.361813              0.378970\n",
       "19  4  3                 0.383169              0.403769"
      ]
     },
     "metadata": {},
     "output_type": "display_data"
    },
    {
     "name": "stdout",
     "output_type": "stream",
     "text": [
      "Mean correlation\n"
     ]
    },
    {
     "data": {
      "text/plain": [
       "a                          2.000000\n",
       "b                          2.000000\n",
       "Pearson r SVERAD - SHAP    0.295230\n",
       "Fisher SVERAD - SHAP       0.306364\n",
       "dtype: float64"
      ]
     },
     "metadata": {},
     "output_type": "display_data"
    },
    {
     "name": "stdout",
     "output_type": "stream",
     "text": [
      "Standard deviation\n"
     ]
    },
    {
     "data": {
      "text/plain": [
       "a                          1.450953\n",
       "b                          1.450953\n",
       "Pearson r SVERAD - SHAP    0.077165\n",
       "Fisher SVERAD - SHAP       0.085422\n",
       "dtype: float64"
      ]
     },
     "metadata": {},
     "output_type": "display_data"
    },
    {
     "name": "stdout",
     "output_type": "stream",
     "text": [
      "Mean Pearson r correlation coeff for SVERAD - SHAP:  0.2869412500652102 +/- 0.0770119246101363\n",
      "Mean Pearson r correlation coeff Fisher transformed for SVERAD - SHAP:  0.29712596154571586 +/- 0.08521496500666395\n"
     ]
    }
   ],
   "source": [
    "corr_df = []\n",
    "for i, row in explanation_df.iterrows():\n",
    "    if row[\"instance a\"] == row[\"instance b\"]:\n",
    "        continue\n",
    "    sverad_value = row[\"SVERAD\"]\n",
    "    shap = row[\"SHAP\"]\n",
    "    \n",
    "    \n",
    "    corr_sverad_SHAP, p_sverad_SHAP = pearsonr(sverad_value, shap)\n",
    "    \n",
    "    \n",
    "    corr_df.append({\"a\": row[\"instance a\"], \"b\": row[\"instance b\"],  \"Pearson r SVERAD - SHAP\": corr_sverad_SHAP})\n",
    "corr_df = pd.DataFrame(corr_df)\n",
    "corr_df[\"Fisher SVERAD - SHAP\"] = np.arctanh(corr_df[\"Pearson r SVERAD - SHAP\"])\n",
    "# corr_df[\"Pearson r Fisher Tranformed\"] = np.tanh(corr_df[\"Fisher SVERAD - SHAP\"])\n",
    "display(corr_df)\n",
    "print(\"Mean correlation\")\n",
    "display(corr_df.mean())\n",
    "print(\"Standard deviation\")\n",
    "display(corr_df.std())\n",
    "\n",
    "print(\"Mean Pearson r correlation coeff for SVERAD - SHAP: \", np.tanh(corr_df[\"Pearson r SVERAD - SHAP\"].mean()), \"+/-\", np.tanh(corr_df[\"Pearson r SVERAD - SHAP\"].std()))\n",
    "print(\"Mean Pearson r correlation coeff Fisher transformed for SVERAD - SHAP: \", np.tanh(corr_df[\"Fisher SVERAD - SHAP\"].mean()), \"+/-\", np.tanh(corr_df[\"Fisher SVERAD - SHAP\"].std()))"
   ]
  },
  {
   "attachments": {},
   "cell_type": "markdown",
   "id": "c8a941ad",
   "metadata": {},
   "source": [
    "Old code"
   ]
  },
  {
   "cell_type": "code",
   "execution_count": null,
   "id": "82b4d8f5-6c52-4b44-b281-4c5febde3d31",
   "metadata": {
    "pycharm": {
     "name": "#%%\n"
    }
   },
   "outputs": [],
   "source": [
    "corr_df = []\n",
    "for i, row in explanation_df.iterrows():\n",
    "    if row[\"instance a\"] == row[\"instance b\"]:\n",
    "        continue\n",
    "    sveata_values = row[\"SVERAD\"]\n",
    "    kernel_shap = row[\"SHAP\"]\n",
    "    \n",
    "    corr, p = pearsonr(sveata_values, kernel_shap)\n",
    "    corr_df.append({\"a\": row[\"instance a\"], \"b\": row[\"instance b\"], \"correlation\": corr})\n",
    "corr_df = pd.DataFrame(corr_df)\n",
    "# Fisher transformation\n",
    "corr_df[\"pearsons_r_fisher\"] = np.arctanh(corr_df.correlation)"
   ]
  },
  {
   "cell_type": "code",
   "execution_count": null,
   "id": "88e3239a-e530-4d29-90a2-b599b341fdc8",
   "metadata": {
    "pycharm": {
     "name": "#%%\n"
    }
   },
   "outputs": [
    {
     "data": {
      "image/png": "[encoded data removed]",
      "text/plain": [
       "<Figure size 576x432 with 1 Axes>"
      ]
     },
     "metadata": {
      "needs_background": "light"
     },
     "output_type": "display_data"
    }
   ],
   "source": [
    "fig, ax = plt.subplots(figsize=(8,6))\n",
    "ax.boxplot(corr_df.pearsons_r_fisher)\n",
    "#ax.set_ylim(-0.1,4.05)\n",
    "ax.set_ylabel(\"arctanh(Pearson's r)\")\n",
    "secax = ax.secondary_yaxis('right', functions=(np.tanh, np.arctanh))\n",
    "secax.set_ylabel(\"Pearson's r\")\n",
    "secax.set_yticks([-0.5, 0, 0.5, 0.75, 0.9]);"
   ]
  },
  {
   "cell_type": "code",
   "execution_count": null,
   "metadata": {
    "collapsed": false,
    "pycharm": {
     "name": "#%%\n"
    }
   },
   "outputs": [],
   "source": [
    "# Transforming values back."
   ]
  },
  {
   "cell_type": "code",
   "execution_count": null,
   "id": "e4856428-b105-4431-bac6-a52af3052901",
   "metadata": {
    "pycharm": {
     "name": "#%%\n"
    }
   },
   "outputs": [
    {
     "data": {
      "text/plain": [
       "0.29712596154571586"
      ]
     },
     "execution_count": 22,
     "metadata": {},
     "output_type": "execute_result"
    }
   ],
   "source": [
    "np.tanh(corr_df[\"pearsons_r_fisher\"].mean())"
   ]
  },
  {
   "cell_type": "code",
   "execution_count": null,
   "id": "d43da3eb-e072-4f76-97dd-04d4a16f2cf7",
   "metadata": {
    "pycharm": {
     "name": "#%%\n"
    }
   },
   "outputs": [
    {
     "data": {
      "text/plain": [
       "0.08521496500666395"
      ]
     },
     "execution_count": 23,
     "metadata": {},
     "output_type": "execute_result"
    }
   ],
   "source": [
    "np.tanh(corr_df[\"pearsons_r_fisher\"].std())"
   ]
  },
  {
   "cell_type": "code",
   "execution_count": null,
   "id": "4ed10602-2e90-4279-9cd2-1c0ceb8cbc17",
   "metadata": {
    "pycharm": {
     "name": "#%%\n"
    }
   },
   "outputs": [
    {
     "data": {
      "text/plain": [
       "0.17560783812561623"
      ]
     },
     "execution_count": 24,
     "metadata": {},
     "output_type": "execute_result"
    }
   ],
   "source": [
    "np.tanh(corr_df[\"pearsons_r_fisher\"].min())"
   ]
  },
  {
   "cell_type": "code",
   "execution_count": null,
   "id": "5e2d08e4",
   "metadata": {
    "collapsed": false,
    "jupyter": {
     "outputs_hidden": false
    },
    "pycharm": {
     "name": "#%%\n"
    }
   },
   "outputs": [
    {
     "data": {
      "text/plain": [
       "0.4293349007756386"
      ]
     },
     "execution_count": 25,
     "metadata": {},
     "output_type": "execute_result"
    }
   ],
   "source": [
    "np.tanh(corr_df[\"pearsons_r_fisher\"].max())"
   ]
  }
 ],
 "metadata": {
  "kernelspec": {
   "display_name": "Python 3 (ipykernel)",
   "language": "python",
   "name": "python3"
  },
  "language_info": {
   "codemirror_mode": {
    "name": "ipython",
    "version": 3
   },
   "file_extension": ".py",
   "mimetype": "text/x-python",
   "name": "python",
   "nbconvert_exporter": "python",
   "pygments_lexer": "ipython3",
   "version": "3.10.5"
  }
 },
 "nbformat": 4,
 "nbformat_minor": 5
}
