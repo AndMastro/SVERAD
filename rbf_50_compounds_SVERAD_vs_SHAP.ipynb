{
 "cells": [
  {
   "attachments": {},
   "cell_type": "markdown",
   "metadata": {
    "collapsed": false,
    "pycharm": {
     "name": "#%% md\n"
    }
   },
   "source": [
    "# Comparison of SVERAD and SHAP on the RBF kernel for 50 random compounds."
   ]
  },
  {
   "cell_type": "code",
   "execution_count": 1,
   "metadata": {
    "collapsed": false,
    "pycharm": {
     "name": "#%%\n"
    }
   },
   "outputs": [],
   "source": [
    "from src.sverad import compute_sverad_sv, rbf_kernel_matrix, ExactRBFShapleyComputation\n",
    "from src.utils import set_seeds, DataSet, UnfoldedMorganFingerprint\n",
    "\n",
    "import matplotlib.pyplot as plt\n",
    "import numpy as np\n",
    "import pandas as pd\n",
    "import pickle\n",
    "\n",
    "from scipy.stats import pearsonr\n",
    "from tqdm.auto import tqdm\n",
    "import warnings\n",
    "import os\n",
    "import shap"
   ]
  },
  {
   "cell_type": "code",
   "execution_count": 2,
   "id": "c44d3c8b",
   "metadata": {},
   "outputs": [],
   "source": [
    "SEED = 42\n",
    "set_seeds(SEED)\n",
    "GAMMA = 1.0\n",
    "\n",
    "SAVE_DATASET_PICKLE = False\n",
    "LOAD_PRECOMPUTED_EXPLANATIONS = False\n",
    "SAVE_EXPLANATIONS = True\n",
    "SAMPLE_SIZE = 10"
   ]
  },
  {
   "attachments": {},
   "cell_type": "markdown",
   "id": "8a651953",
   "metadata": {},
   "source": [
    "### Load and generate dataset"
   ]
  },
  {
   "cell_type": "code",
   "execution_count": 3,
   "id": "2c3f3f77-4538-49b1-8277-fada73a415da",
   "metadata": {
    "pycharm": {
     "name": "#%%\n"
    }
   },
   "outputs": [
    {
     "data": {
      "text/html": [
       "<div>\n",
       "<style scoped>\n",
       "    .dataframe tbody tr th:only-of-type {\n",
       "        vertical-align: middle;\n",
       "    }\n",
       "\n",
       "    .dataframe tbody tr th {\n",
       "        vertical-align: top;\n",
       "    }\n",
       "\n",
       "    .dataframe thead th {\n",
       "        text-align: right;\n",
       "    }\n",
       "</style>\n",
       "<table border=\"1\" class=\"dataframe\">\n",
       "  <thead>\n",
       "    <tr style=\"text-align: right;\">\n",
       "      <th>label</th>\n",
       "      <th>active</th>\n",
       "      <th>random</th>\n",
       "    </tr>\n",
       "    <tr>\n",
       "      <th>uniprot_id</th>\n",
       "      <th></th>\n",
       "      <th></th>\n",
       "    </tr>\n",
       "  </thead>\n",
       "  <tbody>\n",
       "    <tr>\n",
       "      <th>P0DMS8</th>\n",
       "      <td>287</td>\n",
       "      <td>287</td>\n",
       "    </tr>\n",
       "  </tbody>\n",
       "</table>\n",
       "</div>"
      ],
      "text/plain": [
       "label       active  random\n",
       "uniprot_id                \n",
       "P0DMS8         287     287"
      ]
     },
     "execution_count": 3,
     "metadata": {},
     "output_type": "execute_result"
    }
   ],
   "source": [
    "dataset_df = pd.read_csv(\"data/dataset.tsv\", sep=\"\\t\")\n",
    "dataset_df.pivot_table(index=\"uniprot_id\", columns=\"label\", values=\"nonstereo_aromatic_smiles\", aggfunc=\"nunique\", fill_value=0)"
   ]
  },
  {
   "cell_type": "code",
   "execution_count": 4,
   "id": "5a0593b4",
   "metadata": {},
   "outputs": [],
   "source": [
    "dataset_dict = dict()\n",
    "fingerprint_gen_dict = dict()\n",
    "for dataset_name, data_grpd_df in dataset_df.groupby(\"uniprot_id\"):\n",
    "    \n",
    "    # label: 1: active, 0: random\n",
    "    labels = np.array([1 if l == 'active' else 0 for l in data_grpd_df.label])\n",
    "    # Creating Fingerprint\n",
    "    morgan_radius2 = UnfoldedMorganFingerprint(radius=2)\n",
    "    morgan_radius2.fit_smiles(data_grpd_df.nonstereo_aromatic_smiles.tolist())\n",
    "    \n",
    "    # Constructing Dataset\n",
    "    fp_matrix = morgan_radius2.transform_smiles(data_grpd_df.nonstereo_aromatic_smiles.tolist())\n",
    "    # Constructing Dataset\n",
    "    dataset = DataSet(labels, fp_matrix)\n",
    "    dataset.add_attribute(\"nonstereo_aromatic_smiles\", data_grpd_df.nonstereo_aromatic_smiles.values)\n",
    "    \n",
    "    dataset_dict[dataset_name] = dataset\n",
    "    fingerprint_gen_dict[dataset_name] = morgan_radius2"
   ]
  },
  {
   "attachments": {},
   "cell_type": "markdown",
   "id": "91cc814b",
   "metadata": {},
   "source": [
    "#### Save dataset and fingerprint for future use"
   ]
  },
  {
   "cell_type": "code",
   "execution_count": 5,
   "id": "53413887",
   "metadata": {},
   "outputs": [],
   "source": [
    "if SAVE_DATASET_PICKLE:\n",
    "    with open(\"./data/pickle/dataset_dict.p\", \"wb\") as outfile:\n",
    "        pickle.dump(dataset_dict, outfile)\n",
    "    with open(\"./data/pickle/fingerprint_gen_dict.p\", \"wb\") as outfile:\n",
    "        pickle.dump(fingerprint_gen_dict, outfile)"
   ]
  },
  {
   "cell_type": "markdown",
   "id": "ba283ba3-a7b0-43eb-bc5a-19d3456da371",
   "metadata": {
    "pycharm": {
     "name": "#%% md\n"
    }
   },
   "source": [
    "# Analysis"
   ]
  },
  {
   "cell_type": "code",
   "execution_count": 6,
   "id": "a9ae758b-d66b-48ef-b31b-e576e65036e4",
   "metadata": {
    "pycharm": {
     "name": "#%%\n"
    }
   },
   "outputs": [],
   "source": [
    "dataset = dataset_dict[\"P0DMS8\"]"
   ]
  },
  {
   "cell_type": "code",
   "execution_count": 7,
   "id": "6e430d72-29f6-4e4b-a715-1444daa90b4b",
   "metadata": {
    "pycharm": {
     "name": "#%%\n"
    }
   },
   "outputs": [
    {
     "name": "stdout",
     "output_type": "stream",
     "text": [
      "Number of CPDs: 574\n",
      "Number of features: 5487\n"
     ]
    }
   ],
   "source": [
    "print(\"Number of CPDs: {}\\nNumber of features: {}\".format(*dataset.feature_matrix.shape))"
   ]
  },
  {
   "cell_type": "code",
   "execution_count": 9,
   "id": "06439aa8-216d-4a6f-bcd5-d07a3365c600",
   "metadata": {
    "pycharm": {
     "name": "#%%\n"
    }
   },
   "outputs": [
    {
     "data": {
      "application/vnd.jupyter.widget-view+json": {
       "model_id": "caf59f832d2f4e61ab72308befe6176f",
       "version_major": 2,
       "version_minor": 0
      },
      "text/plain": [
       "  0%|          | 0/10 [00:00<?, ?it/s]"
      ]
     },
     "metadata": {},
     "output_type": "display_data"
    },
    {
     "name": "stdout",
     "output_type": "stream",
     "text": [
      "Provided model function fails when applied to the provided data set.\n"
     ]
    },
    {
     "ename": "ValueError",
     "evalue": "dimension mismatch",
     "output_type": "error",
     "traceback": [
      "\u001b[0;31m---------------------------------------------------------------------------\u001b[0m",
      "\u001b[0;31mValueError\u001b[0m                                Traceback (most recent call last)",
      "\u001b[1;32m/mnt/c/Repositories/SV-RBF/rbf_50_compounds_SVERAD_vs_SHAP.ipynb Cell 12\u001b[0m in \u001b[0;36m<cell line: 2>\u001b[0;34m()\u001b[0m\n\u001b[1;32m     <a href='vscode-notebook-cell://wsl%2Bubuntu/mnt/c/Repositories/SV-RBF/rbf_50_compounds_SVERAD_vs_SHAP.ipynb#W6sdnNjb2RlLXJlbW90ZQ%3D%3D?line=27'>28</a>\u001b[0m \u001b[39mwith\u001b[39;00m warnings\u001b[39m.\u001b[39mcatch_warnings():\n\u001b[1;32m     <a href='vscode-notebook-cell://wsl%2Bubuntu/mnt/c/Repositories/SV-RBF/rbf_50_compounds_SVERAD_vs_SHAP.ipynb#W6sdnNjb2RlLXJlbW90ZQ%3D%3D?line=28'>29</a>\u001b[0m     \u001b[39m# ignore all caught warnings\u001b[39;00m\n\u001b[1;32m     <a href='vscode-notebook-cell://wsl%2Bubuntu/mnt/c/Repositories/SV-RBF/rbf_50_compounds_SVERAD_vs_SHAP.ipynb#W6sdnNjb2RlLXJlbW90ZQ%3D%3D?line=29'>30</a>\u001b[0m     warnings\u001b[39m.\u001b[39mfilterwarnings(\u001b[39m\"\u001b[39m\u001b[39mignore\u001b[39m\u001b[39m\"\u001b[39m)\n\u001b[0;32m---> <a href='vscode-notebook-cell://wsl%2Bubuntu/mnt/c/Repositories/SV-RBF/rbf_50_compounds_SVERAD_vs_SHAP.ipynb#W6sdnNjb2RlLXJlbW90ZQ%3D%3D?line=30'>31</a>\u001b[0m     explainer_vi \u001b[39m=\u001b[39m shap\u001b[39m.\u001b[39;49mKernelExplainer(sim_func, available_as_sample)\n\u001b[1;32m     <a href='vscode-notebook-cell://wsl%2Bubuntu/mnt/c/Repositories/SV-RBF/rbf_50_compounds_SVERAD_vs_SHAP.ipynb#W6sdnNjb2RlLXJlbW90ZQ%3D%3D?line=31'>32</a>\u001b[0m     \u001b[39m# explainer_vi = shap.KernelExplainer(exact_shapley_gen_i.rbf_kernel_value, available_as_sample)\u001b[39;00m\n\u001b[1;32m     <a href='vscode-notebook-cell://wsl%2Bubuntu/mnt/c/Repositories/SV-RBF/rbf_50_compounds_SVERAD_vs_SHAP.ipynb#W6sdnNjb2RlLXJlbW90ZQ%3D%3D?line=32'>33</a>\u001b[0m     shap_ij \u001b[39m=\u001b[39m explainer_vi\u001b[39m.\u001b[39mshap_values(arr_j, silent\u001b[39m=\u001b[39m\u001b[39mTrue\u001b[39;00m)\n",
      "File \u001b[0;32m~/anaconda3/envs/sveta/lib/python3.10/site-packages/shap/explainers/_kernel.py:70\u001b[0m, in \u001b[0;36mKernel.__init__\u001b[0;34m(self, model, data, link, **kwargs)\u001b[0m\n\u001b[1;32m     68\u001b[0m \u001b[39mself\u001b[39m\u001b[39m.\u001b[39mkeep_index_ordered \u001b[39m=\u001b[39m kwargs\u001b[39m.\u001b[39mget(\u001b[39m\"\u001b[39m\u001b[39mkeep_index_ordered\u001b[39m\u001b[39m\"\u001b[39m, \u001b[39mFalse\u001b[39;00m)\n\u001b[1;32m     69\u001b[0m \u001b[39mself\u001b[39m\u001b[39m.\u001b[39mdata \u001b[39m=\u001b[39m convert_to_data(data, keep_index\u001b[39m=\u001b[39m\u001b[39mself\u001b[39m\u001b[39m.\u001b[39mkeep_index)\n\u001b[0;32m---> 70\u001b[0m model_null \u001b[39m=\u001b[39m match_model_to_data(\u001b[39mself\u001b[39;49m\u001b[39m.\u001b[39;49mmodel, \u001b[39mself\u001b[39;49m\u001b[39m.\u001b[39;49mdata)\n\u001b[1;32m     72\u001b[0m \u001b[39m# enforce our current input type limitations\u001b[39;00m\n\u001b[1;32m     73\u001b[0m \u001b[39massert\u001b[39;00m \u001b[39misinstance\u001b[39m(\u001b[39mself\u001b[39m\u001b[39m.\u001b[39mdata, DenseData) \u001b[39mor\u001b[39;00m \u001b[39misinstance\u001b[39m(\u001b[39mself\u001b[39m\u001b[39m.\u001b[39mdata, SparseData), \\\n\u001b[1;32m     74\u001b[0m        \u001b[39m\"\u001b[39m\u001b[39mShap explainer only supports the DenseData and SparseData input currently.\u001b[39m\u001b[39m\"\u001b[39m\n",
      "File \u001b[0;32m~/anaconda3/envs/sveta/lib/python3.10/site-packages/shap/utils/_legacy.py:112\u001b[0m, in \u001b[0;36mmatch_model_to_data\u001b[0;34m(model, data)\u001b[0m\n\u001b[1;32m    110\u001b[0m         out_val \u001b[39m=\u001b[39m model\u001b[39m.\u001b[39mf(data\u001b[39m.\u001b[39mconvert_to_df())\n\u001b[1;32m    111\u001b[0m     \u001b[39melse\u001b[39;00m:\n\u001b[0;32m--> 112\u001b[0m         out_val \u001b[39m=\u001b[39m model\u001b[39m.\u001b[39;49mf(data\u001b[39m.\u001b[39;49mdata)\n\u001b[1;32m    113\u001b[0m \u001b[39mexcept\u001b[39;00m:\n\u001b[1;32m    114\u001b[0m     \u001b[39mprint\u001b[39m(\u001b[39m\"\u001b[39m\u001b[39mProvided model function fails when applied to the provided data set.\u001b[39m\u001b[39m\"\u001b[39m)\n",
      "\u001b[1;32m/mnt/c/Repositories/SV-RBF/rbf_50_compounds_SVERAD_vs_SHAP.ipynb Cell 12\u001b[0m in \u001b[0;36m<lambda>\u001b[0;34m(x)\u001b[0m\n\u001b[1;32m      <a href='vscode-notebook-cell://wsl%2Bubuntu/mnt/c/Repositories/SV-RBF/rbf_50_compounds_SVERAD_vs_SHAP.ipynb#W6sdnNjb2RlLXJlbW90ZQ%3D%3D?line=6'>7</a>\u001b[0m \u001b[39m# Iterating over all pairs.\u001b[39;00m\n\u001b[1;32m      <a href='vscode-notebook-cell://wsl%2Bubuntu/mnt/c/Repositories/SV-RBF/rbf_50_compounds_SVERAD_vs_SHAP.ipynb#W6sdnNjb2RlLXJlbW90ZQ%3D%3D?line=7'>8</a>\u001b[0m \u001b[39mfor\u001b[39;00m i, arr_i \u001b[39min\u001b[39;00m tqdm(\u001b[39menumerate\u001b[39m(subset), total\u001b[39m=\u001b[39msubset\u001b[39m.\u001b[39mshape[\u001b[39m0\u001b[39m]):\n\u001b[0;32m---> <a href='vscode-notebook-cell://wsl%2Bubuntu/mnt/c/Repositories/SV-RBF/rbf_50_compounds_SVERAD_vs_SHAP.ipynb#W6sdnNjb2RlLXJlbW90ZQ%3D%3D?line=9'>10</a>\u001b[0m     sim_func \u001b[39m=\u001b[39m \u001b[39mlambda\u001b[39;00m x: rbf_kernel_matrix(x, arr_i, gamma \u001b[39m=\u001b[39;49m GAMMA)[:, \u001b[39m0\u001b[39m]\n\u001b[1;32m     <a href='vscode-notebook-cell://wsl%2Bubuntu/mnt/c/Repositories/SV-RBF/rbf_50_compounds_SVERAD_vs_SHAP.ipynb#W6sdnNjb2RlLXJlbW90ZQ%3D%3D?line=10'>11</a>\u001b[0m     \u001b[39m# exact_shapley_gen_i = ExactRBFShapleyComputation(arr_i, gamma=GAMMA) #used only to compute RBF kernel value\u001b[39;00m\n\u001b[1;32m     <a href='vscode-notebook-cell://wsl%2Bubuntu/mnt/c/Repositories/SV-RBF/rbf_50_compounds_SVERAD_vs_SHAP.ipynb#W6sdnNjb2RlLXJlbW90ZQ%3D%3D?line=11'>12</a>\u001b[0m     \u001b[39mfor\u001b[39;00m j, arr_j \u001b[39min\u001b[39;00m \u001b[39menumerate\u001b[39m(subset):\n",
      "File \u001b[0;32m/mnt/c/Repositories/SV-RBF/src/sverad.py:25\u001b[0m, in \u001b[0;36mrbf_kernel_matrix\u001b[0;34m(matrix_a, matrix_b, gamma, sigma)\u001b[0m\n\u001b[1;32m      7\u001b[0m \u001b[39mdef\u001b[39;00m \u001b[39mrbf_kernel_matrix\u001b[39m(matrix_a: np\u001b[39m.\u001b[39mndarray, matrix_b: np\u001b[39m.\u001b[39mndarray, gamma: \u001b[39mfloat\u001b[39m \u001b[39m=\u001b[39m \u001b[39m1.0\u001b[39m, sigma: \u001b[39mfloat\u001b[39m \u001b[39m=\u001b[39m \u001b[39mNone\u001b[39;00m):\n\u001b[1;32m      8\u001b[0m     \u001b[39m\"\"\"Calculates the RBF kernel between two matrices and returns a similarity matrix.\u001b[39;00m\n\u001b[1;32m      9\u001b[0m \n\u001b[1;32m     10\u001b[0m \u001b[39m    Parameters\u001b[39;00m\n\u001b[0;32m   (...)\u001b[0m\n\u001b[1;32m     23\u001b[0m \u001b[39m        np.ndarray\u001b[39;00m\n\u001b[1;32m     24\u001b[0m \u001b[39m    \"\"\"\u001b[39;00m\n\u001b[0;32m---> 25\u001b[0m     norm_1 \u001b[39m=\u001b[39m np\u001b[39m.\u001b[39;49mmultiply(matrix_a, matrix_a)\u001b[39m.\u001b[39msum(axis\u001b[39m=\u001b[39m\u001b[39m1\u001b[39m)\n\u001b[1;32m     26\u001b[0m     norm_2 \u001b[39m=\u001b[39m np\u001b[39m.\u001b[39mmultiply(matrix_b, matrix_b)\u001b[39m.\u001b[39msum(axis\u001b[39m=\u001b[39m\u001b[39m1\u001b[39m)\n\u001b[1;32m     27\u001b[0m     distance_squared \u001b[39m=\u001b[39m np\u001b[39m.\u001b[39madd\u001b[39m.\u001b[39mouter(norm_1, norm_2\u001b[39m.\u001b[39mT) \u001b[39m-\u001b[39m \u001b[39m2\u001b[39m \u001b[39m*\u001b[39m matrix_a\u001b[39m.\u001b[39mdot(matrix_b\u001b[39m.\u001b[39mtranspose())\n",
      "File \u001b[0;32m~/anaconda3/envs/sveta/lib/python3.10/site-packages/scipy/sparse/_base.py:586\u001b[0m, in \u001b[0;36mspmatrix.__mul__\u001b[0;34m(self, other)\u001b[0m\n\u001b[1;32m    585\u001b[0m \u001b[39mdef\u001b[39;00m \u001b[39m__mul__\u001b[39m(\u001b[39mself\u001b[39m, other):\n\u001b[0;32m--> 586\u001b[0m     \u001b[39mreturn\u001b[39;00m \u001b[39mself\u001b[39;49m\u001b[39m.\u001b[39;49m_mul_dispatch(other)\n",
      "File \u001b[0;32m~/anaconda3/envs/sveta/lib/python3.10/site-packages/scipy/sparse/_base.py:536\u001b[0m, in \u001b[0;36mspmatrix._mul_dispatch\u001b[0;34m(self, other)\u001b[0m\n\u001b[1;32m    534\u001b[0m \u001b[39mif\u001b[39;00m issparse(other):\n\u001b[1;32m    535\u001b[0m     \u001b[39mif\u001b[39;00m \u001b[39mself\u001b[39m\u001b[39m.\u001b[39mshape[\u001b[39m1\u001b[39m] \u001b[39m!=\u001b[39m other\u001b[39m.\u001b[39mshape[\u001b[39m0\u001b[39m]:\n\u001b[0;32m--> 536\u001b[0m         \u001b[39mraise\u001b[39;00m \u001b[39mValueError\u001b[39;00m(\u001b[39m'\u001b[39m\u001b[39mdimension mismatch\u001b[39m\u001b[39m'\u001b[39m)\n\u001b[1;32m    537\u001b[0m     \u001b[39mreturn\u001b[39;00m \u001b[39mself\u001b[39m\u001b[39m.\u001b[39m_mul_sparse_matrix(other)\n\u001b[1;32m    539\u001b[0m \u001b[39m# If it's a list or whatever, treat it like a matrix\u001b[39;00m\n",
      "\u001b[0;31mValueError\u001b[0m: dimension mismatch"
     ]
    }
   ],
   "source": [
    "save_path = \"./data/pickle/explanations_50_cpd_rbf_SVERAD_SHAP.p\"\n",
    "if not LOAD_PRECOMPUTED_EXPLANATIONS: # This takes about 8h\n",
    "    explanation_df = []\n",
    "    # Selecting a random subset\n",
    "    subset = shap.sample(dataset.feature_matrix, nsamples=SAMPLE_SIZE,  random_state=SEED)\n",
    "\n",
    "    # Iterating over all pairs.\n",
    "    for i, arr_i in tqdm(enumerate(subset), total=subset.shape[0]):\n",
    "\n",
    "        sim_func = lambda x: rbf_kernel_matrix(x, arr_i, gamma = GAMMA)[:, 0]\n",
    "        # exact_shapley_gen_i = ExactRBFShapleyComputation(arr_i, gamma=GAMMA) #used only to compute RBF kernel value\n",
    "        for j, arr_j in enumerate(subset):\n",
    "            if i == j:\n",
    "                continue\n",
    "            \n",
    "            # intersection_ij = arr_i.toarray()[0] * arr_j.toarray()[0]\n",
    "            # union_ij = 1 - (1-arr_i.toarray()[0]) * (1-arr_j.toarray()[0])\n",
    "            # diff_ij = union_ij - intersection_ij\n",
    "            # sveta_values_ij = intersection_ij * sveta_f_plus(sum(intersection_ij), sum(diff_ij))\n",
    "            # sveta_values_ij += diff_ij * sveta_f_minus(sum(intersection_ij), sum(diff_ij))\n",
    "\n",
    "            sveta_values_ij = compute_sverad_sv(arr_i.toarray()[0], arr_j.toarray()[0], gamma=GAMMA)\n",
    "            # removing CPDs of the pair from the background sample.\n",
    "            mask = np.ones(subset.shape[0], dtype=bool)\n",
    "            mask[i] = False\n",
    "            mask[j] = False\n",
    "            available_as_sample = subset[mask]\n",
    "            with warnings.catch_warnings():\n",
    "                # ignore all caught warnings\n",
    "                warnings.filterwarnings(\"ignore\")\n",
    "                explainer_vi = shap.KernelExplainer(sim_func, available_as_sample)\n",
    "                # explainer_vi = shap.KernelExplainer(exact_shapley_gen_i.rbf_kernel_value, available_as_sample)\n",
    "                shap_ij = explainer_vi.shap_values(arr_j, silent=True)\n",
    "            explanation_df.append({\"instance a\": i,\n",
    "                                   \"instance b\": j,\n",
    "                                   \"SVERAD\": sveta_values_ij,\n",
    "                                   \"SHAP\": shap_ij,\n",
    "                                   \"SHAP_expected_value\": explainer_vi.expected_value,\n",
    "                                   })\n",
    "        break\n",
    "    explanation_df = pd.DataFrame(explanation_df)\n",
    "    if SAVE_EXPLANATIONS:\n",
    "        with open(save_path, \"wb\") as outfile:\n",
    "            pickle.dump(explanation_df, outfile)\n",
    "else:\n",
    "    with open(save_path, \"rb\") as infile:\n",
    "        explanation_df = pickle.load(infile)"
   ]
  },
  {
   "attachments": {},
   "cell_type": "markdown",
   "id": "d0e93322",
   "metadata": {},
   "source": [
    "### Correlation"
   ]
  },
  {
   "cell_type": "code",
   "execution_count": null,
   "id": "f3ccc9dc",
   "metadata": {},
   "outputs": [],
   "source": [
    "corr_df = []\n",
    "for i, row in explanation_df.iterrows():\n",
    "    if row[\"instance a\"] == row[\"instance b\"]:\n",
    "        continue\n",
    "    sverad_value = row[\"SVERAD\"]\n",
    "    shap = row[\"SHAP\"][0]\n",
    "    \n",
    "    \n",
    "    corr_sverad_SHAP, p_sverad_SHAP = pearsonr(sverad_value, shap)\n",
    "    \n",
    "\n",
    "    corr_df.append({\"a\": row[\"instance a\"], \"b\": row[\"instance b\"],  \"Correlation SVERAD - SHAP\": corr_sverad_SHAP})\n",
    "corr_df = pd.DataFrame(corr_df)\n",
    "display(corr_df)\n",
    "display(corr_df.mean())\n",
    "display(corr_df.std())"
   ]
  },
  {
   "cell_type": "code",
   "execution_count": null,
   "id": "82b4d8f5-6c52-4b44-b281-4c5febde3d31",
   "metadata": {
    "pycharm": {
     "name": "#%%\n"
    }
   },
   "outputs": [],
   "source": [
    "corr_df = []\n",
    "for i, row in explanation_df.iterrows():\n",
    "    if row[\"instance a\"] == row[\"instance b\"]:\n",
    "        continue\n",
    "    sveata_values = row[\"SVETA\"]\n",
    "    kernel_shap = row[\"SHAP\"][0]\n",
    "    \n",
    "    corr, p = pearsonr(sveata_values, kernel_shap)\n",
    "    corr_df.append({\"a\": row[\"instance a\"], \"b\": row[\"instance b\"], \"correlation\": corr})\n",
    "corr_df = pd.DataFrame(corr_df)\n",
    "# Fisher transformation\n",
    "corr_df[\"pearsons_r_fisher\"] = np.arctanh(corr_df.correlation)"
   ]
  },
  {
   "cell_type": "code",
   "execution_count": null,
   "id": "88e3239a-e530-4d29-90a2-b599b341fdc8",
   "metadata": {
    "pycharm": {
     "name": "#%%\n"
    }
   },
   "outputs": [
    {
     "data": {
      "image/png": "[encoded data removed]",
      "text/plain": [
       "<Figure size 576x432 with 1 Axes>"
      ]
     },
     "metadata": {
      "needs_background": "light"
     },
     "output_type": "display_data"
    }
   ],
   "source": [
    "fig, ax = plt.subplots(figsize=(8,6))\n",
    "ax.boxplot(corr_df.pearsons_r_fisher)\n",
    "#ax.set_ylim(-0.1,4.05)\n",
    "ax.set_ylabel(\"arctanh(Pearson's r)\")\n",
    "secax = ax.secondary_yaxis('right', functions=(np.tanh, np.arctanh))\n",
    "secax.set_ylabel(\"Pearson's r\")\n",
    "secax.set_yticks([-0.5, 0, 0.5, 0.75, 0.9]);"
   ]
  },
  {
   "cell_type": "code",
   "execution_count": null,
   "metadata": {
    "collapsed": false,
    "pycharm": {
     "name": "#%%\n"
    }
   },
   "outputs": [],
   "source": [
    "# Transforming values back."
   ]
  },
  {
   "cell_type": "code",
   "execution_count": null,
   "id": "e4856428-b105-4431-bac6-a52af3052901",
   "metadata": {
    "pycharm": {
     "name": "#%%\n"
    }
   },
   "outputs": [
    {
     "data": {
      "text/plain": [
       "0.649892998314384"
      ]
     },
     "execution_count": 8,
     "metadata": {},
     "output_type": "execute_result"
    }
   ],
   "source": [
    "np.tanh(corr_df[\"pearsons_r_fisher\"].mean())"
   ]
  },
  {
   "cell_type": "code",
   "execution_count": null,
   "id": "d43da3eb-e072-4f76-97dd-04d4a16f2cf7",
   "metadata": {
    "pycharm": {
     "name": "#%%\n"
    }
   },
   "outputs": [
    {
     "data": {
      "text/plain": [
       "0.2859206243481188"
      ]
     },
     "execution_count": 9,
     "metadata": {},
     "output_type": "execute_result"
    }
   ],
   "source": [
    "np.tanh(corr_df[\"pearsons_r_fisher\"].std())"
   ]
  },
  {
   "cell_type": "code",
   "execution_count": null,
   "id": "4ed10602-2e90-4279-9cd2-1c0ceb8cbc17",
   "metadata": {
    "pycharm": {
     "name": "#%%\n"
    }
   },
   "outputs": [
    {
     "data": {
      "text/plain": [
       "0.02871895496728314"
      ]
     },
     "execution_count": 10,
     "metadata": {},
     "output_type": "execute_result"
    }
   ],
   "source": [
    "np.tanh(corr_df[\"pearsons_r_fisher\"].min())"
   ]
  },
  {
   "cell_type": "code",
   "execution_count": null,
   "id": "5e2d08e4",
   "metadata": {
    "collapsed": false,
    "jupyter": {
     "outputs_hidden": false
    },
    "pycharm": {
     "name": "#%%\n"
    }
   },
   "outputs": [
    {
     "data": {
      "text/plain": [
       "0.9004001823616157"
      ]
     },
     "execution_count": 11,
     "metadata": {},
     "output_type": "execute_result"
    }
   ],
   "source": [
    "np.tanh(corr_df[\"pearsons_r_fisher\"].max())"
   ]
  }
 ],
 "metadata": {
  "kernelspec": {
   "display_name": "Python 3 (ipykernel)",
   "language": "python",
   "name": "python3"
  },
  "language_info": {
   "codemirror_mode": {
    "name": "ipython",
    "version": 3
   },
   "file_extension": ".py",
   "mimetype": "text/x-python",
   "name": "python",
   "nbconvert_exporter": "python",
   "pygments_lexer": "ipython3",
   "version": "3.10.5"
  }
 },
 "nbformat": 4,
 "nbformat_minor": 5
}
