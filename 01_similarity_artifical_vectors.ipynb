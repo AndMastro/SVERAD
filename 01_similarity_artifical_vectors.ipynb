{
 "cells": [
  {
   "cell_type": "markdown",
   "metadata": {
    "collapsed": false,
    "pycharm": {
     "name": "#%% md\n"
    }
   },
   "source": [
    "# Shapley, SVETA and SHAP values for a model system of low dimensionality."
   ]
  },
  {
   "cell_type": "code",
   "execution_count": 2,
   "metadata": {
    "collapsed": false,
    "pycharm": {
     "name": "#%%\n"
    }
   },
   "outputs": [],
   "source": [
    "from src.rbf_kernel import sveta_f_plus, sveta_f_minus\n",
    "from src.rbf_kernel import inv_muiltinom_coeff\n",
    "from src.rbf_kernel import tanimoto_similarity_sparse, tanimoto_similarity_dense\n",
    "\n",
    "from itertools import combinations\n",
    "import matplotlib.pyplot as plt\n",
    "import numpy as np\n",
    "from numpy.random import default_rng\n",
    "import os\n",
    "import pandas as pd\n",
    "import pickle\n",
    "from scipy.stats import pearsonr\n",
    "from scipy import sparse\n",
    "from shap import KernelExplainer\n",
    "from tqdm.auto import tqdm\n",
    "import warnings"
   ]
  },
  {
   "cell_type": "markdown",
   "metadata": {
    "collapsed": false,
    "pycharm": {
     "name": "#%% md\n"
    }
   },
   "source": [
    "## Calculation method for standard Shapley values."
   ]
  },
  {
   "cell_type": "code",
   "execution_count": 3,
   "metadata": {
    "collapsed": false,
    "pycharm": {
     "name": "#%%\n"
    }
   },
   "outputs": [],
   "source": [
    "class ExactTanimotoShapley:\n",
    "    \"\"\"Calculates the Shapley value according to the Shapley formalism.\n",
    "\n",
    "    \"\"\"\n",
    "    def __init__(self, ref_arr):\n",
    "        self.ref_arr = ref_arr\n",
    "    def sim(self, x):\n",
    "        \"\"\"Calculates the similarity of an instance x to the initialized vector `ref_arr`.\n",
    "        This can be treated equivalent to a prediction of the similarity to ref_arr given x.\n",
    "        Hence, we can explain the similarity with SHAP.\n",
    "        \"\"\"\n",
    "        return tanimoto_similarity_dense(x, self.ref_arr.reshape((1, -1)))\n",
    "\n",
    "    @staticmethod\n",
    "    def _sim(x,y):\n",
    "        intersection = x * y\n",
    "        union = 1 - ((1- x)* (1- y))\n",
    "        return np.sum(intersection) / np.sum(union)\n",
    "\n",
    "    def shapley_values(self, x):\n",
    "        ref = self.ref_arr\n",
    "        assert x.shape == ref.shape\n",
    "        shapley_vector = []\n",
    "        for f_idx, (f_x, f_ref) in enumerate(zip(x, ref)):\n",
    "            # Initializing the Shapley value as 0\n",
    "            shapley_value = 0\n",
    "            # Removing the assessed feature from the vectors\n",
    "            remaining_f_x = np.delete(x, f_idx)\n",
    "            remaining_f_ref = np.delete(ref, f_idx)\n",
    "\n",
    "            # Iterating over all coalition sizes\n",
    "            for coal_size in np.arange(0, x.shape[0]+1):\n",
    "                if coal_size == 0: # if empty coalition:\n",
    "                    if f_x == f_ref == 0:\n",
    "                        # if the feature is absent in both instances, it does not affect the Tanimoto similarity.\n",
    "                        # shapley value += 0 , or simply skip\n",
    "                        continue\n",
    "                    shapley_value += ((f_x*f_ref) -0) * inv_muiltinom_coeff(x.shape[0], coal_size)\n",
    "                    continue\n",
    "                feature_indices = np.arange(0, remaining_f_x.shape[0], dtype=int)\n",
    "\n",
    "                #Creating all feature combinations as possible coalitions.\n",
    "                for sel_features in combinations(feature_indices, r=coal_size):\n",
    "                    sel_features = np.array(sel_features)\n",
    "                    coal_x = remaining_f_x[sel_features]  # Coalition without assessed feature\n",
    "                    coal_ref = remaining_f_ref[sel_features]  # Coalition without assessed feature\n",
    "                    coal_x_fi = np.hstack([coal_x, [f_x]]) # Coalition with assessed feature\n",
    "                    coal_ref_refi = np.hstack([coal_ref, [f_ref]])  # Coalition with assessed feature\n",
    "                    if np.sum(coal_x_fi + coal_ref_refi) == 0:\n",
    "                        # if the all features (including the assessed feature) are absent in both instances, they do not affect the Tanimoto similarity.\n",
    "                        # shapley value += 0 , or simply skip\n",
    "                        continue\n",
    "                    if np.sum(coal_x + coal_ref) == 0: # if empty coalition (or coalition form only absent features), set subtracting term to 0\n",
    "                        shapley_value += (self._sim(coal_x_fi, coal_ref_refi)-0) * inv_muiltinom_coeff(x.shape[0], coal_size)\n",
    "                    else:\n",
    "                        shapley_value += (self._sim(coal_x_fi, coal_ref_refi) - self._sim(coal_x, coal_ref)) * inv_muiltinom_coeff(x.shape[0], coal_size)\n",
    "            shapley_vector.append(shapley_value)\n",
    "        return np.array(shapley_vector)"
   ]
  },
  {
   "cell_type": "markdown",
   "metadata": {
    "collapsed": false,
    "pycharm": {
     "name": "#%% md\n"
    }
   },
   "source": [
    "## Generating random vectors."
   ]
  },
  {
   "cell_type": "code",
   "execution_count": 4,
   "id": "125869ed-e951-4ac2-b8cd-927d26a8eac5",
   "metadata": {
    "pycharm": {
     "name": "#%%\n"
    }
   },
   "outputs": [],
   "source": [
    "# Initializing the random generator\n",
    "r_gen = default_rng(202206014)"
   ]
  },
  {
   "cell_type": "code",
   "execution_count": 5,
   "id": "1836ec6d-4795-4f5c-9cb7-1c68a96f0615",
   "metadata": {
    "pycharm": {
     "name": "#%%\n"
    }
   },
   "outputs": [],
   "source": [
    "random_vectors = r_gen.integers(0,2,(20,15))\n",
    "random_vectors_sparse = sparse.csr_matrix(random_vectors)\n",
    "sim_mat = tanimoto_similarity_sparse(random_vectors_sparse, random_vectors_sparse)"
   ]
  },
  {
   "cell_type": "markdown",
   "id": "8b3f73a0",
   "metadata": {
    "pycharm": {
     "name": "#%% md\n"
    }
   },
   "source": [
    "# Generating SVs, SVETA values and SHAP values.\n",
    "For all pairs SHAP SVETA and SVs are calculated and compared."
   ]
  },
  {
   "cell_type": "code",
   "execution_count": 9,
   "id": "29389d18-5390-4e70-a203-66ec6610d03e",
   "metadata": {
    "pycharm": {
     "name": "#%%\n"
    }
   },
   "outputs": [
    {
     "data": {
      "application/vnd.jupyter.widget-view+json": {
       "model_id": "230305d950644745804004b296c32a54",
       "version_major": 2,
       "version_minor": 0
      },
      "text/plain": [
       "  0%|          | 0/20 [00:00<?, ?it/s]"
      ]
     },
     "metadata": {},
     "output_type": "display_data"
    }
   ],
   "source": [
    "save_path = \"./pickle_dumps/artificial_vector_sim.pkl\"\n",
    "if not os.path.isfile(save_path):\n",
    "    explanation_df = []\n",
    "    # Iterating over all pairs\n",
    "    for i, vector_i in enumerate(random_vectors):\n",
    "        exact_shapley_gen_i = ExactTanimotoShapley(vector_i)\n",
    "        for j, vector_j in tqdm(enumerate(random_vectors), total=20):\n",
    "            shapley_ij = exact_shapley_gen_i.shapley_values(vector_j)\n",
    "\n",
    "            intersection_ij = vector_i * vector_j  # Vector where intersecting features are set to 1\n",
    "            union_ij = 1 - (1-vector_i) * (1-vector_j)  # Vector where features of the union are set to 1\n",
    "            diff_ij = union_ij - intersection_ij  # Vector where features from the symmetric difference are set to 1\n",
    "            sveta_value_f_plus_ij = sveta_f_plus(sum(intersection_ij), sum(diff_ij))\n",
    "            sveta_value_f_minus_ij = sveta_f_minus(sum(intersection_ij), sum(diff_ij))\n",
    "            sveta_values_ij = intersection_ij * sveta_value_f_plus_ij  + diff_ij * sveta_value_f_minus_ij\n",
    "\n",
    "            # Mask to get the 18 other vectors which are not i or j as background.\n",
    "            mask_background_sample = np.ones(20, dtype=bool)\n",
    "            mask_background_sample[i] = False\n",
    "            mask_background_sample[j] = False\n",
    "            with warnings.catch_warnings():\n",
    "                # ignore all caught warnings\n",
    "                warnings.filterwarnings(\"ignore\")\n",
    "                explainer_vec_i = KernelExplainer(exact_shapley_gen_i.sim, random_vectors[mask_background_sample])\n",
    "                shap_ij = explainer_vec_i.shap_values(vector_j)\n",
    "\n",
    "            explanation_df.append({\"instance a\": i,\n",
    "                                   \"instance b\": j,\n",
    "                                   \"Shapley\": shapley_ij,\n",
    "                                   \"SVETA\": sveta_values_ij,\n",
    "                                   \"SHAP\": shap_ij,\n",
    "                                   \"SHAP_expected_value\": explainer_vec_i.expected_value[0],\n",
    "                                   })\n",
    "            \n",
    "        break\n",
    "    explanation_df = pd.DataFrame(explanation_df)\n",
    "    # with open(save_path, \"wb\") as outfile:\n",
    "    #     pickle.dump(explanation_df, outfile)\n",
    "else:\n",
    "    with open(save_path, \"rb\") as infile:\n",
    "        explanation_df = pickle.load(infile)"
   ]
  },
  {
   "cell_type": "code",
   "execution_count": 10,
   "id": "42313198-6623-4dad-bc03-41019421e0fa",
   "metadata": {
    "pycharm": {
     "name": "#%%\n"
    }
   },
   "outputs": [],
   "source": [
    "corr_df = []\n",
    "for i, row in explanation_df.iterrows():\n",
    "    if row[\"instance a\"] == row[\"instance b\"]:\n",
    "        continue\n",
    "    shapley_exact = row[\"Shapley\"]\n",
    "    sveta_value = row[\"SVETA\"]\n",
    "    # Check if all values are closer than 10**-10 to shapley values.\n",
    "    assert all(np.isclose(shapley_exact, sveta_value, 0, 1e-10))\n",
    "    shap = row[\"SHAP\"][0]\n",
    "    \n",
    "    corr, p = pearsonr(shap, shapley_exact)\n",
    "    corr_df.append({\"a\": row[\"instance a\"], \"b\": row[\"instance b\"], \"corrleation\": corr})\n",
    "corr_df = pd.DataFrame(corr_df)\n",
    "corr_df[\"pearsons_r_fisher\"] = np.arctanh(corr_df.corrleation)"
   ]
  },
  {
   "cell_type": "code",
   "execution_count": 16,
   "id": "366afe45",
   "metadata": {},
   "outputs": [
    {
     "name": "stdout",
     "output_type": "stream",
     "text": [
      "[ 0.          0.20108422  0.         -0.09181261 -0.09181261 -0.09181261\n",
      "  0.20108422 -0.09181261  0.20108422  0.         -0.09181261  0.\n",
      " -0.09181261  0.20108422  0.20108422]\n",
      "[ 0.          0.20108422  0.         -0.09181261 -0.09181261 -0.09181261\n",
      "  0.20108422 -0.09181261  0.20108422  0.         -0.09181261  0.\n",
      " -0.09181261  0.20108422  0.20108422]\n"
     ]
    }
   ],
   "source": [
    "SV = explanation_df.loc[19][\"Shapley\"]\n",
    "SVeta = explanation_df.loc[19][\"SVETA\"]\n",
    "\n",
    "SV == SVeta\n",
    "\n",
    "print(SV)\n",
    "print(SVeta)"
   ]
  },
  {
   "cell_type": "code",
   "execution_count": 12,
   "id": "2c062778",
   "metadata": {},
   "outputs": [
    {
     "data": {
      "text/html": [
       "<div>\n",
       "<style scoped>\n",
       "    .dataframe tbody tr th:only-of-type {\n",
       "        vertical-align: middle;\n",
       "    }\n",
       "\n",
       "    .dataframe tbody tr th {\n",
       "        vertical-align: top;\n",
       "    }\n",
       "\n",
       "    .dataframe thead th {\n",
       "        text-align: right;\n",
       "    }\n",
       "</style>\n",
       "<table border=\"1\" class=\"dataframe\">\n",
       "  <thead>\n",
       "    <tr style=\"text-align: right;\">\n",
       "      <th></th>\n",
       "      <th>instance a</th>\n",
       "      <th>instance b</th>\n",
       "      <th>Shapley</th>\n",
       "      <th>SVETA</th>\n",
       "      <th>SHAP</th>\n",
       "      <th>SHAP_expected_value</th>\n",
       "    </tr>\n",
       "  </thead>\n",
       "  <tbody>\n",
       "    <tr>\n",
       "      <th>0</th>\n",
       "      <td>0</td>\n",
       "      <td>0</td>\n",
       "      <td>[0.0, 0.125, 0.0, 0.125, 0.0, 0.125, 0.125, 0....</td>\n",
       "      <td>[0.0, 0.125, 0.0, 0.125, 0.0, 0.125, 0.125, 0....</td>\n",
       "      <td>[[0.025021453985250394, 0.0621710433565021, 0....</td>\n",
       "      <td>0.404957</td>\n",
       "    </tr>\n",
       "    <tr>\n",
       "      <th>1</th>\n",
       "      <td>0</td>\n",
       "      <td>1</td>\n",
       "      <td>[0.0, 0.21080064716424668, 0.0, -0.06373365691...</td>\n",
       "      <td>[0.0, 0.21080064716428348, 0.0, -0.06373365691...</td>\n",
       "      <td>[[0.011984548201769783, 0.053635652794551986, ...</td>\n",
       "      <td>0.408936</td>\n",
       "    </tr>\n",
       "    <tr>\n",
       "      <th>2</th>\n",
       "      <td>0</td>\n",
       "      <td>2</td>\n",
       "      <td>[-0.06373365691547594, -0.06373365691547594, -...</td>\n",
       "      <td>[-0.06373365691547511, -0.06373365691547511, -...</td>\n",
       "      <td>[[-0.022159931237118846, -0.038162319577264084...</td>\n",
       "      <td>0.408936</td>\n",
       "    </tr>\n",
       "    <tr>\n",
       "      <th>3</th>\n",
       "      <td>0</td>\n",
       "      <td>3</td>\n",
       "      <td>[0.0, 0.16077437519744564, -0.0978265146534485...</td>\n",
       "      <td>[0.0, 0.1607743751974522, -0.09782651465343777...</td>\n",
       "      <td>[[0.014714621034786917, 0.051464956926397805, ...</td>\n",
       "      <td>0.397540</td>\n",
       "    </tr>\n",
       "    <tr>\n",
       "      <th>4</th>\n",
       "      <td>0</td>\n",
       "      <td>4</td>\n",
       "      <td>[-0.027950432758128335, -0.027950432758128335,...</td>\n",
       "      <td>[-0.02795043275812507, -0.02795043275812507, -...</td>\n",
       "      <td>[[-0.01576558333765512, -0.036699699855116494,...</td>\n",
       "      <td>0.418908</td>\n",
       "    </tr>\n",
       "    <tr>\n",
       "      <th>5</th>\n",
       "      <td>0</td>\n",
       "      <td>5</td>\n",
       "      <td>[0.0, 0.250030864197499, 0.0, 0.25003086419749...</td>\n",
       "      <td>[0.0, 0.2500308641975309, 0.0, 0.2500308641975...</td>\n",
       "      <td>[[0.012524434836514381, 0.058747125572303216, ...</td>\n",
       "      <td>0.410788</td>\n",
       "    </tr>\n",
       "    <tr>\n",
       "      <th>6</th>\n",
       "      <td>0</td>\n",
       "      <td>6</td>\n",
       "      <td>[-0.07345008526826582, -0.07345008526826582, -...</td>\n",
       "      <td>[-0.07345008526826709, -0.07345008526826709, -...</td>\n",
       "      <td>[[-0.024256671255699507, -0.03988947188178404,...</td>\n",
       "      <td>0.407253</td>\n",
       "    </tr>\n",
       "    <tr>\n",
       "      <th>7</th>\n",
       "      <td>0</td>\n",
       "      <td>7</td>\n",
       "      <td>[0.0, 0.18573192239858355, -0.128597883597882,...</td>\n",
       "      <td>[0.0, 0.185731922398589, -0.1285978835978836, ...</td>\n",
       "      <td>[[0.01758242118428833, 0.05876990384117938, -0...</td>\n",
       "      <td>0.394121</td>\n",
       "    </tr>\n",
       "    <tr>\n",
       "      <th>8</th>\n",
       "      <td>0</td>\n",
       "      <td>8</td>\n",
       "      <td>[-0.12853764921947142, 0.16435917617736195, -0...</td>\n",
       "      <td>[-0.1285376492194674, 0.16435917617735799, -0....</td>\n",
       "      <td>[[-0.033036117339338145, 0.056040612592561684,...</td>\n",
       "      <td>0.392101</td>\n",
       "    </tr>\n",
       "    <tr>\n",
       "      <th>9</th>\n",
       "      <td>0</td>\n",
       "      <td>9</td>\n",
       "      <td>[0.0, -0.06429894179893791, -0.064298941798937...</td>\n",
       "      <td>[0.0, -0.0642989417989418, -0.0642989417989418...</td>\n",
       "      <td>[[0.01258981566256893, -0.041824111382980124, ...</td>\n",
       "      <td>0.410788</td>\n",
       "    </tr>\n",
       "    <tr>\n",
       "      <th>10</th>\n",
       "      <td>0</td>\n",
       "      <td>10</td>\n",
       "      <td>[0.0, 0.20108421881147168, 0.0, 0.201084218811...</td>\n",
       "      <td>[0.0, 0.2010842188114915, 0.0, 0.2010842188114...</td>\n",
       "      <td>[[0.014506827717641028, 0.056033934550520303, ...</td>\n",
       "      <td>0.402202</td>\n",
       "    </tr>\n",
       "    <tr>\n",
       "      <th>11</th>\n",
       "      <td>0</td>\n",
       "      <td>11</td>\n",
       "      <td>[-0.09560048537322309, -0.09560048537322309, 0...</td>\n",
       "      <td>[-0.0956004853732127, -0.0956004853732127, 0.0...</td>\n",
       "      <td>[[-0.02738466903877574, -0.03818655096635554, ...</td>\n",
       "      <td>0.399677</td>\n",
       "    </tr>\n",
       "    <tr>\n",
       "      <th>12</th>\n",
       "      <td>0</td>\n",
       "      <td>12</td>\n",
       "      <td>[0.0, -0.08573192239858252, -0.085731922398582...</td>\n",
       "      <td>[0.0, -0.08573192239858911, -0.085731922398589...</td>\n",
       "      <td>[[0.014279235789943574, -0.041842322273503624,...</td>\n",
       "      <td>0.405232</td>\n",
       "    </tr>\n",
       "    <tr>\n",
       "      <th>13</th>\n",
       "      <td>0</td>\n",
       "      <td>13</td>\n",
       "      <td>[0.0, -0.127011684303343, 0.0, 0.2127204585537...</td>\n",
       "      <td>[0.0, -0.12701168430335094, 0.0, 0.21272045855...</td>\n",
       "      <td>[[0.01768214412022133, -0.044037355620627675, ...</td>\n",
       "      <td>0.396590</td>\n",
       "    </tr>\n",
       "    <tr>\n",
       "      <th>14</th>\n",
       "      <td>0</td>\n",
       "      <td>14</td>\n",
       "      <td>[0.0, -0.10716490299823339, -0.107164902998233...</td>\n",
       "      <td>[0.0, -0.1071649029982363, -0.1071649029982363...</td>\n",
       "      <td>[[0.01598545236440333, -0.041841099814186586, ...</td>\n",
       "      <td>0.399677</td>\n",
       "    </tr>\n",
       "    <tr>\n",
       "      <th>15</th>\n",
       "      <td>0</td>\n",
       "      <td>15</td>\n",
       "      <td>[-0.09181260658533244, -0.09181260658533244, 0...</td>\n",
       "      <td>[-0.09181260658533386, -0.09181260658533386, 0...</td>\n",
       "      <td>[[-0.027176488662146753, -0.039844433722480636...</td>\n",
       "      <td>0.402202</td>\n",
       "    </tr>\n",
       "    <tr>\n",
       "      <th>16</th>\n",
       "      <td>0</td>\n",
       "      <td>16</td>\n",
       "      <td>[0.0, -0.07345008526826585, 0.0, -0.0734500852...</td>\n",
       "      <td>[0.0, -0.07345008526826709, 0.0, -0.0734500852...</td>\n",
       "      <td>[[0.012985082607240973, -0.0398043529343167, 0...</td>\n",
       "      <td>0.407253</td>\n",
       "    </tr>\n",
       "    <tr>\n",
       "      <th>17</th>\n",
       "      <td>0</td>\n",
       "      <td>17</td>\n",
       "      <td>[0.0, -0.03186682845773979, 0.0, -0.0318668284...</td>\n",
       "      <td>[0.0, -0.03186682845773755, 0.0, -0.0318668284...</td>\n",
       "      <td>[[0.009310306485278894, -0.038092996030127294,...</td>\n",
       "      <td>0.418195</td>\n",
       "    </tr>\n",
       "    <tr>\n",
       "      <th>18</th>\n",
       "      <td>0</td>\n",
       "      <td>18</td>\n",
       "      <td>[-0.04948488629807125, 0.19514078717372435, -0...</td>\n",
       "      <td>[-0.04948488629807311, 0.19514078717375422, -0...</td>\n",
       "      <td>[[-0.018899513994406467, 0.04950243646185092, ...</td>\n",
       "      <td>0.411582</td>\n",
       "    </tr>\n",
       "    <tr>\n",
       "      <th>19</th>\n",
       "      <td>0</td>\n",
       "      <td>19</td>\n",
       "      <td>[0.0, 0.20108421881147168, 0.0, -0.09181260658...</td>\n",
       "      <td>[0.0, 0.2010842188114915, 0.0, -0.091812606585...</td>\n",
       "      <td>[[0.014549654353388232, 0.05604231932941484, 0...</td>\n",
       "      <td>0.402202</td>\n",
       "    </tr>\n",
       "  </tbody>\n",
       "</table>\n",
       "</div>"
      ],
      "text/plain": [
       "    instance a  instance b                                            Shapley  \\\n",
       "0            0           0  [0.0, 0.125, 0.0, 0.125, 0.0, 0.125, 0.125, 0....   \n",
       "1            0           1  [0.0, 0.21080064716424668, 0.0, -0.06373365691...   \n",
       "2            0           2  [-0.06373365691547594, -0.06373365691547594, -...   \n",
       "3            0           3  [0.0, 0.16077437519744564, -0.0978265146534485...   \n",
       "4            0           4  [-0.027950432758128335, -0.027950432758128335,...   \n",
       "5            0           5  [0.0, 0.250030864197499, 0.0, 0.25003086419749...   \n",
       "6            0           6  [-0.07345008526826582, -0.07345008526826582, -...   \n",
       "7            0           7  [0.0, 0.18573192239858355, -0.128597883597882,...   \n",
       "8            0           8  [-0.12853764921947142, 0.16435917617736195, -0...   \n",
       "9            0           9  [0.0, -0.06429894179893791, -0.064298941798937...   \n",
       "10           0          10  [0.0, 0.20108421881147168, 0.0, 0.201084218811...   \n",
       "11           0          11  [-0.09560048537322309, -0.09560048537322309, 0...   \n",
       "12           0          12  [0.0, -0.08573192239858252, -0.085731922398582...   \n",
       "13           0          13  [0.0, -0.127011684303343, 0.0, 0.2127204585537...   \n",
       "14           0          14  [0.0, -0.10716490299823339, -0.107164902998233...   \n",
       "15           0          15  [-0.09181260658533244, -0.09181260658533244, 0...   \n",
       "16           0          16  [0.0, -0.07345008526826585, 0.0, -0.0734500852...   \n",
       "17           0          17  [0.0, -0.03186682845773979, 0.0, -0.0318668284...   \n",
       "18           0          18  [-0.04948488629807125, 0.19514078717372435, -0...   \n",
       "19           0          19  [0.0, 0.20108421881147168, 0.0, -0.09181260658...   \n",
       "\n",
       "                                                SVETA  \\\n",
       "0   [0.0, 0.125, 0.0, 0.125, 0.0, 0.125, 0.125, 0....   \n",
       "1   [0.0, 0.21080064716428348, 0.0, -0.06373365691...   \n",
       "2   [-0.06373365691547511, -0.06373365691547511, -...   \n",
       "3   [0.0, 0.1607743751974522, -0.09782651465343777...   \n",
       "4   [-0.02795043275812507, -0.02795043275812507, -...   \n",
       "5   [0.0, 0.2500308641975309, 0.0, 0.2500308641975...   \n",
       "6   [-0.07345008526826709, -0.07345008526826709, -...   \n",
       "7   [0.0, 0.185731922398589, -0.1285978835978836, ...   \n",
       "8   [-0.1285376492194674, 0.16435917617735799, -0....   \n",
       "9   [0.0, -0.0642989417989418, -0.0642989417989418...   \n",
       "10  [0.0, 0.2010842188114915, 0.0, 0.2010842188114...   \n",
       "11  [-0.0956004853732127, -0.0956004853732127, 0.0...   \n",
       "12  [0.0, -0.08573192239858911, -0.085731922398589...   \n",
       "13  [0.0, -0.12701168430335094, 0.0, 0.21272045855...   \n",
       "14  [0.0, -0.1071649029982363, -0.1071649029982363...   \n",
       "15  [-0.09181260658533386, -0.09181260658533386, 0...   \n",
       "16  [0.0, -0.07345008526826709, 0.0, -0.0734500852...   \n",
       "17  [0.0, -0.03186682845773755, 0.0, -0.0318668284...   \n",
       "18  [-0.04948488629807311, 0.19514078717375422, -0...   \n",
       "19  [0.0, 0.2010842188114915, 0.0, -0.091812606585...   \n",
       "\n",
       "                                                 SHAP  SHAP_expected_value  \n",
       "0   [[0.025021453985250394, 0.0621710433565021, 0....             0.404957  \n",
       "1   [[0.011984548201769783, 0.053635652794551986, ...             0.408936  \n",
       "2   [[-0.022159931237118846, -0.038162319577264084...             0.408936  \n",
       "3   [[0.014714621034786917, 0.051464956926397805, ...             0.397540  \n",
       "4   [[-0.01576558333765512, -0.036699699855116494,...             0.418908  \n",
       "5   [[0.012524434836514381, 0.058747125572303216, ...             0.410788  \n",
       "6   [[-0.024256671255699507, -0.03988947188178404,...             0.407253  \n",
       "7   [[0.01758242118428833, 0.05876990384117938, -0...             0.394121  \n",
       "8   [[-0.033036117339338145, 0.056040612592561684,...             0.392101  \n",
       "9   [[0.01258981566256893, -0.041824111382980124, ...             0.410788  \n",
       "10  [[0.014506827717641028, 0.056033934550520303, ...             0.402202  \n",
       "11  [[-0.02738466903877574, -0.03818655096635554, ...             0.399677  \n",
       "12  [[0.014279235789943574, -0.041842322273503624,...             0.405232  \n",
       "13  [[0.01768214412022133, -0.044037355620627675, ...             0.396590  \n",
       "14  [[0.01598545236440333, -0.041841099814186586, ...             0.399677  \n",
       "15  [[-0.027176488662146753, -0.039844433722480636...             0.402202  \n",
       "16  [[0.012985082607240973, -0.0398043529343167, 0...             0.407253  \n",
       "17  [[0.009310306485278894, -0.038092996030127294,...             0.418195  \n",
       "18  [[-0.018899513994406467, 0.04950243646185092, ...             0.411582  \n",
       "19  [[0.014549654353388232, 0.05604231932941484, 0...             0.402202  "
      ]
     },
     "execution_count": 12,
     "metadata": {},
     "output_type": "execute_result"
    }
   ],
   "source": [
    "explanation_df"
   ]
  },
  {
   "cell_type": "code",
   "execution_count": null,
   "id": "337f3ea8-53fc-4fdb-9bed-71508c93c441",
   "metadata": {
    "pycharm": {
     "name": "#%%\n"
    }
   },
   "outputs": [],
   "source": [
    "assert corr_df.query(\"corrleation.isna()\").shape[0] == 0"
   ]
  },
  {
   "cell_type": "code",
   "execution_count": null,
   "id": "9d7cbae3-1922-4ad5-bdb4-6c70f7819af1",
   "metadata": {
    "pycharm": {
     "name": "#%%\n"
    }
   },
   "outputs": [
    {
     "data": {
      "image/png": "[encoded data removed]",
      "text/plain": [
       "<Figure size 576x432 with 1 Axes>"
      ]
     },
     "metadata": {
      "needs_background": "light"
     },
     "output_type": "display_data"
    }
   ],
   "source": [
    "fig, ax = plt.subplots(figsize=(8,6))\n",
    "ax.boxplot(corr_df.pearsons_r_fisher)\n",
    "ax.set_ylabel(\"arctanh(Pearson's r)\")\n",
    "secax = ax.secondary_yaxis('right', functions=(np.tanh, np.arctanh))\n",
    "secax.set_ylabel(\"Pearson's r\")\n",
    "secax.set_yticks([-0.5, 0, 0.5, 0.75, 0.823, 0.9, 0.95, 0.99]);\n",
    "ax.set_xlabel(\"\")\n",
    "plt.tight_layout()"
   ]
  },
  {
   "cell_type": "code",
   "execution_count": null,
   "id": "7c6d0a32-8a30-4ccb-813c-266a22718239",
   "metadata": {
    "pycharm": {
     "name": "#%%\n"
    }
   },
   "outputs": [
    {
     "data": {
      "text/plain": [
       "0.8236403539669996"
      ]
     },
     "execution_count": 9,
     "metadata": {},
     "output_type": "execute_result"
    }
   ],
   "source": [
    "np.tanh(corr_df[\"pearsons_r_fisher\"].mean())"
   ]
  },
  {
   "cell_type": "code",
   "execution_count": null,
   "id": "544fe86a",
   "metadata": {
    "collapsed": false,
    "jupyter": {
     "outputs_hidden": false
    },
    "pycharm": {
     "name": "#%%\n"
    }
   },
   "outputs": [
    {
     "data": {
      "text/plain": [
       "0.25006282724875234"
      ]
     },
     "execution_count": 10,
     "metadata": {},
     "output_type": "execute_result"
    }
   ],
   "source": [
    "np.tanh(corr_df[\"pearsons_r_fisher\"].std())"
   ]
  },
  {
   "cell_type": "code",
   "execution_count": null,
   "id": "c64f49f2",
   "metadata": {
    "collapsed": false,
    "jupyter": {
     "outputs_hidden": false
    },
    "pycharm": {
     "name": "#%%\n"
    }
   },
   "outputs": [],
   "source": []
  }
 ],
 "metadata": {
  "kernelspec": {
   "display_name": "Python 3 (ipykernel)",
   "language": "python",
   "name": "python3"
  },
  "language_info": {
   "codemirror_mode": {
    "name": "ipython",
    "version": 3
   },
   "file_extension": ".py",
   "mimetype": "text/x-python",
   "name": "python",
   "nbconvert_exporter": "python",
   "pygments_lexer": "ipython3",
   "version": "3.10.5"
  }
 },
 "nbformat": 4,
 "nbformat_minor": 5
}
